{
 "cells": [
  {
   "cell_type": "code",
   "execution_count": 306,
   "metadata": {},
   "outputs": [],
   "source": [
    "import numpy as np\n",
    "import matplotlib.pyplot as plt\n",
    "import pandas as pd\n",
    "from tqdm import tqdm #library to make a progress bar when doing long for loops\n",
    "from scipy.optimize import curve_fit #for forcing curve fit\n",
    "import time #for testing efficiency of code\n",
    "\n",
    "import warnings\n",
    "warnings.filterwarnings('ignore') #suppressed normal warnings (disable this if something stops working)"
   ]
  },
  {
   "cell_type": "code",
   "execution_count": 333,
   "metadata": {},
   "outputs": [
    {
     "data": {
      "text/plain": [
       "102.520181881846"
      ]
     },
     "execution_count": 333,
     "metadata": {},
     "output_type": "execute_result"
    }
   ],
   "source": [
    "#Import data for processing\n",
    "\n",
    "filename = \"./20-08-2020/SMC_4rose_4.xlsx\"\n",
    "#filename = \"./31-08-2020/SMC_y_zigzag9.xlsx\"\n",
    "data = pd.read_excel(filename, \n",
    "                    names = [\"globaltime\",\"dt\",'rb1x','rb1y','rb1z','rb2x','rb2y','rb2z',\n",
    "                            'rb3x','rb3y','rb3z','rb4x','rb4y','rb4z','rb5x','rb5y','rb5z',\n",
    "                            'rb6x','rb6y','rb6z','rb7x','rb7y','rb7z','rb8x','rb8y','rb8z',\n",
    "                            'xd','yd','thetad'])\n",
    "\n",
    "while data.iloc[0]['rb1z']==0.0:\n",
    "    data = data.drop(0)\n",
    "    data.index-=1\n",
    "      \n",
    "data.iloc[0]['rb1z']        \n"
   ]
  },
  {
   "cell_type": "code",
   "execution_count": 334,
   "metadata": {
    "scrolled": true
   },
   "outputs": [],
   "source": [
    "#calculate robot position at each point\n",
    "\n",
    "#calculate the center of the robot\n",
    "Adet = (data['rb1x']*(data['rb4y']-data['rb6y']) -\n",
    "       data['rb1y']*(data['rb4x']-data['rb6x']) +\n",
    "       data['rb4x']*data['rb6y']-data['rb6x']*data['rb4y'])\n",
    "\n",
    "Bdet = ((data['rb1x']**2+data['rb1y']**2)*(data['rb6y']-data['rb4y'])  +\n",
    "       (data['rb4x']**2+data['rb4y']**2)*(data['rb1y']-data['rb6y'])  +\n",
    "       (data['rb6x']**2+data['rb6y']**2)*(data['rb4y']-data['rb1y']) )\n",
    "\n",
    "Cdet = ((data['rb1x']**2+data['rb1y']**2)*(data['rb4x']-data['rb6x'])  +\n",
    "       (data['rb4x']**2+data['rb4y']**2)*(data['rb6x']-data['rb1x'])  +\n",
    "       (data['rb6x']**2+data['rb6y']**2)*(data['rb1x']-data['rb4x']) )\n",
    "\n",
    "x_r = -Bdet/(2.*Adet)/1000.+Bdet[0]/(2.*Adet[0])/1000. #robot global position x in meters (adjusted to origin)\n",
    "y_r = -Cdet/(2.*Adet)/1000.+Cdet[0]/(2.*Adet[0])/1000. #robot global position y in meters\n",
    "\n",
    "\n",
    "x_mid = (data['rb1x']+data['rb8x'])/2./1000.+Bdet[0]/(2.*Adet[0])/1000. #calculate the midpoint of wheel 1 (adjusted to origin)\n",
    "y_mid = (data['rb1y']+data['rb8y'])/2./1000.+Cdet[0]/(2.*Adet[0])/1000.\n",
    "\n",
    "#rotate desired position to be in line with robot\n",
    "#xd_rot =data['xd']*np.cos(np.arctan2(y_mid[0]-y_r[0],x_mid[0]-x_r[0]))-data['yd']*np.sin(np.arctan2(y_mid[0]-y_r[0],x_mid[0]-x_r[0]))\n",
    "#yd_rot =data['yd']*np.cos(np.arctan2(y_mid[0]-y_r[0],x_mid[0]-x_r[0]))+data['xd']*np.sin(np.arctan2(y_mid[0]-y_r[0],x_mid[0]-x_r[0]))\n",
    "xd_rot = data['xd']\n",
    "yd_rot = data['yd']\n",
    "\n",
    "\n",
    "xr_rot =x_r*np.cos(np.arctan2(y_mid[0]-y_r[0],x_mid[0]-x_r[0]))+y_r*np.sin(np.arctan2(y_mid[0]-y_r[0],x_mid[0]-x_r[0]))\n",
    "yr_rot =y_r*np.cos(np.arctan2(y_mid[0]-y_r[0],x_mid[0]-x_r[0]))-x_r*np.sin(np.arctan2(y_mid[0]-y_r[0],x_mid[0]-x_r[0]))\n",
    "\n",
    "\n",
    "#set robot initial position to the origin\n",
    "#x_r = x_r+Bdet[0]/(2.*Adet[0])/1000. #robot position x in meters starting at origin\n",
    "#y_r = y_r+Cdet[0]/(2.*Adet[0])/1000. #robot global position y in meters  starting at origin\n",
    "theta_r = np.arctan2(y_mid-y_r,x_mid-x_r) - np.arctan2(y_mid[0]-y_r[0],x_mid[0]-x_r[0]) #robot angle starting at 0"
   ]
  },
  {
   "cell_type": "code",
   "execution_count": 335,
   "metadata": {},
   "outputs": [],
   "source": [
    "#cast robot info into a new dataframe\n",
    "\n",
    "pdata = pd.DataFrame()\n",
    "pdata.insert(0,\"globaltime\", data['globaltime'],True) #get global time\n",
    "pdata.insert(1, \"x_r\", xr_rot,True) #get robot positions (adjusted to origin)\n",
    "pdata.insert(2, \"y_r\", yr_rot,True)\n",
    "pdata.insert(3, \"theta_r\", theta_r,True)\n",
    "\n",
    "pdata.insert(4, \"x_d\", xd_rot,True) #get robot desired positions (adjusted for starting orientation)\n",
    "pdata.insert(5, \"y_d\", yd_rot,True)\n",
    "pdata.insert(6, \"theta_d\", data['thetad'],True)\n",
    "\n",
    "pdata.insert(7,'e_x', pdata['x_r']-pdata['x_d']) #calculate the errors at each point\n",
    "pdata.insert(8,'e_y', pdata['y_r']-pdata['y_d'])\n",
    "pdata.insert(9,'e_theta', pdata['theta_r']-pdata['theta_d'])\n",
    "\n",
    "pdata.insert(10,'e_x_nt',np.zeros(len(pdata['x_r'])))\n",
    "pdata.insert(11,'e_y_nt',np.zeros(len(pdata['x_r'])))\n",
    "pdata.insert(12,'e_theta_nt',np.zeros(len(pdata['x_r'])))\n",
    "\n",
    "#for i in range (1000,len(pdata['theta_r'])): #use to drop the last x amount of data\n",
    "#    pdata = pdata.drop(i)\n",
    "\n",
    "#for i in range(0, 200):\n",
    "#    pdata = pdata.drop(i)"
   ]
  },
  {
   "cell_type": "code",
   "execution_count": 336,
   "metadata": {
    "scrolled": true
   },
   "outputs": [
    {
     "name": "stderr",
     "output_type": "stream",
     "text": [
      "100%|█████████████████████████████████████████████████████████████████████████████| 5848/5848 [00:20<00:00, 280.25it/s]\n"
     ]
    }
   ],
   "source": [
    "Chopnum=100\n",
    "Min_index = 0\n",
    "\n",
    "for i in tqdm(range(Chopnum, len(pdata['x_r'])-Chopnum-1)): #Minimize total RMSE\n",
    "    #print(i)\n",
    "    temp = np.sqrt(np.square(pdata.at[i,'x_r']-pdata[i-Chopnum:i+Chopnum]['x_d']) #Using ABS is about twice as fast, but gives a different answer\n",
    "               + np.square(pdata.at[i,'y_r']-pdata[i-Chopnum:i+Chopnum]['y_d']) \n",
    "               + np.square(pdata.at[i,'theta_r']-pdata[i-Chopnum:i+Chopnum]['theta_d']))\n",
    "    Min_index= np.argmin(temp)\n",
    "    \n",
    "    pdata.iat[i,10] = (pdata.iat[i,1]-pdata.iat[Min_index,4])\n",
    "    pdata.iat[i,11] = (pdata.iat[i,2]-pdata.iat[Min_index,5])\n",
    "    pdata.iat[i,12] = (pdata.iat[i,3]-pdata.iat[Min_index,6])\n",
    "\n",
    "    \n",
    "pdata.drop(index=np.linspace(0,Chopnum,num=Chopnum+1,dtype=int),inplace=True)\n",
    "pdata.drop(index=np.linspace(len(pdata['theta_r'])-Chopnum,len(pdata['theta_r']),num=Chopnum+1,dtype=int),inplace=True)\n",
    "pdata.reset_index(inplace=True, drop=True)"
   ]
  },
  {
   "cell_type": "code",
   "execution_count": 337,
   "metadata": {
    "scrolled": true
   },
   "outputs": [],
   "source": [
    "#Do additional trimming here, don't forget to fix the indexing after!!!!\n",
    "for i in range(0, 200):\n",
    "    pdata = pdata.drop(i)\n",
    "pdata.index-=200"
   ]
  },
  {
   "cell_type": "code",
   "execution_count": 338,
   "metadata": {},
   "outputs": [],
   "source": [
    "RMSE_x = np.sqrt(sum(pdata['e_x']**2)/len(pdata['e_x']))\n",
    "RMSE_y = np.sqrt(sum(pdata['e_y']**2)/len(pdata['e_y']))\n",
    "RMSE_theta = np.sqrt(sum(pdata['e_theta']**2)/len(pdata['e_theta']))\n",
    "\n",
    "RMSE_x_nt = np.sqrt(sum(pdata['e_x_nt']**2)/len(pdata['e_x']))\n",
    "RMSE_y_nt = np.sqrt(sum(pdata['e_y_nt']**2)/len(pdata['e_y']))\n",
    "RMSE_theta_nt = np.sqrt(sum(pdata['e_theta_nt']**2)/len(pdata['e_theta']))"
   ]
  },
  {
   "cell_type": "code",
   "execution_count": 339,
   "metadata": {},
   "outputs": [
    {
     "data": {
      "image/png": "[encoded data removed]",
      "text/plain": [
       "<Figure size 432x288 with 1 Axes>"
      ]
     },
     "metadata": {
      "needs_background": "light"
     },
     "output_type": "display_data"
    }
   ],
   "source": [
    "ax = plt.subplot(1,1,1)\n",
    "#pdata['x_d'][0] = 0\n",
    "ax.plot(pdata['x_r'],pdata['y_r'],pdata['x_d'],pdata['y_d'])\n",
    "ax.legend(['real path', 'desired path'])\n",
    "#ax.plot(pdata.iloc[0]['x_d'],pdata.iloc[0]['y_d'],linewidth=6)\n",
    "#print(pdata.iloc[0]['x_d'])\n",
    "#print(pdata.iloc[0]['y_d'])\n",
    "#print(np.arctan2(y_mid[0],x_mid[0])*180/np.pi)\n",
    "#plt.plot(pdata['x_r'],pdata['y_r'],pdata['x_d'],pdata['y_d'])\n",
    "#plt.plot(pdata[0]['x_d'],pdata[0]['y_d'])\n",
    "plt.xlabel('x (m)')\n",
    "plt.ylabel('y (m)')\n",
    "plt.show()"
   ]
  },
  {
   "cell_type": "code",
   "execution_count": 340,
   "metadata": {},
   "outputs": [
    {
     "name": "stdout",
     "output_type": "stream",
     "text": [
      "0.12410133702338945\n",
      "0.12394027461765447\n",
      "0.014838576613394047\n",
      "0.008989507548234313\n",
      "0.011640735727473105\n",
      "0.014533616370467777\n"
     ]
    }
   ],
   "source": [
    "print(RMSE_x)\n",
    "print(RMSE_y)\n",
    "print(RMSE_theta)\n",
    "\n",
    "print(RMSE_x_nt)\n",
    "print(RMSE_y_nt)\n",
    "print(RMSE_theta_nt)"
   ]
  },
  {
   "cell_type": "code",
   "execution_count": 33,
   "metadata": {
    "scrolled": true
   },
   "outputs": [
    {
     "ename": "ValueError",
     "evalue": "array must not contain infs or NaNs",
     "output_type": "error",
     "traceback": [
      "\u001b[1;31m---------------------------------------------------------------------------\u001b[0m",
      "\u001b[1;31mValueError\u001b[0m                                Traceback (most recent call last)",
      "\u001b[1;32m<ipython-input-33-1eb4584fd53e>\u001b[0m in \u001b[0;36m<module>\u001b[1;34m\u001b[0m\n\u001b[0;32m      2\u001b[0m     \u001b[1;32mreturn\u001b[0m \u001b[0ma\u001b[0m\u001b[1;33m*\u001b[0m\u001b[0mx\u001b[0m\u001b[1;33m\u001b[0m\u001b[1;33m\u001b[0m\u001b[0m\n\u001b[0;32m      3\u001b[0m \u001b[1;33m\u001b[0m\u001b[0m\n\u001b[1;32m----> 4\u001b[1;33m \u001b[0mm_x\u001b[0m \u001b[1;33m=\u001b[0m \u001b[0mcurve_fit\u001b[0m\u001b[1;33m(\u001b[0m\u001b[0mfit_func\u001b[0m\u001b[1;33m,\u001b[0m \u001b[0mpdata\u001b[0m\u001b[1;33m[\u001b[0m\u001b[1;34m'globaltime'\u001b[0m\u001b[1;33m]\u001b[0m\u001b[1;33m,\u001b[0m \u001b[0mpdata\u001b[0m\u001b[1;33m[\u001b[0m\u001b[1;34m'e_x_nt'\u001b[0m\u001b[1;33m]\u001b[0m\u001b[1;33m)\u001b[0m\u001b[1;33m[\u001b[0m\u001b[1;36m0\u001b[0m\u001b[1;33m]\u001b[0m\u001b[1;33m\u001b[0m\u001b[1;33m\u001b[0m\u001b[0m\n\u001b[0m\u001b[0;32m      5\u001b[0m \u001b[0mm_y\u001b[0m \u001b[1;33m=\u001b[0m \u001b[0mcurve_fit\u001b[0m\u001b[1;33m(\u001b[0m\u001b[0mfit_func\u001b[0m\u001b[1;33m,\u001b[0m \u001b[0mpdata\u001b[0m\u001b[1;33m[\u001b[0m\u001b[1;34m'globaltime'\u001b[0m\u001b[1;33m]\u001b[0m\u001b[1;33m,\u001b[0m \u001b[0mpdata\u001b[0m\u001b[1;33m[\u001b[0m\u001b[1;34m'e_y_nt'\u001b[0m\u001b[1;33m]\u001b[0m\u001b[1;33m)\u001b[0m\u001b[1;33m[\u001b[0m\u001b[1;36m0\u001b[0m\u001b[1;33m]\u001b[0m\u001b[1;33m\u001b[0m\u001b[1;33m\u001b[0m\u001b[0m\n\u001b[0;32m      6\u001b[0m \u001b[0mm_theta\u001b[0m \u001b[1;33m=\u001b[0m \u001b[0mcurve_fit\u001b[0m\u001b[1;33m(\u001b[0m\u001b[0mfit_func\u001b[0m\u001b[1;33m,\u001b[0m \u001b[0mpdata\u001b[0m\u001b[1;33m[\u001b[0m\u001b[1;34m'globaltime'\u001b[0m\u001b[1;33m]\u001b[0m\u001b[1;33m,\u001b[0m \u001b[0mpdata\u001b[0m\u001b[1;33m[\u001b[0m\u001b[1;34m'e_theta_nt'\u001b[0m\u001b[1;33m]\u001b[0m\u001b[1;33m)\u001b[0m\u001b[1;33m[\u001b[0m\u001b[1;36m0\u001b[0m\u001b[1;33m]\u001b[0m\u001b[1;33m\u001b[0m\u001b[1;33m\u001b[0m\u001b[0m\n",
      "\u001b[1;32m~\\anaconda3\\lib\\site-packages\\scipy\\optimize\\minpack.py\u001b[0m in \u001b[0;36mcurve_fit\u001b[1;34m(f, xdata, ydata, p0, sigma, absolute_sigma, check_finite, bounds, method, jac, **kwargs)\u001b[0m\n\u001b[0;32m    732\u001b[0m     \u001b[1;31m# NaNs cannot be handled\u001b[0m\u001b[1;33m\u001b[0m\u001b[1;33m\u001b[0m\u001b[1;33m\u001b[0m\u001b[0m\n\u001b[0;32m    733\u001b[0m     \u001b[1;32mif\u001b[0m \u001b[0mcheck_finite\u001b[0m\u001b[1;33m:\u001b[0m\u001b[1;33m\u001b[0m\u001b[1;33m\u001b[0m\u001b[0m\n\u001b[1;32m--> 734\u001b[1;33m         \u001b[0mydata\u001b[0m \u001b[1;33m=\u001b[0m \u001b[0mnp\u001b[0m\u001b[1;33m.\u001b[0m\u001b[0masarray_chkfinite\u001b[0m\u001b[1;33m(\u001b[0m\u001b[0mydata\u001b[0m\u001b[1;33m,\u001b[0m \u001b[0mfloat\u001b[0m\u001b[1;33m)\u001b[0m\u001b[1;33m\u001b[0m\u001b[1;33m\u001b[0m\u001b[0m\n\u001b[0m\u001b[0;32m    735\u001b[0m     \u001b[1;32melse\u001b[0m\u001b[1;33m:\u001b[0m\u001b[1;33m\u001b[0m\u001b[1;33m\u001b[0m\u001b[0m\n\u001b[0;32m    736\u001b[0m         \u001b[0mydata\u001b[0m \u001b[1;33m=\u001b[0m \u001b[0mnp\u001b[0m\u001b[1;33m.\u001b[0m\u001b[0masarray\u001b[0m\u001b[1;33m(\u001b[0m\u001b[0mydata\u001b[0m\u001b[1;33m,\u001b[0m \u001b[0mfloat\u001b[0m\u001b[1;33m)\u001b[0m\u001b[1;33m\u001b[0m\u001b[1;33m\u001b[0m\u001b[0m\n",
      "\u001b[1;32m~\\anaconda3\\lib\\site-packages\\numpy\\lib\\function_base.py\u001b[0m in \u001b[0;36masarray_chkfinite\u001b[1;34m(a, dtype, order)\u001b[0m\n\u001b[0;32m    496\u001b[0m     \u001b[0ma\u001b[0m \u001b[1;33m=\u001b[0m \u001b[0masarray\u001b[0m\u001b[1;33m(\u001b[0m\u001b[0ma\u001b[0m\u001b[1;33m,\u001b[0m \u001b[0mdtype\u001b[0m\u001b[1;33m=\u001b[0m\u001b[0mdtype\u001b[0m\u001b[1;33m,\u001b[0m \u001b[0morder\u001b[0m\u001b[1;33m=\u001b[0m\u001b[0morder\u001b[0m\u001b[1;33m)\u001b[0m\u001b[1;33m\u001b[0m\u001b[1;33m\u001b[0m\u001b[0m\n\u001b[0;32m    497\u001b[0m     \u001b[1;32mif\u001b[0m \u001b[0ma\u001b[0m\u001b[1;33m.\u001b[0m\u001b[0mdtype\u001b[0m\u001b[1;33m.\u001b[0m\u001b[0mchar\u001b[0m \u001b[1;32min\u001b[0m \u001b[0mtypecodes\u001b[0m\u001b[1;33m[\u001b[0m\u001b[1;34m'AllFloat'\u001b[0m\u001b[1;33m]\u001b[0m \u001b[1;32mand\u001b[0m \u001b[1;32mnot\u001b[0m \u001b[0mnp\u001b[0m\u001b[1;33m.\u001b[0m\u001b[0misfinite\u001b[0m\u001b[1;33m(\u001b[0m\u001b[0ma\u001b[0m\u001b[1;33m)\u001b[0m\u001b[1;33m.\u001b[0m\u001b[0mall\u001b[0m\u001b[1;33m(\u001b[0m\u001b[1;33m)\u001b[0m\u001b[1;33m:\u001b[0m\u001b[1;33m\u001b[0m\u001b[1;33m\u001b[0m\u001b[0m\n\u001b[1;32m--> 498\u001b[1;33m         raise ValueError(\n\u001b[0m\u001b[0;32m    499\u001b[0m             \"array must not contain infs or NaNs\")\n\u001b[0;32m    500\u001b[0m     \u001b[1;32mreturn\u001b[0m \u001b[0ma\u001b[0m\u001b[1;33m\u001b[0m\u001b[1;33m\u001b[0m\u001b[0m\n",
      "\u001b[1;31mValueError\u001b[0m: array must not contain infs or NaNs"
     ]
    }
   ],
   "source": [
    "def fit_func(x, a): #Come up with linear fits for drift (b=0)\n",
    "    return a*x\n",
    "\n",
    "m_x = curve_fit(fit_func, pdata['globaltime'], pdata['e_x_nt'])[0]\n",
    "m_y = curve_fit(fit_func, pdata['globaltime'], pdata['e_y_nt'])[0]\n",
    "m_theta = curve_fit(fit_func, pdata['globaltime'], pdata['e_theta_nt'])[0]\n",
    "\n",
    "plt.plot(pdata['globaltime'],m_x*pdata['globaltime'],label=(\"%f t\" % (m_x)))\n",
    "plt.plot(pdata['globaltime'],pdata['e_x_nt'])\n",
    "plt.legend()\n",
    "plt.show()\n",
    "\n",
    "plt.plot(pdata['globaltime'],m_y*pdata['globaltime'],label=(\"%f t\" % (m_y)))\n",
    "plt.plot(pdata['globaltime'],pdata['e_y_nt'])\n",
    "plt.legend()\n",
    "plt.show()\n",
    "\n",
    "plt.plot(pdata['globaltime'],m_theta*pdata['globaltime'],label=(\"%f t\" % (m_theta)))\n",
    "plt.plot(pdata['globaltime'],pdata['e_theta_nt'])\n",
    "plt.legend()\n",
    "plt.show()\n",
    "\n",
    "'''\n",
    "\n",
    "m_x,b_x = np.polyfit(pdata['globaltime'], pdata['e_x_nt'], 1) # Come up with linear fits for drift (b!=0)\n",
    "m_y,b_y = np.polyfit(pdata['globaltime'], pdata['e_y_nt'], 1)\n",
    "m_theta,b_theta = np.polyfit(pdata['globaltime'], pdata['e_theta_nt'], 1)\n",
    "\n",
    "plt.plot(pdata['globaltime'],m_x*pdata['globaltime']+b_x,label=(\"%f t %f\" % (m_x,b_x)))\n",
    "plt.plot(pdata['globaltime'],pdata['e_x_nt'])\n",
    "plt.legend()\n",
    "plt.show()\n",
    "\n",
    "plt.plot(pdata['globaltime'],m_y*pdata['globaltime']+b_y,label=(\"%f t %f\" % (m_y,b_y)))\n",
    "plt.plot(pdata['globaltime'],pdata['e_y_nt'])\n",
    "plt.legend()\n",
    "plt.show()\n",
    "\n",
    "plt.plot(pdata['globaltime'],m_theta*pdata['globaltime']+b_theta,label=(\"%f t %f\" % (m_theta,b_theta)))\n",
    "plt.plot(pdata['globaltime'],pdata['e_theta_nt'])\n",
    "plt.legend()\n",
    "plt.show()'''"
   ]
  },
  {
   "cell_type": "code",
   "execution_count": 40,
   "metadata": {},
   "outputs": [
    {
     "data": {
      "text/plain": [
       "\"\\n\\npdata.insert(13,'e_x_adj',pdata['e_x_nt']-m_x*pdata['globaltime']-b_x) #calculate adjusted errors (b!=0)\\npdata.insert(14,'e_y_adj',pdata['e_y_nt']-m_y*pdata['globaltime']-b_y)\\npdata.insert(15,'e_theta_adj',pdata['e_theta_nt']-m_theta*pdata['globaltime']-b_theta)\""
      ]
     },
     "execution_count": 40,
     "metadata": {},
     "output_type": "execute_result"
    }
   ],
   "source": [
    "pdata.insert(13,'e_x_adj',pdata['e_x_nt']-m_x*pdata['globaltime']) #calculate adjusted errors (b=0)\n",
    "pdata.insert(14,'e_y_adj',pdata['e_y_nt']-m_y*pdata['globaltime'])\n",
    "pdata.insert(15,'e_theta_adj',pdata['e_theta_nt']-m_theta*pdata['globaltime'])\n",
    "\n",
    "'''\n",
    "\n",
    "pdata.insert(13,'e_x_adj',pdata['e_x_nt']-m_x*pdata['globaltime']-b_x) #calculate adjusted errors (b!=0)\n",
    "pdata.insert(14,'e_y_adj',pdata['e_y_nt']-m_y*pdata['globaltime']-b_y)\n",
    "pdata.insert(15,'e_theta_adj',pdata['e_theta_nt']-m_theta*pdata['globaltime']-b_theta)'''"
   ]
  },
  {
   "cell_type": "code",
   "execution_count": 41,
   "metadata": {},
   "outputs": [
    {
     "name": "stdout",
     "output_type": "stream",
     "text": [
      "0.8118218536330315\n",
      "0.9774432625632172\n",
      "2.410022590821611\n"
     ]
    }
   ],
   "source": [
    "RMSE_x_adj=np.sqrt(sum(pdata['e_x_adj']**2)/len(pdata['e_x']))\n",
    "RMSE_y_adj=np.sqrt(sum(pdata['e_y_adj']**2)/len(pdata['e_x']))\n",
    "RMSE_theta_adj=np.sqrt(sum(pdata['e_theta_adj']**2)/len(pdata['e_x']))\n",
    "\n",
    "print(RMSE_x_adj)\n",
    "print(RMSE_y_adj)\n",
    "print(RMSE_theta_adj)"
   ]
  },
  {
   "cell_type": "code",
   "execution_count": 32,
   "metadata": {},
   "outputs": [],
   "source": [
    "pdata['e_x_nt']=pdata['e_x']\n",
    "pdata['e_y_nt']=pdata['e_y']\n",
    "pdata['e_theta_nt']=pdata['e_theta']"
   ]
  },
  {
   "cell_type": "code",
   "execution_count": 34,
   "metadata": {},
   "outputs": [
    {
     "data": {
      "text/plain": [
       "[<matplotlib.lines.Line2D at 0x1fd28e687f0>]"
      ]
     },
     "execution_count": 34,
     "metadata": {},
     "output_type": "execute_result"
    },
    {
     "data": {
      "image/png": "[encoded data removed]",
      "text/plain": [
       "<Figure size 432x288 with 1 Axes>"
      ]
     },
     "metadata": {
      "needs_background": "light"
     },
     "output_type": "display_data"
    }
   ],
   "source": [
    "plt.plot(pdata['e_x'])"
   ]
  },
  {
   "cell_type": "code",
   "execution_count": null,
   "metadata": {
    "scrolled": true
   },
   "outputs": [],
   "source": []
  },
  {
   "cell_type": "code",
   "execution_count": null,
   "metadata": {
    "scrolled": false
   },
   "outputs": [],
   "source": []
  },
  {
   "cell_type": "code",
   "execution_count": null,
   "metadata": {},
   "outputs": [],
   "source": []
  },
  {
   "cell_type": "code",
   "execution_count": null,
   "metadata": {},
   "outputs": [],
   "source": []
  }
 ],
 "metadata": {
  "kernelspec": {
   "display_name": "Python 3",
   "language": "python",
   "name": "python3"
  },
  "language_info": {
   "codemirror_mode": {
    "name": "ipython",
    "version": 3
   },
   "file_extension": ".py",
   "mimetype": "text/x-python",
   "name": "python",
   "nbconvert_exporter": "python",
   "pygments_lexer": "ipython3",
   "version": "3.7.4"
  }
 },
 "nbformat": 4,
 "nbformat_minor": 2
}
