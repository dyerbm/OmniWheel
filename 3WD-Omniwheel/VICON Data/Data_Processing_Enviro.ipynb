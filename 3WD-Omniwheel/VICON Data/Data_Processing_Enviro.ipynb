{
 "cells": [
  {
   "cell_type": "code",
   "execution_count": 1,
   "metadata": {},
   "outputs": [],
   "source": [
    "import numpy as np\n",
    "import matplotlib.pyplot as plt\n",
    "import pandas as pd\n",
    "from tqdm import tqdm #library to make a progress bar when doing long for loops\n",
    "from scipy.optimize import curve_fit #for forcing curve fit\n",
    "import time #for testing efficiency of code\n",
    "\n",
    "import warnings\n",
    "warnings.filterwarnings('ignore') #suppressed normal warnings (disable this if something stops working)"
   ]
  },
  {
   "cell_type": "code",
   "execution_count": 2,
   "metadata": {},
   "outputs": [
    {
     "data": {
      "text/plain": [
       "92.9894319376788"
      ]
     },
     "execution_count": 2,
     "metadata": {},
     "output_type": "execute_result"
    }
   ],
   "source": [
    "#Import data for processing\n",
    "\n",
    "#filename = \"./20-08-2020/SMC_4rose_2.xlsx\"\n",
    "filename = \"./31-08-2020/SMC_y_zigzag9.xlsx\"\n",
    "data = pd.read_excel(filename, \n",
    "                    names = [\"globaltime\",\"dt\",'rb1x','rb1y','rb1z','rb2x','rb2y','rb2z',\n",
    "                            'rb3x','rb3y','rb3z','rb4x','rb4y','rb4z','rb5x','rb5y','rb5z',\n",
    "                            'rb6x','rb6y','rb6z','rb7x','rb7y','rb7z','rb8x','rb8y','rb8z',\n",
    "                            'xd','yd','thetad'])\n",
    "\n",
    "while data.iloc[0]['rb1z']==0.0:\n",
    "    data = data.drop(0)\n",
    "    data.index-=1\n",
    "      \n",
    "data.iloc[0]['rb1z']        \n"
   ]
  },
  {
   "cell_type": "code",
   "execution_count": 3,
   "metadata": {
    "scrolled": true
   },
   "outputs": [],
   "source": [
    "#calculate robot position at each point\n",
    "\n",
    "#calculate the center of the robot\n",
    "Adet = (data['rb1x']*(data['rb4y']-data['rb6y']) -\n",
    "       data['rb1y']*(data['rb4x']-data['rb6x']) +\n",
    "       data['rb4x']*data['rb6y']-data['rb6x']*data['rb4y'])\n",
    "\n",
    "Bdet = ((data['rb1x']**2+data['rb1y']**2)*(data['rb6y']-data['rb4y'])  +\n",
    "       (data['rb4x']**2+data['rb4y']**2)*(data['rb1y']-data['rb6y'])  +\n",
    "       (data['rb6x']**2+data['rb6y']**2)*(data['rb4y']-data['rb1y']) )\n",
    "\n",
    "Cdet = ((data['rb1x']**2+data['rb1y']**2)*(data['rb4x']-data['rb6x'])  +\n",
    "       (data['rb4x']**2+data['rb4y']**2)*(data['rb6x']-data['rb1x'])  +\n",
    "       (data['rb6x']**2+data['rb6y']**2)*(data['rb1x']-data['rb4x']) )\n",
    "\n",
    "x_r = -Bdet/(2.*Adet)/1000.+Bdet[0]/(2.*Adet[0])/1000. #robot global position x in meters (adjusted to origin)\n",
    "y_r = -Cdet/(2.*Adet)/1000.+Cdet[0]/(2.*Adet[0])/1000. #robot global position y in meters\n",
    "\n",
    "\n",
    "x_mid = (data['rb1x']+data['rb8x'])/2./1000.+Bdet[0]/(2.*Adet[0])/1000. #calculate the midpoint of wheel 1 (adjusted to origin)\n",
    "y_mid = (data['rb1y']+data['rb8y'])/2./1000.+Cdet[0]/(2.*Adet[0])/1000.\n",
    "\n",
    "#rotate desired position to be in line with robot\n",
    "#xd_rot =data['xd']*np.cos(np.arctan2(y_mid[0]-y_r[0],x_mid[0]-x_r[0]))-data['yd']*np.sin(np.arctan2(y_mid[0]-y_r[0],x_mid[0]-x_r[0]))\n",
    "#yd_rot =data['yd']*np.cos(np.arctan2(y_mid[0]-y_r[0],x_mid[0]-x_r[0]))+data['xd']*np.sin(np.arctan2(y_mid[0]-y_r[0],x_mid[0]-x_r[0]))\n",
    "xd_rot = data['xd']\n",
    "yd_rot = data['yd']\n",
    "\n",
    "\n",
    "xr_rot =x_r*np.cos(np.arctan2(y_mid[0]-y_r[0],x_mid[0]-x_r[0]))+y_r*np.sin(np.arctan2(y_mid[0]-y_r[0],x_mid[0]-x_r[0]))\n",
    "yr_rot =y_r*np.cos(np.arctan2(y_mid[0]-y_r[0],x_mid[0]-x_r[0]))-x_r*np.sin(np.arctan2(y_mid[0]-y_r[0],x_mid[0]-x_r[0]))\n",
    "\n",
    "\n",
    "#set robot initial position to the origin\n",
    "#x_r = x_r+Bdet[0]/(2.*Adet[0])/1000. #robot position x in meters starting at origin\n",
    "#y_r = y_r+Cdet[0]/(2.*Adet[0])/1000. #robot global position y in meters  starting at origin\n",
    "theta_r = np.arctan2(y_mid-y_r,x_mid-x_r) - np.arctan2(y_mid[0]-y_r[0],x_mid[0]-x_r[0]) #robot angle starting at 0"
   ]
  },
  {
   "cell_type": "code",
   "execution_count": 4,
   "metadata": {},
   "outputs": [],
   "source": [
    "#cast robot info into a new dataframe\n",
    "\n",
    "pdata = pd.DataFrame()\n",
    "pdata.insert(0,\"globaltime\", data['globaltime'],True) #get global time\n",
    "pdata.insert(1, \"x_r\", xr_rot,True) #get robot positions (adjusted to origin)\n",
    "pdata.insert(2, \"y_r\", yr_rot,True)\n",
    "pdata.insert(3, \"theta_r\", theta_r,True)\n",
    "\n",
    "pdata.insert(4, \"x_d\", xd_rot,True) #get robot desired positions (adjusted for starting orientation)\n",
    "pdata.insert(5, \"y_d\", yd_rot,True)\n",
    "pdata.insert(6, \"theta_d\", data['thetad'],True)\n",
    "\n",
    "pdata.insert(7,'e_x', pdata['x_r']-pdata['x_d']) #calculate the errors at each point\n",
    "pdata.insert(8,'e_y', pdata['y_r']-pdata['y_d'])\n",
    "pdata.insert(9,'e_theta', pdata['theta_r']-pdata['theta_d'])"
   ]
  },
  {
   "cell_type": "code",
   "execution_count": 6,
   "metadata": {
    "scrolled": true
   },
   "outputs": [
    {
     "data": {
      "image/png": "[encoded data removed]",
      "text/plain": [
       "<Figure size 432x288 with 1 Axes>"
      ]
     },
     "metadata": {
      "needs_background": "light"
     },
     "output_type": "display_data"
    }
   ],
   "source": [
    "ax = plt.subplot(1,1,1)\n",
    "ax.plot(pdata['x_r'],pdata['y_r'],pdata['x_d'],pdata['y_d'])\n",
    "ax.legend(['real path', 'desired path'])\n",
    "plt.show()"
   ]
  },
  {
   "cell_type": "code",
   "execution_count": 8,
   "metadata": {
    "scrolled": true
   },
   "outputs": [
    {
     "data": {
      "text/html": [
       "<div>\n",
       "<style scoped>\n",
       "    .dataframe tbody tr th:only-of-type {\n",
       "        vertical-align: middle;\n",
       "    }\n",
       "\n",
       "    .dataframe tbody tr th {\n",
       "        vertical-align: top;\n",
       "    }\n",
       "\n",
       "    .dataframe thead th {\n",
       "        text-align: right;\n",
       "    }\n",
       "</style>\n",
       "<table border=\"1\" class=\"dataframe\">\n",
       "  <thead>\n",
       "    <tr style=\"text-align: right;\">\n",
       "      <th></th>\n",
       "      <th>globaltime</th>\n",
       "      <th>x_r</th>\n",
       "      <th>y_r</th>\n",
       "      <th>theta_r</th>\n",
       "      <th>x_d</th>\n",
       "      <th>y_d</th>\n",
       "      <th>theta_d</th>\n",
       "      <th>e_x</th>\n",
       "      <th>e_y</th>\n",
       "      <th>e_theta</th>\n",
       "    </tr>\n",
       "  </thead>\n",
       "  <tbody>\n",
       "    <tr>\n",
       "      <td>125</td>\n",
       "      <td>2.516353</td>\n",
       "      <td>0.000048</td>\n",
       "      <td>0.000015</td>\n",
       "      <td>0.000014</td>\n",
       "      <td>0.000000</td>\n",
       "      <td>0.000000</td>\n",
       "      <td>0</td>\n",
       "      <td>0.000048</td>\n",
       "      <td>0.000015</td>\n",
       "      <td>0.000014</td>\n",
       "    </tr>\n",
       "    <tr>\n",
       "      <td>625</td>\n",
       "      <td>12.516260</td>\n",
       "      <td>0.803481</td>\n",
       "      <td>-0.013891</td>\n",
       "      <td>0.002963</td>\n",
       "      <td>0.847990</td>\n",
       "      <td>0.000000</td>\n",
       "      <td>0</td>\n",
       "      <td>-0.044509</td>\n",
       "      <td>-0.013891</td>\n",
       "      <td>0.002963</td>\n",
       "    </tr>\n",
       "    <tr>\n",
       "      <td>1125</td>\n",
       "      <td>22.516433</td>\n",
       "      <td>1.533322</td>\n",
       "      <td>0.342970</td>\n",
       "      <td>-0.007947</td>\n",
       "      <td>1.500000</td>\n",
       "      <td>0.474874</td>\n",
       "      <td>0</td>\n",
       "      <td>0.033322</td>\n",
       "      <td>-0.131905</td>\n",
       "      <td>-0.007947</td>\n",
       "    </tr>\n",
       "    <tr>\n",
       "      <td>1625</td>\n",
       "      <td>32.516517</td>\n",
       "      <td>0.779477</td>\n",
       "      <td>0.758878</td>\n",
       "      <td>-0.005449</td>\n",
       "      <td>0.750000</td>\n",
       "      <td>0.750000</td>\n",
       "      <td>0</td>\n",
       "      <td>0.029477</td>\n",
       "      <td>0.008878</td>\n",
       "      <td>-0.005449</td>\n",
       "    </tr>\n",
       "    <tr>\n",
       "      <td>2125</td>\n",
       "      <td>42.516352</td>\n",
       "      <td>0.015899</td>\n",
       "      <td>0.771560</td>\n",
       "      <td>0.006672</td>\n",
       "      <td>0.000000</td>\n",
       "      <td>0.750000</td>\n",
       "      <td>0</td>\n",
       "      <td>0.015899</td>\n",
       "      <td>0.021560</td>\n",
       "      <td>0.006672</td>\n",
       "    </tr>\n",
       "    <tr>\n",
       "      <td>2625</td>\n",
       "      <td>52.516537</td>\n",
       "      <td>0.045700</td>\n",
       "      <td>1.539401</td>\n",
       "      <td>-0.000788</td>\n",
       "      <td>0.097990</td>\n",
       "      <td>1.500000</td>\n",
       "      <td>0</td>\n",
       "      <td>-0.052290</td>\n",
       "      <td>0.039401</td>\n",
       "      <td>-0.000788</td>\n",
       "    </tr>\n",
       "    <tr>\n",
       "      <td>3125</td>\n",
       "      <td>62.516699</td>\n",
       "      <td>1.212451</td>\n",
       "      <td>1.550622</td>\n",
       "      <td>0.020247</td>\n",
       "      <td>1.224874</td>\n",
       "      <td>1.500000</td>\n",
       "      <td>0</td>\n",
       "      <td>-0.012423</td>\n",
       "      <td>0.050622</td>\n",
       "      <td>0.020247</td>\n",
       "    </tr>\n",
       "    <tr>\n",
       "      <td>3625</td>\n",
       "      <td>72.516565</td>\n",
       "      <td>1.525008</td>\n",
       "      <td>2.312544</td>\n",
       "      <td>0.022777</td>\n",
       "      <td>1.500000</td>\n",
       "      <td>2.250000</td>\n",
       "      <td>0</td>\n",
       "      <td>0.025008</td>\n",
       "      <td>0.062544</td>\n",
       "      <td>0.022777</td>\n",
       "    </tr>\n",
       "    <tr>\n",
       "      <td>4125</td>\n",
       "      <td>82.516320</td>\n",
       "      <td>0.765209</td>\n",
       "      <td>2.306460</td>\n",
       "      <td>0.022616</td>\n",
       "      <td>0.750000</td>\n",
       "      <td>2.250000</td>\n",
       "      <td>0</td>\n",
       "      <td>0.015209</td>\n",
       "      <td>0.056460</td>\n",
       "      <td>0.022616</td>\n",
       "    </tr>\n",
       "    <tr>\n",
       "      <td>4625</td>\n",
       "      <td>92.516598</td>\n",
       "      <td>0.001464</td>\n",
       "      <td>2.346402</td>\n",
       "      <td>0.016026</td>\n",
       "      <td>0.000000</td>\n",
       "      <td>2.347990</td>\n",
       "      <td>0</td>\n",
       "      <td>0.001464</td>\n",
       "      <td>-0.001588</td>\n",
       "      <td>0.016026</td>\n",
       "    </tr>\n",
       "    <tr>\n",
       "      <td>5125</td>\n",
       "      <td>102.516548</td>\n",
       "      <td>0.384671</td>\n",
       "      <td>3.067919</td>\n",
       "      <td>0.023317</td>\n",
       "      <td>0.474874</td>\n",
       "      <td>3.000000</td>\n",
       "      <td>0</td>\n",
       "      <td>-0.090203</td>\n",
       "      <td>0.067919</td>\n",
       "      <td>0.023317</td>\n",
       "    </tr>\n",
       "    <tr>\n",
       "      <td>5625</td>\n",
       "      <td>112.516895</td>\n",
       "      <td>1.520088</td>\n",
       "      <td>3.092238</td>\n",
       "      <td>0.038486</td>\n",
       "      <td>1.500000</td>\n",
       "      <td>3.000000</td>\n",
       "      <td>0</td>\n",
       "      <td>0.020088</td>\n",
       "      <td>0.092238</td>\n",
       "      <td>0.038486</td>\n",
       "    </tr>\n",
       "  </tbody>\n",
       "</table>\n",
       "</div>"
      ],
      "text/plain": [
       "      globaltime       x_r       y_r   theta_r       x_d       y_d  theta_d  \\\n",
       "125     2.516353  0.000048  0.000015  0.000014  0.000000  0.000000        0   \n",
       "625    12.516260  0.803481 -0.013891  0.002963  0.847990  0.000000        0   \n",
       "1125   22.516433  1.533322  0.342970 -0.007947  1.500000  0.474874        0   \n",
       "1625   32.516517  0.779477  0.758878 -0.005449  0.750000  0.750000        0   \n",
       "2125   42.516352  0.015899  0.771560  0.006672  0.000000  0.750000        0   \n",
       "2625   52.516537  0.045700  1.539401 -0.000788  0.097990  1.500000        0   \n",
       "3125   62.516699  1.212451  1.550622  0.020247  1.224874  1.500000        0   \n",
       "3625   72.516565  1.525008  2.312544  0.022777  1.500000  2.250000        0   \n",
       "4125   82.516320  0.765209  2.306460  0.022616  0.750000  2.250000        0   \n",
       "4625   92.516598  0.001464  2.346402  0.016026  0.000000  2.347990        0   \n",
       "5125  102.516548  0.384671  3.067919  0.023317  0.474874  3.000000        0   \n",
       "5625  112.516895  1.520088  3.092238  0.038486  1.500000  3.000000        0   \n",
       "\n",
       "           e_x       e_y   e_theta  \n",
       "125   0.000048  0.000015  0.000014  \n",
       "625  -0.044509 -0.013891  0.002963  \n",
       "1125  0.033322 -0.131905 -0.007947  \n",
       "1625  0.029477  0.008878 -0.005449  \n",
       "2125  0.015899  0.021560  0.006672  \n",
       "2625 -0.052290  0.039401 -0.000788  \n",
       "3125 -0.012423  0.050622  0.020247  \n",
       "3625  0.025008  0.062544  0.022777  \n",
       "4125  0.015209  0.056460  0.022616  \n",
       "4625  0.001464 -0.001588  0.016026  \n",
       "5125 -0.090203  0.067919  0.023317  \n",
       "5625  0.020088  0.092238  0.038486  "
      ]
     },
     "execution_count": 8,
     "metadata": {},
     "output_type": "execute_result"
    }
   ],
   "source": [
    "pdata.iloc[int(2.5*50)::int(10*50)]"
   ]
  },
  {
   "cell_type": "code",
   "execution_count": 54,
   "metadata": {},
   "outputs": [],
   "source": [
    "RMSE_x = np.sqrt(sum(pdata['e_x']**2)/len(pdata['e_x']))\n",
    "RMSE_y = np.sqrt(sum(pdata['e_y']**2)/len(pdata['e_y']))\n",
    "RMSE_theta = np.sqrt(sum(pdata['e_theta']**2)/len(pdata['e_theta']))\n",
    "\n",
    "RMSE_x_nt = np.sqrt(sum(pdata['e_x_nt']**2)/len(pdata['e_x']))\n",
    "RMSE_y_nt = np.sqrt(sum(pdata['e_y_nt']**2)/len(pdata['e_y']))\n",
    "RMSE_theta_nt = np.sqrt(sum(pdata['e_theta_nt']**2)/len(pdata['e_theta']))"
   ]
  },
  {
   "cell_type": "code",
   "execution_count": 55,
   "metadata": {},
   "outputs": [
    {
     "data": {
      "image/png": "[encoded data removed]",
      "text/plain": [
       "<Figure size 432x288 with 1 Axes>"
      ]
     },
     "metadata": {
      "needs_background": "light"
     },
     "output_type": "display_data"
    }
   ],
   "source": [
    "ax = plt.subplot(1,1,1)\n",
    "#pdata['x_d'][0] = 0\n",
    "ax.plot(pdata['x_r'],pdata['y_r'],pdata['x_d'],pdata['y_d'])\n",
    "ax.legend(['real path', 'desired path'])\n",
    "#ax.plot(pdata.iloc[0]['x_d'],pdata.iloc[0]['y_d'],linewidth=6)\n",
    "#print(pdata.iloc[0]['x_d'])\n",
    "#print(pdata.iloc[0]['y_d'])\n",
    "#print(np.arctan2(y_mid[0],x_mid[0])*180/np.pi)\n",
    "#plt.plot(pdata['x_r'],pdata['y_r'],pdata['x_d'],pdata['y_d'])\n",
    "#plt.plot(pdata[0]['x_d'],pdata[0]['y_d'])\n",
    "plt.show()"
   ]
  },
  {
   "cell_type": "code",
   "execution_count": 10,
   "metadata": {},
   "outputs": [
    {
     "name": "stdout",
     "output_type": "stream",
     "text": [
      "0.17287393243863944\n",
      "0.2579143051273882\n",
      "4.064514864590051\n",
      "0.4377684780387974\n",
      "0.5406187023096461\n",
      "4.01094996569265\n"
     ]
    }
   ],
   "source": [
    "print(RMSE_x)\n",
    "print(RMSE_y)\n",
    "print(RMSE_theta)\n",
    "\n",
    "print(RMSE_x_nt)\n",
    "print(RMSE_y_nt)\n",
    "print(RMSE_theta_nt)"
   ]
  },
  {
   "cell_type": "code",
   "execution_count": 33,
   "metadata": {
    "scrolled": true
   },
   "outputs": [
    {
     "ename": "ValueError",
     "evalue": "array must not contain infs or NaNs",
     "output_type": "error",
     "traceback": [
      "\u001b[1;31m---------------------------------------------------------------------------\u001b[0m",
      "\u001b[1;31mValueError\u001b[0m                                Traceback (most recent call last)",
      "\u001b[1;32m<ipython-input-33-1eb4584fd53e>\u001b[0m in \u001b[0;36m<module>\u001b[1;34m\u001b[0m\n\u001b[0;32m      2\u001b[0m     \u001b[1;32mreturn\u001b[0m \u001b[0ma\u001b[0m\u001b[1;33m*\u001b[0m\u001b[0mx\u001b[0m\u001b[1;33m\u001b[0m\u001b[1;33m\u001b[0m\u001b[0m\n\u001b[0;32m      3\u001b[0m \u001b[1;33m\u001b[0m\u001b[0m\n\u001b[1;32m----> 4\u001b[1;33m \u001b[0mm_x\u001b[0m \u001b[1;33m=\u001b[0m \u001b[0mcurve_fit\u001b[0m\u001b[1;33m(\u001b[0m\u001b[0mfit_func\u001b[0m\u001b[1;33m,\u001b[0m \u001b[0mpdata\u001b[0m\u001b[1;33m[\u001b[0m\u001b[1;34m'globaltime'\u001b[0m\u001b[1;33m]\u001b[0m\u001b[1;33m,\u001b[0m \u001b[0mpdata\u001b[0m\u001b[1;33m[\u001b[0m\u001b[1;34m'e_x_nt'\u001b[0m\u001b[1;33m]\u001b[0m\u001b[1;33m)\u001b[0m\u001b[1;33m[\u001b[0m\u001b[1;36m0\u001b[0m\u001b[1;33m]\u001b[0m\u001b[1;33m\u001b[0m\u001b[1;33m\u001b[0m\u001b[0m\n\u001b[0m\u001b[0;32m      5\u001b[0m \u001b[0mm_y\u001b[0m \u001b[1;33m=\u001b[0m \u001b[0mcurve_fit\u001b[0m\u001b[1;33m(\u001b[0m\u001b[0mfit_func\u001b[0m\u001b[1;33m,\u001b[0m \u001b[0mpdata\u001b[0m\u001b[1;33m[\u001b[0m\u001b[1;34m'globaltime'\u001b[0m\u001b[1;33m]\u001b[0m\u001b[1;33m,\u001b[0m \u001b[0mpdata\u001b[0m\u001b[1;33m[\u001b[0m\u001b[1;34m'e_y_nt'\u001b[0m\u001b[1;33m]\u001b[0m\u001b[1;33m)\u001b[0m\u001b[1;33m[\u001b[0m\u001b[1;36m0\u001b[0m\u001b[1;33m]\u001b[0m\u001b[1;33m\u001b[0m\u001b[1;33m\u001b[0m\u001b[0m\n\u001b[0;32m      6\u001b[0m \u001b[0mm_theta\u001b[0m \u001b[1;33m=\u001b[0m \u001b[0mcurve_fit\u001b[0m\u001b[1;33m(\u001b[0m\u001b[0mfit_func\u001b[0m\u001b[1;33m,\u001b[0m \u001b[0mpdata\u001b[0m\u001b[1;33m[\u001b[0m\u001b[1;34m'globaltime'\u001b[0m\u001b[1;33m]\u001b[0m\u001b[1;33m,\u001b[0m \u001b[0mpdata\u001b[0m\u001b[1;33m[\u001b[0m\u001b[1;34m'e_theta_nt'\u001b[0m\u001b[1;33m]\u001b[0m\u001b[1;33m)\u001b[0m\u001b[1;33m[\u001b[0m\u001b[1;36m0\u001b[0m\u001b[1;33m]\u001b[0m\u001b[1;33m\u001b[0m\u001b[1;33m\u001b[0m\u001b[0m\n",
      "\u001b[1;32m~\\anaconda3\\lib\\site-packages\\scipy\\optimize\\minpack.py\u001b[0m in \u001b[0;36mcurve_fit\u001b[1;34m(f, xdata, ydata, p0, sigma, absolute_sigma, check_finite, bounds, method, jac, **kwargs)\u001b[0m\n\u001b[0;32m    732\u001b[0m     \u001b[1;31m# NaNs cannot be handled\u001b[0m\u001b[1;33m\u001b[0m\u001b[1;33m\u001b[0m\u001b[1;33m\u001b[0m\u001b[0m\n\u001b[0;32m    733\u001b[0m     \u001b[1;32mif\u001b[0m \u001b[0mcheck_finite\u001b[0m\u001b[1;33m:\u001b[0m\u001b[1;33m\u001b[0m\u001b[1;33m\u001b[0m\u001b[0m\n\u001b[1;32m--> 734\u001b[1;33m         \u001b[0mydata\u001b[0m \u001b[1;33m=\u001b[0m \u001b[0mnp\u001b[0m\u001b[1;33m.\u001b[0m\u001b[0masarray_chkfinite\u001b[0m\u001b[1;33m(\u001b[0m\u001b[0mydata\u001b[0m\u001b[1;33m,\u001b[0m \u001b[0mfloat\u001b[0m\u001b[1;33m)\u001b[0m\u001b[1;33m\u001b[0m\u001b[1;33m\u001b[0m\u001b[0m\n\u001b[0m\u001b[0;32m    735\u001b[0m     \u001b[1;32melse\u001b[0m\u001b[1;33m:\u001b[0m\u001b[1;33m\u001b[0m\u001b[1;33m\u001b[0m\u001b[0m\n\u001b[0;32m    736\u001b[0m         \u001b[0mydata\u001b[0m \u001b[1;33m=\u001b[0m \u001b[0mnp\u001b[0m\u001b[1;33m.\u001b[0m\u001b[0masarray\u001b[0m\u001b[1;33m(\u001b[0m\u001b[0mydata\u001b[0m\u001b[1;33m,\u001b[0m \u001b[0mfloat\u001b[0m\u001b[1;33m)\u001b[0m\u001b[1;33m\u001b[0m\u001b[1;33m\u001b[0m\u001b[0m\n",
      "\u001b[1;32m~\\anaconda3\\lib\\site-packages\\numpy\\lib\\function_base.py\u001b[0m in \u001b[0;36masarray_chkfinite\u001b[1;34m(a, dtype, order)\u001b[0m\n\u001b[0;32m    496\u001b[0m     \u001b[0ma\u001b[0m \u001b[1;33m=\u001b[0m \u001b[0masarray\u001b[0m\u001b[1;33m(\u001b[0m\u001b[0ma\u001b[0m\u001b[1;33m,\u001b[0m \u001b[0mdtype\u001b[0m\u001b[1;33m=\u001b[0m\u001b[0mdtype\u001b[0m\u001b[1;33m,\u001b[0m \u001b[0morder\u001b[0m\u001b[1;33m=\u001b[0m\u001b[0morder\u001b[0m\u001b[1;33m)\u001b[0m\u001b[1;33m\u001b[0m\u001b[1;33m\u001b[0m\u001b[0m\n\u001b[0;32m    497\u001b[0m     \u001b[1;32mif\u001b[0m \u001b[0ma\u001b[0m\u001b[1;33m.\u001b[0m\u001b[0mdtype\u001b[0m\u001b[1;33m.\u001b[0m\u001b[0mchar\u001b[0m \u001b[1;32min\u001b[0m \u001b[0mtypecodes\u001b[0m\u001b[1;33m[\u001b[0m\u001b[1;34m'AllFloat'\u001b[0m\u001b[1;33m]\u001b[0m \u001b[1;32mand\u001b[0m \u001b[1;32mnot\u001b[0m \u001b[0mnp\u001b[0m\u001b[1;33m.\u001b[0m\u001b[0misfinite\u001b[0m\u001b[1;33m(\u001b[0m\u001b[0ma\u001b[0m\u001b[1;33m)\u001b[0m\u001b[1;33m.\u001b[0m\u001b[0mall\u001b[0m\u001b[1;33m(\u001b[0m\u001b[1;33m)\u001b[0m\u001b[1;33m:\u001b[0m\u001b[1;33m\u001b[0m\u001b[1;33m\u001b[0m\u001b[0m\n\u001b[1;32m--> 498\u001b[1;33m         raise ValueError(\n\u001b[0m\u001b[0;32m    499\u001b[0m             \"array must not contain infs or NaNs\")\n\u001b[0;32m    500\u001b[0m     \u001b[1;32mreturn\u001b[0m \u001b[0ma\u001b[0m\u001b[1;33m\u001b[0m\u001b[1;33m\u001b[0m\u001b[0m\n",
      "\u001b[1;31mValueError\u001b[0m: array must not contain infs or NaNs"
     ]
    }
   ],
   "source": [
    "def fit_func(x, a): #Come up with linear fits for drift (b=0)\n",
    "    return a*x\n",
    "\n",
    "m_x = curve_fit(fit_func, pdata['globaltime'], pdata['e_x_nt'])[0]\n",
    "m_y = curve_fit(fit_func, pdata['globaltime'], pdata['e_y_nt'])[0]\n",
    "m_theta = curve_fit(fit_func, pdata['globaltime'], pdata['e_theta_nt'])[0]\n",
    "\n",
    "plt.plot(pdata['globaltime'],m_x*pdata['globaltime'],label=(\"%f t\" % (m_x)))\n",
    "plt.plot(pdata['globaltime'],pdata['e_x_nt'])\n",
    "plt.legend()\n",
    "plt.show()\n",
    "\n",
    "plt.plot(pdata['globaltime'],m_y*pdata['globaltime'],label=(\"%f t\" % (m_y)))\n",
    "plt.plot(pdata['globaltime'],pdata['e_y_nt'])\n",
    "plt.legend()\n",
    "plt.show()\n",
    "\n",
    "plt.plot(pdata['globaltime'],m_theta*pdata['globaltime'],label=(\"%f t\" % (m_theta)))\n",
    "plt.plot(pdata['globaltime'],pdata['e_theta_nt'])\n",
    "plt.legend()\n",
    "plt.show()\n",
    "\n",
    "'''\n",
    "\n",
    "m_x,b_x = np.polyfit(pdata['globaltime'], pdata['e_x_nt'], 1) # Come up with linear fits for drift (b!=0)\n",
    "m_y,b_y = np.polyfit(pdata['globaltime'], pdata['e_y_nt'], 1)\n",
    "m_theta,b_theta = np.polyfit(pdata['globaltime'], pdata['e_theta_nt'], 1)\n",
    "\n",
    "plt.plot(pdata['globaltime'],m_x*pdata['globaltime']+b_x,label=(\"%f t %f\" % (m_x,b_x)))\n",
    "plt.plot(pdata['globaltime'],pdata['e_x_nt'])\n",
    "plt.legend()\n",
    "plt.show()\n",
    "\n",
    "plt.plot(pdata['globaltime'],m_y*pdata['globaltime']+b_y,label=(\"%f t %f\" % (m_y,b_y)))\n",
    "plt.plot(pdata['globaltime'],pdata['e_y_nt'])\n",
    "plt.legend()\n",
    "plt.show()\n",
    "\n",
    "plt.plot(pdata['globaltime'],m_theta*pdata['globaltime']+b_theta,label=(\"%f t %f\" % (m_theta,b_theta)))\n",
    "plt.plot(pdata['globaltime'],pdata['e_theta_nt'])\n",
    "plt.legend()\n",
    "plt.show()'''"
   ]
  },
  {
   "cell_type": "code",
   "execution_count": 40,
   "metadata": {},
   "outputs": [
    {
     "data": {
      "text/plain": [
       "\"\\n\\npdata.insert(13,'e_x_adj',pdata['e_x_nt']-m_x*pdata['globaltime']-b_x) #calculate adjusted errors (b!=0)\\npdata.insert(14,'e_y_adj',pdata['e_y_nt']-m_y*pdata['globaltime']-b_y)\\npdata.insert(15,'e_theta_adj',pdata['e_theta_nt']-m_theta*pdata['globaltime']-b_theta)\""
      ]
     },
     "execution_count": 40,
     "metadata": {},
     "output_type": "execute_result"
    }
   ],
   "source": [
    "pdata.insert(13,'e_x_adj',pdata['e_x_nt']-m_x*pdata['globaltime']) #calculate adjusted errors (b=0)\n",
    "pdata.insert(14,'e_y_adj',pdata['e_y_nt']-m_y*pdata['globaltime'])\n",
    "pdata.insert(15,'e_theta_adj',pdata['e_theta_nt']-m_theta*pdata['globaltime'])\n",
    "\n",
    "'''\n",
    "\n",
    "pdata.insert(13,'e_x_adj',pdata['e_x_nt']-m_x*pdata['globaltime']-b_x) #calculate adjusted errors (b!=0)\n",
    "pdata.insert(14,'e_y_adj',pdata['e_y_nt']-m_y*pdata['globaltime']-b_y)\n",
    "pdata.insert(15,'e_theta_adj',pdata['e_theta_nt']-m_theta*pdata['globaltime']-b_theta)'''"
   ]
  },
  {
   "cell_type": "code",
   "execution_count": 41,
   "metadata": {},
   "outputs": [
    {
     "name": "stdout",
     "output_type": "stream",
     "text": [
      "0.8118218536330315\n",
      "0.9774432625632172\n",
      "2.410022590821611\n"
     ]
    }
   ],
   "source": [
    "RMSE_x_adj=np.sqrt(sum(pdata['e_x_adj']**2)/len(pdata['e_x']))\n",
    "RMSE_y_adj=np.sqrt(sum(pdata['e_y_adj']**2)/len(pdata['e_x']))\n",
    "RMSE_theta_adj=np.sqrt(sum(pdata['e_theta_adj']**2)/len(pdata['e_x']))\n",
    "\n",
    "print(RMSE_x_adj)\n",
    "print(RMSE_y_adj)\n",
    "print(RMSE_theta_adj)"
   ]
  },
  {
   "cell_type": "code",
   "execution_count": 32,
   "metadata": {},
   "outputs": [],
   "source": [
    "pdata['e_x_nt']=pdata['e_x']\n",
    "pdata['e_y_nt']=pdata['e_y']\n",
    "pdata['e_theta_nt']=pdata['e_theta']"
   ]
  },
  {
   "cell_type": "code",
   "execution_count": 34,
   "metadata": {},
   "outputs": [
    {
     "data": {
      "text/plain": [
       "[<matplotlib.lines.Line2D at 0x1fd28e687f0>]"
      ]
     },
     "execution_count": 34,
     "metadata": {},
     "output_type": "execute_result"
    },
    {
     "data": {
      "image/png": "[encoded data removed]",
      "text/plain": [
       "<Figure size 432x288 with 1 Axes>"
      ]
     },
     "metadata": {
      "needs_background": "light"
     },
     "output_type": "display_data"
    }
   ],
   "source": [
    "plt.plot(pdata['e_x'])"
   ]
  },
  {
   "cell_type": "code",
   "execution_count": null,
   "metadata": {
    "scrolled": true
   },
   "outputs": [],
   "source": []
  },
  {
   "cell_type": "code",
   "execution_count": null,
   "metadata": {
    "scrolled": false
   },
   "outputs": [],
   "source": []
  },
  {
   "cell_type": "code",
   "execution_count": null,
   "metadata": {},
   "outputs": [],
   "source": []
  },
  {
   "cell_type": "code",
   "execution_count": null,
   "metadata": {},
   "outputs": [],
   "source": []
  }
 ],
 "metadata": {
  "kernelspec": {
   "display_name": "Python 3",
   "language": "python",
   "name": "python3"
  },
  "language_info": {
   "codemirror_mode": {
    "name": "ipython",
    "version": 3
   },
   "file_extension": ".py",
   "mimetype": "text/x-python",
   "name": "python",
   "nbconvert_exporter": "python",
   "pygments_lexer": "ipython3",
   "version": "3.7.4"
  }
 },
 "nbformat": 4,
 "nbformat_minor": 2
}
