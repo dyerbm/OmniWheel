{
 "cells": [
  {
   "cell_type": "code",
   "execution_count": 139,
   "metadata": {},
   "outputs": [],
   "source": [
    "import numpy as np\n",
    "import matplotlib.pyplot as plt\n",
    "import pandas as pd\n",
    "from tqdm import tqdm #library to make a progress bar when doing long for loops\n",
    "from scipy.optimize import curve_fit #for forcing curve fit\n",
    "import time #for testing efficiency of code\n",
    "\n",
    "import warnings\n",
    "warnings.filterwarnings('ignore') #suppressed normal warnings (disable this if something stops working)\n",
    "\n",
    "xy = 'x' #we looking at x or y?"
   ]
  },
  {
   "cell_type": "code",
   "execution_count": 140,
   "metadata": {},
   "outputs": [],
   "source": [
    "def process(filename): #return a processed dataframe\n",
    "    data = pd.read_excel(filename, \n",
    "                    names = [\"globaltime\",\"dt\",'rb1x','rb1y','rb1z','rb2x','rb2y','rb2z',\n",
    "                            'rb3x','rb3y','rb3z','rb4x','rb4y','rb4z','rb5x','rb5y','rb5z',\n",
    "                            'rb6x','rb6y','rb6z','rb7x','rb7y','rb7z','rb8x','rb8y','rb8z',\n",
    "                            'xd','yd','thetad'])\n",
    "\n",
    "    while data.iloc[0]['rb1z']==0.0:\n",
    "        data = data.drop(0)\n",
    "        data.index-=1\n",
    "        \n",
    "    #calculate robot position at each point\n",
    "\n",
    "    #calculate the center of the robot\n",
    "    Adet = (data['rb1x']*(data['rb4y']-data['rb6y']) -\n",
    "           data['rb1y']*(data['rb4x']-data['rb6x']) +\n",
    "           data['rb4x']*data['rb6y']-data['rb6x']*data['rb4y'])\n",
    "\n",
    "    Bdet = ((data['rb1x']**2+data['rb1y']**2)*(data['rb6y']-data['rb4y'])  +\n",
    "           (data['rb4x']**2+data['rb4y']**2)*(data['rb1y']-data['rb6y'])  +\n",
    "           (data['rb6x']**2+data['rb6y']**2)*(data['rb4y']-data['rb1y']) )\n",
    "\n",
    "    Cdet = ((data['rb1x']**2+data['rb1y']**2)*(data['rb4x']-data['rb6x'])  +\n",
    "           (data['rb4x']**2+data['rb4y']**2)*(data['rb6x']-data['rb1x'])  +\n",
    "           (data['rb6x']**2+data['rb6y']**2)*(data['rb1x']-data['rb4x']) )\n",
    "\n",
    "    x_r = -Bdet/(2.*Adet)/1000.+Bdet[0]/(2.*Adet[0])/1000. #robot global position x in meters (adjusted to origin)\n",
    "    y_r = -Cdet/(2.*Adet)/1000.+Cdet[0]/(2.*Adet[0])/1000. #robot global position y in meters\n",
    "\n",
    "    x_mid = (data['rb1x']+data['rb8x'])/2./1000.+Bdet[0]/(2.*Adet[0])/1000. #calculate the midpoint of wheel 1 (adjusted to origin)\n",
    "    y_mid = (data['rb1y']+data['rb8y'])/2./1000.+Cdet[0]/(2.*Adet[0])/1000.\n",
    "\n",
    "    #rotate desired position to be in line with robot\n",
    "    xd_rot = data['xd']\n",
    "    yd_rot = data['yd']\n",
    "\n",
    "\n",
    "    xr_rot =x_r*np.cos(np.arctan2(y_mid[0]-y_r[0],x_mid[0]-x_r[0]))+y_r*np.sin(np.arctan2(y_mid[0]-y_r[0],x_mid[0]-x_r[0]))\n",
    "    yr_rot =y_r*np.cos(np.arctan2(y_mid[0]-y_r[0],x_mid[0]-x_r[0]))-x_r*np.sin(np.arctan2(y_mid[0]-y_r[0],x_mid[0]-x_r[0]))\n",
    "    theta_r = np.arctan2(y_mid-y_r,x_mid-x_r) - np.arctan2(y_mid[0]-y_r[0],x_mid[0]-x_r[0]) #robot angle starting at 0\n",
    "    \n",
    "    pdata = pd.DataFrame()\n",
    "    pdata.insert(0,\"globaltime\", data['globaltime'],True) #get global time\n",
    "    pdata.insert(1, \"x_r\", xr_rot,True) #get robot positions (adjusted to origin)\n",
    "    pdata.insert(2, \"y_r\", yr_rot,True)\n",
    "    pdata.insert(3, \"theta_r\", theta_r,True)\n",
    "\n",
    "    pdata.insert(4, \"x_d\", xd_rot,True) #get robot desired positions (adjusted for starting orientation)\n",
    "    pdata.insert(5, \"y_d\", yd_rot,True)\n",
    "    pdata.insert(6, \"theta_d\", data['thetad'],True)\n",
    "\n",
    "    pdata.insert(7,'e_x', pdata['x_r']-pdata['x_d']) #calculate the errors at each point\n",
    "    pdata.insert(8,'e_y', pdata['y_r']-pdata['y_d'])\n",
    "    pdata.insert(9,'e_theta', pdata['theta_r']-pdata['theta_d'])\n",
    "    \n",
    "    return pdata\n",
    "\n",
    "\n",
    "def get_points(df, points): #returns array of points\n",
    "    \n",
    "    smalldf = pd.DataFrame()\n",
    "    \n",
    "    for i in points:\n",
    "        df_sort = df.iloc[(df['globaltime']-i).abs().argsort()[:2]].index.tolist() #get higher and lower value\n",
    "        \n",
    "        smalldf = smalldf.append(df.iloc[df_sort[0],:])\n",
    "    \n",
    "    smalldf.reset_index(inplace=True, drop=True)\n",
    "    return smalldf\n",
    "    "
   ]
  },
  {
   "cell_type": "code",
   "execution_count": 141,
   "metadata": {},
   "outputs": [
    {
     "name": "stderr",
     "output_type": "stream",
     "text": [
      "100%|██████████████████████████████████████████████████████████████████████████████████| 10/10 [00:25<00:00,  2.51s/it]\n"
     ]
    }
   ],
   "source": [
    "my_index = pd.MultiIndex(levels=[[]]*2,\n",
    "                             labels=[[]]*2,\n",
    "                             names=[u'trial',u'index'])\n",
    "my_columns = [u'e_theta', u'e_x', u'e_y',u'globaltime',u'x_r',u'y_r',u'theta_r',u'x_d',u'y_d',u'theta_d']\n",
    "multiframe=pd.DataFrame(index=my_index, columns=my_columns)\n",
    "\n",
    "pull_points=[2,10,18,26,34,42,50,58,66,74,82,90,98,106,114]\n",
    "\n",
    "for i in tqdm(range(10)):\n",
    "    frame = process(\"./31-08-2020/SMC_\"+xy+\"_zigzag\"+str(i)+\".xlsx\")\n",
    "    frame = get_points(frame, pull_points)\n",
    "    multiframe = multiframe.append(frame.assign(k='trial'+str(i)).set_index('k',append=True).swaplevel(0,1))\n",
    "\n",
    "#my_index.append(b.assign(k='C').set_index('k',append=True).swaplevel(0,1))"
   ]
  },
  {
   "cell_type": "code",
   "execution_count": 142,
   "metadata": {
    "scrolled": true
   },
   "outputs": [
    {
     "data": {
      "image/png": "[encoded data removed]",
      "text/plain": [
       "<Figure size 432x288 with 1 Axes>"
      ]
     },
     "metadata": {
      "needs_background": "light"
     },
     "output_type": "display_data"
    }
   ],
   "source": [
    "ax = plt.subplot(1,1,1)\n",
    "ax.plot(multiframe.loc['trial0']['x_d'], multiframe.loc['trial0']['y_d'],':', label='desired path')\n",
    "ax.scatter(multiframe.loc['trial0']['x_d'],multiframe.loc['trial0']['y_d'])\n",
    "for i in range(10):\n",
    "    ax.scatter(multiframe.loc['trial'+str(i)]['x_r'], multiframe.loc['trial'+str(i)]['y_r'],s=4, label='trial '+str(i))\n",
    "ax.legend(bbox_to_anchor=(1.05, 1), loc='upper left')\n",
    "plt.xlabel('x (m)')\n",
    "plt.ylabel('y (m)')\n",
    "plt.savefig('test.png',dpi=300)\n",
    "plt.show()"
   ]
  },
  {
   "cell_type": "code",
   "execution_count": 143,
   "metadata": {},
   "outputs": [
    {
     "data": {
      "image/png": "[encoded data removed]",
      "text/plain": [
       "<Figure size 432x288 with 1 Axes>"
      ]
     },
     "metadata": {
      "needs_background": "light"
     },
     "output_type": "display_data"
    },
    {
     "name": "stdout",
     "output_type": "stream",
     "text": [
      "Drift = [0.01966029]m/m\n"
     ]
    }
   ],
   "source": [
    "def fit_func(x, a): #Come up with linear fits for drift (b=0)\n",
    "    return a*x\n",
    "m=0\n",
    "for i in range(10):\n",
    "    m = m+curve_fit(fit_func, multiframe.loc['trial'+str(i)]['globaltime'], multiframe.loc['trial'+str(i)]['e_'+xy])[0]/10.\n",
    "\n",
    "ax = plt.subplot(1,1,1)\n",
    "for i in range(10):\n",
    "    ax.scatter(multiframe.loc['trial'+str(i)]['globaltime'],multiframe.loc['trial'+str(i)]['e_'+xy], s=4, label='trial '+str(i))\n",
    "ax.plot(multiframe.loc['trial'+str(i)]['globaltime'],m*multiframe.loc['trial'+str(i)]['globaltime'],label=(\"%f t\" % (m)))\n",
    "ax.legend(bbox_to_anchor=(1.05, 1), loc='upper left')\n",
    "plt.xlabel('test point')\n",
    "plt.ylabel(xy +' error (m)')\n",
    "plt.show()   \n",
    "\n",
    "print(\"Drift = \" + str(m*114./3.) + \"m/m\")"
   ]
  },
  {
   "cell_type": "code",
   "execution_count": 144,
   "metadata": {
    "scrolled": false
   },
   "outputs": [
    {
     "data": {
      "text/plain": [
       "index\n",
       "0      0.005725\n",
       "1      3.858815\n",
       "2      9.413700\n",
       "3      6.117676\n",
       "4      1.917051\n",
       "5      3.320771\n",
       "6      8.088773\n",
       "7      3.712206\n",
       "8      1.473953\n",
       "9      4.748726\n",
       "10     9.705333\n",
       "11    14.851898\n",
       "12    23.938462\n",
       "13    19.463174\n",
       "14    14.173280\n",
       "Name: e_y, dtype: float64"
      ]
     },
     "execution_count": 144,
     "metadata": {},
     "output_type": "execute_result"
    }
   ],
   "source": [
    "RMSE = 0\n",
    "\n",
    "for i in range(10):\n",
    "    RMSE_x = multiframe.loc['trial'+str(i)]['e_x']**2\n",
    "    RMSE_y = multiframe.loc['trial'+str(i)]['e_y']**2\n",
    "\n",
    "RMSE_x = np.sqrt(RMSE_x/10)\n",
    "RMSE_y = np.sqrt(RMSE_y/10)\n",
    "RMSE_y*10**3"
   ]
  },
  {
   "cell_type": "code",
   "execution_count": 145,
   "metadata": {
    "scrolled": true
   },
   "outputs": [
    {
     "data": {
      "text/plain": [
       "index\n",
       "0      0.004629\n",
       "1      1.433196\n",
       "2      1.770478\n",
       "3      6.228252\n",
       "4      2.226558\n",
       "5      3.374630\n",
       "6      0.480472\n",
       "7      6.373153\n",
       "8     10.025047\n",
       "9     15.105360\n",
       "10     7.453962\n",
       "11     3.688871\n",
       "12     1.529763\n",
       "13    10.011093\n",
       "14    17.908021\n",
       "Name: e_x, dtype: float64"
      ]
     },
     "execution_count": 145,
     "metadata": {},
     "output_type": "execute_result"
    }
   ],
   "source": [
    "RMSE_x*10**3\n"
   ]
  },
  {
   "cell_type": "code",
   "execution_count": 54,
   "metadata": {},
   "outputs": [],
   "source": [
    "RMSE_x = np.sqrt(sum(pdata['e_x']**2)/len(pdata['e_x']))\n",
    "RMSE_y = np.sqrt(sum(pdata['e_y']**2)/len(pdata['e_y']))\n",
    "RMSE_theta = np.sqrt(sum(pdata['e_theta']**2)/len(pdata['e_theta']))\n",
    "\n",
    "RMSE_x_nt = np.sqrt(sum(pdata['e_x_nt']**2)/len(pdata['e_x']))\n",
    "RMSE_y_nt = np.sqrt(sum(pdata['e_y_nt']**2)/len(pdata['e_y']))\n",
    "RMSE_theta_nt = np.sqrt(sum(pdata['e_theta_nt']**2)/len(pdata['e_theta']))"
   ]
  },
  {
   "cell_type": "code",
   "execution_count": null,
   "metadata": {},
   "outputs": [],
   "source": []
  },
  {
   "cell_type": "code",
   "execution_count": 10,
   "metadata": {},
   "outputs": [
    {
     "name": "stdout",
     "output_type": "stream",
     "text": [
      "0.17287393243863944\n",
      "0.2579143051273882\n",
      "4.064514864590051\n",
      "0.4377684780387974\n",
      "0.5406187023096461\n",
      "4.01094996569265\n"
     ]
    }
   ],
   "source": [
    "print(RMSE_x)\n",
    "print(RMSE_y)\n",
    "print(RMSE_theta)\n",
    "\n",
    "print(RMSE_x_nt)\n",
    "print(RMSE_y_nt)\n",
    "print(RMSE_theta_nt)"
   ]
  },
  {
   "cell_type": "code",
   "execution_count": 33,
   "metadata": {
    "scrolled": true
   },
   "outputs": [
    {
     "ename": "ValueError",
     "evalue": "array must not contain infs or NaNs",
     "output_type": "error",
     "traceback": [
      "\u001b[1;31m---------------------------------------------------------------------------\u001b[0m",
      "\u001b[1;31mValueError\u001b[0m                                Traceback (most recent call last)",
      "\u001b[1;32m<ipython-input-33-1eb4584fd53e>\u001b[0m in \u001b[0;36m<module>\u001b[1;34m\u001b[0m\n\u001b[0;32m      2\u001b[0m     \u001b[1;32mreturn\u001b[0m \u001b[0ma\u001b[0m\u001b[1;33m*\u001b[0m\u001b[0mx\u001b[0m\u001b[1;33m\u001b[0m\u001b[1;33m\u001b[0m\u001b[0m\n\u001b[0;32m      3\u001b[0m \u001b[1;33m\u001b[0m\u001b[0m\n\u001b[1;32m----> 4\u001b[1;33m \u001b[0mm_x\u001b[0m \u001b[1;33m=\u001b[0m \u001b[0mcurve_fit\u001b[0m\u001b[1;33m(\u001b[0m\u001b[0mfit_func\u001b[0m\u001b[1;33m,\u001b[0m \u001b[0mpdata\u001b[0m\u001b[1;33m[\u001b[0m\u001b[1;34m'globaltime'\u001b[0m\u001b[1;33m]\u001b[0m\u001b[1;33m,\u001b[0m \u001b[0mpdata\u001b[0m\u001b[1;33m[\u001b[0m\u001b[1;34m'e_x_nt'\u001b[0m\u001b[1;33m]\u001b[0m\u001b[1;33m)\u001b[0m\u001b[1;33m[\u001b[0m\u001b[1;36m0\u001b[0m\u001b[1;33m]\u001b[0m\u001b[1;33m\u001b[0m\u001b[1;33m\u001b[0m\u001b[0m\n\u001b[0m\u001b[0;32m      5\u001b[0m \u001b[0mm_y\u001b[0m \u001b[1;33m=\u001b[0m \u001b[0mcurve_fit\u001b[0m\u001b[1;33m(\u001b[0m\u001b[0mfit_func\u001b[0m\u001b[1;33m,\u001b[0m \u001b[0mpdata\u001b[0m\u001b[1;33m[\u001b[0m\u001b[1;34m'globaltime'\u001b[0m\u001b[1;33m]\u001b[0m\u001b[1;33m,\u001b[0m \u001b[0mpdata\u001b[0m\u001b[1;33m[\u001b[0m\u001b[1;34m'e_y_nt'\u001b[0m\u001b[1;33m]\u001b[0m\u001b[1;33m)\u001b[0m\u001b[1;33m[\u001b[0m\u001b[1;36m0\u001b[0m\u001b[1;33m]\u001b[0m\u001b[1;33m\u001b[0m\u001b[1;33m\u001b[0m\u001b[0m\n\u001b[0;32m      6\u001b[0m \u001b[0mm_theta\u001b[0m \u001b[1;33m=\u001b[0m \u001b[0mcurve_fit\u001b[0m\u001b[1;33m(\u001b[0m\u001b[0mfit_func\u001b[0m\u001b[1;33m,\u001b[0m \u001b[0mpdata\u001b[0m\u001b[1;33m[\u001b[0m\u001b[1;34m'globaltime'\u001b[0m\u001b[1;33m]\u001b[0m\u001b[1;33m,\u001b[0m \u001b[0mpdata\u001b[0m\u001b[1;33m[\u001b[0m\u001b[1;34m'e_theta_nt'\u001b[0m\u001b[1;33m]\u001b[0m\u001b[1;33m)\u001b[0m\u001b[1;33m[\u001b[0m\u001b[1;36m0\u001b[0m\u001b[1;33m]\u001b[0m\u001b[1;33m\u001b[0m\u001b[1;33m\u001b[0m\u001b[0m\n",
      "\u001b[1;32m~\\anaconda3\\lib\\site-packages\\scipy\\optimize\\minpack.py\u001b[0m in \u001b[0;36mcurve_fit\u001b[1;34m(f, xdata, ydata, p0, sigma, absolute_sigma, check_finite, bounds, method, jac, **kwargs)\u001b[0m\n\u001b[0;32m    732\u001b[0m     \u001b[1;31m# NaNs cannot be handled\u001b[0m\u001b[1;33m\u001b[0m\u001b[1;33m\u001b[0m\u001b[1;33m\u001b[0m\u001b[0m\n\u001b[0;32m    733\u001b[0m     \u001b[1;32mif\u001b[0m \u001b[0mcheck_finite\u001b[0m\u001b[1;33m:\u001b[0m\u001b[1;33m\u001b[0m\u001b[1;33m\u001b[0m\u001b[0m\n\u001b[1;32m--> 734\u001b[1;33m         \u001b[0mydata\u001b[0m \u001b[1;33m=\u001b[0m \u001b[0mnp\u001b[0m\u001b[1;33m.\u001b[0m\u001b[0masarray_chkfinite\u001b[0m\u001b[1;33m(\u001b[0m\u001b[0mydata\u001b[0m\u001b[1;33m,\u001b[0m \u001b[0mfloat\u001b[0m\u001b[1;33m)\u001b[0m\u001b[1;33m\u001b[0m\u001b[1;33m\u001b[0m\u001b[0m\n\u001b[0m\u001b[0;32m    735\u001b[0m     \u001b[1;32melse\u001b[0m\u001b[1;33m:\u001b[0m\u001b[1;33m\u001b[0m\u001b[1;33m\u001b[0m\u001b[0m\n\u001b[0;32m    736\u001b[0m         \u001b[0mydata\u001b[0m \u001b[1;33m=\u001b[0m \u001b[0mnp\u001b[0m\u001b[1;33m.\u001b[0m\u001b[0masarray\u001b[0m\u001b[1;33m(\u001b[0m\u001b[0mydata\u001b[0m\u001b[1;33m,\u001b[0m \u001b[0mfloat\u001b[0m\u001b[1;33m)\u001b[0m\u001b[1;33m\u001b[0m\u001b[1;33m\u001b[0m\u001b[0m\n",
      "\u001b[1;32m~\\anaconda3\\lib\\site-packages\\numpy\\lib\\function_base.py\u001b[0m in \u001b[0;36masarray_chkfinite\u001b[1;34m(a, dtype, order)\u001b[0m\n\u001b[0;32m    496\u001b[0m     \u001b[0ma\u001b[0m \u001b[1;33m=\u001b[0m \u001b[0masarray\u001b[0m\u001b[1;33m(\u001b[0m\u001b[0ma\u001b[0m\u001b[1;33m,\u001b[0m \u001b[0mdtype\u001b[0m\u001b[1;33m=\u001b[0m\u001b[0mdtype\u001b[0m\u001b[1;33m,\u001b[0m \u001b[0morder\u001b[0m\u001b[1;33m=\u001b[0m\u001b[0morder\u001b[0m\u001b[1;33m)\u001b[0m\u001b[1;33m\u001b[0m\u001b[1;33m\u001b[0m\u001b[0m\n\u001b[0;32m    497\u001b[0m     \u001b[1;32mif\u001b[0m \u001b[0ma\u001b[0m\u001b[1;33m.\u001b[0m\u001b[0mdtype\u001b[0m\u001b[1;33m.\u001b[0m\u001b[0mchar\u001b[0m \u001b[1;32min\u001b[0m \u001b[0mtypecodes\u001b[0m\u001b[1;33m[\u001b[0m\u001b[1;34m'AllFloat'\u001b[0m\u001b[1;33m]\u001b[0m \u001b[1;32mand\u001b[0m \u001b[1;32mnot\u001b[0m \u001b[0mnp\u001b[0m\u001b[1;33m.\u001b[0m\u001b[0misfinite\u001b[0m\u001b[1;33m(\u001b[0m\u001b[0ma\u001b[0m\u001b[1;33m)\u001b[0m\u001b[1;33m.\u001b[0m\u001b[0mall\u001b[0m\u001b[1;33m(\u001b[0m\u001b[1;33m)\u001b[0m\u001b[1;33m:\u001b[0m\u001b[1;33m\u001b[0m\u001b[1;33m\u001b[0m\u001b[0m\n\u001b[1;32m--> 498\u001b[1;33m         raise ValueError(\n\u001b[0m\u001b[0;32m    499\u001b[0m             \"array must not contain infs or NaNs\")\n\u001b[0;32m    500\u001b[0m     \u001b[1;32mreturn\u001b[0m \u001b[0ma\u001b[0m\u001b[1;33m\u001b[0m\u001b[1;33m\u001b[0m\u001b[0m\n",
      "\u001b[1;31mValueError\u001b[0m: array must not contain infs or NaNs"
     ]
    }
   ],
   "source": [
    "def fit_func(x, a): #Come up with linear fits for drift (b=0)\n",
    "    return a*x\n",
    "\n",
    "m_x = curve_fit(fit_func, pdata['globaltime'], pdata['e_x_nt'])[0]\n",
    "m_y = curve_fit(fit_func, pdata['globaltime'], pdata['e_y_nt'])[0]\n",
    "m_theta = curve_fit(fit_func, pdata['globaltime'], pdata['e_theta_nt'])[0]\n",
    "\n",
    "plt.plot(pdata['globaltime'],m_x*pdata['globaltime'],label=(\"%f t\" % (m_x)))\n",
    "plt.plot(pdata['globaltime'],pdata['e_x_nt'])\n",
    "plt.legend()\n",
    "plt.show()\n",
    "\n",
    "plt.plot(pdata['globaltime'],m_y*pdata['globaltime'],label=(\"%f t\" % (m_y)))\n",
    "plt.plot(pdata['globaltime'],pdata['e_y_nt'])\n",
    "plt.legend()\n",
    "plt.show()\n",
    "\n",
    "plt.plot(pdata['globaltime'],m_theta*pdata['globaltime'],label=(\"%f t\" % (m_theta)))\n",
    "plt.plot(pdata['globaltime'],pdata['e_theta_nt'])\n",
    "plt.legend()\n",
    "plt.show()\n",
    "\n",
    "'''\n",
    "\n",
    "m_x,b_x = np.polyfit(pdata['globaltime'], pdata['e_x_nt'], 1) # Come up with linear fits for drift (b!=0)\n",
    "m_y,b_y = np.polyfit(pdata['globaltime'], pdata['e_y_nt'], 1)\n",
    "m_theta,b_theta = np.polyfit(pdata['globaltime'], pdata['e_theta_nt'], 1)\n",
    "\n",
    "plt.plot(pdata['globaltime'],m_x*pdata['globaltime']+b_x,label=(\"%f t %f\" % (m_x,b_x)))\n",
    "plt.plot(pdata['globaltime'],pdata['e_x_nt'])\n",
    "plt.legend()\n",
    "plt.show()\n",
    "\n",
    "plt.plot(pdata['globaltime'],m_y*pdata['globaltime']+b_y,label=(\"%f t %f\" % (m_y,b_y)))\n",
    "plt.plot(pdata['globaltime'],pdata['e_y_nt'])\n",
    "plt.legend()\n",
    "plt.show()\n",
    "\n",
    "plt.plot(pdata['globaltime'],m_theta*pdata['globaltime']+b_theta,label=(\"%f t %f\" % (m_theta,b_theta)))\n",
    "plt.plot(pdata['globaltime'],pdata['e_theta_nt'])\n",
    "plt.legend()\n",
    "plt.show()'''"
   ]
  },
  {
   "cell_type": "code",
   "execution_count": 40,
   "metadata": {},
   "outputs": [
    {
     "data": {
      "text/plain": [
       "\"\\n\\npdata.insert(13,'e_x_adj',pdata['e_x_nt']-m_x*pdata['globaltime']-b_x) #calculate adjusted errors (b!=0)\\npdata.insert(14,'e_y_adj',pdata['e_y_nt']-m_y*pdata['globaltime']-b_y)\\npdata.insert(15,'e_theta_adj',pdata['e_theta_nt']-m_theta*pdata['globaltime']-b_theta)\""
      ]
     },
     "execution_count": 40,
     "metadata": {},
     "output_type": "execute_result"
    }
   ],
   "source": [
    "pdata.insert(13,'e_x_adj',pdata['e_x_nt']-m_x*pdata['globaltime']) #calculate adjusted errors (b=0)\n",
    "pdata.insert(14,'e_y_adj',pdata['e_y_nt']-m_y*pdata['globaltime'])\n",
    "pdata.insert(15,'e_theta_adj',pdata['e_theta_nt']-m_theta*pdata['globaltime'])\n",
    "\n",
    "'''\n",
    "\n",
    "pdata.insert(13,'e_x_adj',pdata['e_x_nt']-m_x*pdata['globaltime']-b_x) #calculate adjusted errors (b!=0)\n",
    "pdata.insert(14,'e_y_adj',pdata['e_y_nt']-m_y*pdata['globaltime']-b_y)\n",
    "pdata.insert(15,'e_theta_adj',pdata['e_theta_nt']-m_theta*pdata['globaltime']-b_theta)'''"
   ]
  },
  {
   "cell_type": "code",
   "execution_count": 41,
   "metadata": {},
   "outputs": [
    {
     "name": "stdout",
     "output_type": "stream",
     "text": [
      "0.8118218536330315\n",
      "0.9774432625632172\n",
      "2.410022590821611\n"
     ]
    }
   ],
   "source": [
    "RMSE_x_adj=np.sqrt(sum(pdata['e_x_adj']**2)/len(pdata['e_x']))\n",
    "RMSE_y_adj=np.sqrt(sum(pdata['e_y_adj']**2)/len(pdata['e_x']))\n",
    "RMSE_theta_adj=np.sqrt(sum(pdata['e_theta_adj']**2)/len(pdata['e_x']))\n",
    "\n",
    "print(RMSE_x_adj)\n",
    "print(RMSE_y_adj)\n",
    "print(RMSE_theta_adj)"
   ]
  },
  {
   "cell_type": "code",
   "execution_count": 32,
   "metadata": {},
   "outputs": [],
   "source": [
    "pdata['e_x_nt']=pdata['e_x']\n",
    "pdata['e_y_nt']=pdata['e_y']\n",
    "pdata['e_theta_nt']=pdata['e_theta']"
   ]
  },
  {
   "cell_type": "code",
   "execution_count": 34,
   "metadata": {},
   "outputs": [
    {
     "data": {
      "text/plain": [
       "[<matplotlib.lines.Line2D at 0x1fd28e687f0>]"
      ]
     },
     "execution_count": 34,
     "metadata": {},
     "output_type": "execute_result"
    },
    {
     "data": {
      "image/png": "[encoded data removed]",
      "text/plain": [
       "<Figure size 432x288 with 1 Axes>"
      ]
     },
     "metadata": {
      "needs_background": "light"
     },
     "output_type": "display_data"
    }
   ],
   "source": [
    "plt.plot(pdata['e_x'])"
   ]
  },
  {
   "cell_type": "code",
   "execution_count": null,
   "metadata": {
    "scrolled": true
   },
   "outputs": [],
   "source": []
  },
  {
   "cell_type": "code",
   "execution_count": 44,
   "metadata": {
    "scrolled": false
   },
   "outputs": [
    {
     "name": "stdout",
     "output_type": "stream",
     "text": [
      "     0  1\n",
      "A d  1  2\n",
      "  e  3  4\n",
      "B d  5  6\n",
      "  e  7  8\n"
     ]
    }
   ],
   "source": []
  },
  {
   "cell_type": "code",
   "execution_count": null,
   "metadata": {},
   "outputs": [],
   "source": []
  },
  {
   "cell_type": "code",
   "execution_count": null,
   "metadata": {},
   "outputs": [],
   "source": []
  }
 ],
 "metadata": {
  "kernelspec": {
   "display_name": "Python 3",
   "language": "python",
   "name": "python3"
  },
  "language_info": {
   "codemirror_mode": {
    "name": "ipython",
    "version": 3
   },
   "file_extension": ".py",
   "mimetype": "text/x-python",
   "name": "python",
   "nbconvert_exporter": "python",
   "pygments_lexer": "ipython3",
   "version": "3.7.4"
  }
 },
 "nbformat": 4,
 "nbformat_minor": 2
}
