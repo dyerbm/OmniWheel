{
 "cells": [
  {
   "cell_type": "code",
   "execution_count": 1,
   "metadata": {},
   "outputs": [],
   "source": [
    "import numpy as np\n",
    "import matplotlib.pyplot as plt\n",
    "import pandas as pd\n",
    "from tqdm import tqdm #library to make a progress bar when doing long for loops\n",
    "from scipy.optimize import curve_fit #for forcing curve fit\n",
    "import time #for testing efficiency of code\n",
    "\n",
    "import warnings\n",
    "warnings.filterwarnings('ignore') #suppressed normal warnings (disable this if something stops working)\n",
    "\n",
    "xy = 'y' #we looking at x or y?"
   ]
  },
  {
   "cell_type": "code",
   "execution_count": 2,
   "metadata": {},
   "outputs": [],
   "source": [
    "def process(filename): #return a processed dataframe\n",
    "    data = pd.read_excel(filename, \n",
    "                    names = [\"globaltime\",\"dt\",'rb1x','rb1y','rb1z','rb2x','rb2y','rb2z',\n",
    "                            'rb3x','rb3y','rb3z','rb4x','rb4y','rb4z','rb5x','rb5y','rb5z',\n",
    "                            'rb6x','rb6y','rb6z','rb7x','rb7y','rb7z','rb8x','rb8y','rb8z',\n",
    "                            'xd','yd','thetad'])\n",
    "\n",
    "    while data.iloc[0]['rb1z']==0.0:\n",
    "        data = data.drop(0)\n",
    "        data.index-=1\n",
    "        \n",
    "    #calculate robot position at each point\n",
    "\n",
    "    #calculate the center of the robot\n",
    "    Adet = (data['rb1x']*(data['rb4y']-data['rb6y']) -\n",
    "           data['rb1y']*(data['rb4x']-data['rb6x']) +\n",
    "           data['rb4x']*data['rb6y']-data['rb6x']*data['rb4y'])\n",
    "\n",
    "    Bdet = ((data['rb1x']**2+data['rb1y']**2)*(data['rb6y']-data['rb4y'])  +\n",
    "           (data['rb4x']**2+data['rb4y']**2)*(data['rb1y']-data['rb6y'])  +\n",
    "           (data['rb6x']**2+data['rb6y']**2)*(data['rb4y']-data['rb1y']) )\n",
    "\n",
    "    Cdet = ((data['rb1x']**2+data['rb1y']**2)*(data['rb4x']-data['rb6x'])  +\n",
    "           (data['rb4x']**2+data['rb4y']**2)*(data['rb6x']-data['rb1x'])  +\n",
    "           (data['rb6x']**2+data['rb6y']**2)*(data['rb1x']-data['rb4x']) )\n",
    "\n",
    "    x_r = -Bdet/(2.*Adet)/1000.+Bdet[0]/(2.*Adet[0])/1000. #robot global position x in meters (adjusted to origin)\n",
    "    y_r = -Cdet/(2.*Adet)/1000.+Cdet[0]/(2.*Adet[0])/1000. #robot global position y in meters\n",
    "\n",
    "    x_mid = (data['rb1x']+data['rb8x'])/2./1000.+Bdet[0]/(2.*Adet[0])/1000. #calculate the midpoint of wheel 1 (adjusted to origin)\n",
    "    y_mid = (data['rb1y']+data['rb8y'])/2./1000.+Cdet[0]/(2.*Adet[0])/1000.\n",
    "\n",
    "    #rotate desired position to be in line with robot\n",
    "    xd_rot = data['xd']\n",
    "    yd_rot = data['yd']\n",
    "\n",
    "\n",
    "    xr_rot =x_r*np.cos(np.arctan2(y_mid[0]-y_r[0],x_mid[0]-x_r[0]))+y_r*np.sin(np.arctan2(y_mid[0]-y_r[0],x_mid[0]-x_r[0]))\n",
    "    yr_rot =y_r*np.cos(np.arctan2(y_mid[0]-y_r[0],x_mid[0]-x_r[0]))-x_r*np.sin(np.arctan2(y_mid[0]-y_r[0],x_mid[0]-x_r[0]))\n",
    "    theta_r = np.arctan2(y_mid-y_r,x_mid-x_r) - np.arctan2(y_mid[0]-y_r[0],x_mid[0]-x_r[0]) #robot angle starting at 0\n",
    "    \n",
    "    pdata = pd.DataFrame()\n",
    "    pdata.insert(0,\"globaltime\", data['globaltime'],True) #get global time\n",
    "    pdata.insert(1, \"x_r\", xr_rot,True) #get robot positions (adjusted to origin)\n",
    "    pdata.insert(2, \"y_r\", yr_rot,True)\n",
    "    pdata.insert(3, \"theta_r\", theta_r,True)\n",
    "\n",
    "    pdata.insert(4, \"x_d\", xd_rot,True) #get robot desired positions (adjusted for starting orientation)\n",
    "    pdata.insert(5, \"y_d\", yd_rot,True)\n",
    "    pdata.insert(6, \"theta_d\", data['thetad'],True)\n",
    "\n",
    "    pdata.insert(7,'e_x', pdata['x_r']-pdata['x_d']) #calculate the errors at each point\n",
    "    pdata.insert(8,'e_y', pdata['y_r']-pdata['y_d'])\n",
    "    pdata.insert(9,'e_theta', pdata['theta_r']-pdata['theta_d'])\n",
    "    \n",
    "    return pdata\n",
    "\n",
    "\n",
    "def get_points(df, points): #returns array of points\n",
    "    \n",
    "    smalldf = pd.DataFrame()\n",
    "    \n",
    "    for i in points:\n",
    "        df_sort = df.iloc[(df['globaltime']-i).abs().argsort()[:2]].index.tolist() #get higher and lower value\n",
    "        \n",
    "        smalldf = smalldf.append(df.iloc[df_sort[0],:])\n",
    "    \n",
    "    smalldf.reset_index(inplace=True, drop=True)\n",
    "    return smalldf\n",
    "    "
   ]
  },
  {
   "cell_type": "code",
   "execution_count": 3,
   "metadata": {},
   "outputs": [
    {
     "name": "stderr",
     "output_type": "stream",
     "text": [
      "100%|████████████████████████████████████████████████████████████████████████████████████| 5/5 [00:14<00:00,  2.89s/it]\n"
     ]
    }
   ],
   "source": [
    "my_index = pd.MultiIndex(levels=[[]]*2,\n",
    "                            labels=[[]]*2,\n",
    "                            names=[u'trial',u'index'])\n",
    "my_columns = [u'e_theta', u'e_x', u'e_y',u'globaltime',u'x_r',u'y_r',u'theta_r',u'x_d',u'y_d',u'theta_d']\n",
    "multiframe=pd.DataFrame(index=my_index, columns=my_columns)\n",
    "\n",
    "#pull_points=[2,10,18,26,34,42,50,58,66,74,82,90,98,106,114]\n",
    "pull_points=[3,13,23,33,43,53,63,73,83,93,103,113,123,133,143]\n",
    "\n",
    "for i in tqdm(range(5)):\n",
    "    frame = process(\"./03-09-2020/SMC_\"+xy+\"_zigzag\"+str(i)+\".xlsx\")\n",
    "    frame = get_points(frame, pull_points)\n",
    "    multiframe = multiframe.append(frame.assign(k='trial'+str(i)).set_index('k',append=True).swaplevel(0,1))\n",
    "\n",
    "#my_index.append(b.assign(k='C').set_index('k',append=True).swaplevel(0,1))"
   ]
  },
  {
   "cell_type": "code",
   "execution_count": 4,
   "metadata": {
    "scrolled": true
   },
   "outputs": [
    {
     "data": {
      "image/png": "[encoded data removed]",
      "text/plain": [
       "<Figure size 432x288 with 1 Axes>"
      ]
     },
     "metadata": {
      "needs_background": "light"
     },
     "output_type": "display_data"
    }
   ],
   "source": [
    "ax = plt.subplot(1,1,1)\n",
    "ax.plot(multiframe.loc['trial0']['x_d'], multiframe.loc['trial0']['y_d'],':', label='desired path')\n",
    "ax.scatter(multiframe.loc['trial0']['x_d'],multiframe.loc['trial0']['y_d'])\n",
    "for i in range(5):\n",
    "    ax.scatter(multiframe.loc['trial'+str(i)]['x_r'], multiframe.loc['trial'+str(i)]['y_r'],s=4, label='trial '+str(i))\n",
    "ax.legend(bbox_to_anchor=(1.05, 1), loc='upper left')\n",
    "plt.xlabel('x (m)')\n",
    "plt.ylabel('y (m)')\n",
    "plt.savefig('test.png',dpi=300)\n",
    "plt.show()"
   ]
  },
  {
   "cell_type": "code",
   "execution_count": 6,
   "metadata": {},
   "outputs": [
    {
     "data": {
      "image/png": "[encoded data removed]",
      "text/plain": [
       "<Figure size 432x288 with 1 Axes>"
      ]
     },
     "metadata": {
      "needs_background": "light"
     },
     "output_type": "display_data"
    },
    {
     "name": "stdout",
     "output_type": "stream",
     "text": [
      "Drift = [-0.00209391]m/m\n"
     ]
    }
   ],
   "source": [
    "def fit_func(x, a): #Come up with linear fits for drift (b=0)\n",
    "    return a*x\n",
    "m=0\n",
    "for i in range(5):\n",
    "    m = m+curve_fit(fit_func, multiframe.loc['trial'+str(i)]['globaltime'], multiframe.loc['trial'+str(i)]['e_'+xy])[0]/5.\n",
    "\n",
    "ax = plt.subplot(1,1,1)\n",
    "for i in range(5):\n",
    "    ax.scatter(multiframe.loc['trial'+str(i)]['globaltime'],multiframe.loc['trial'+str(i)]['e_'+xy], s=4, label='trial '+str(i))\n",
    "ax.plot(multiframe.loc['trial'+str(i)]['globaltime'],m*multiframe.loc['trial'+str(i)]['globaltime'],label=(\"%f t\" % (m)))\n",
    "ax.legend(bbox_to_anchor=(1.05, 1), loc='upper left')\n",
    "plt.xlabel('test point')\n",
    "plt.ylabel(xy +' error (m)')\n",
    "plt.show()   \n",
    "\n",
    "print(\"Drift = \" + str(m*114./3.) + \"m/m\")"
   ]
  },
  {
   "cell_type": "code",
   "execution_count": 8,
   "metadata": {
    "scrolled": false
   },
   "outputs": [
    {
     "data": {
      "text/plain": [
       "index\n",
       "0      0.048506\n",
       "1      1.281492\n",
       "2      2.827169\n",
       "3      3.410699\n",
       "4      1.819488\n",
       "5      1.028913\n",
       "6      0.766523\n",
       "7      0.639937\n",
       "8      3.552509\n",
       "9      0.922890\n",
       "10     4.894678\n",
       "11     6.437152\n",
       "12     9.262189\n",
       "13    13.957898\n",
       "14    20.697223\n",
       "Name: e_y, dtype: float64"
      ]
     },
     "execution_count": 8,
     "metadata": {},
     "output_type": "execute_result"
    }
   ],
   "source": [
    "RMSE = 0\n",
    "\n",
    "for i in range(5):\n",
    "    RMSE_x = multiframe.loc['trial'+str(i)]['e_x']**2\n",
    "    RMSE_y = multiframe.loc['trial'+str(i)]['e_y']**2\n",
    "\n",
    "RMSE_x = np.sqrt(RMSE_x/5)\n",
    "RMSE_y = np.sqrt(RMSE_y/5)\n",
    "RMSE_y*10**3"
   ]
  },
  {
   "cell_type": "code",
   "execution_count": 152,
   "metadata": {
    "scrolled": true
   },
   "outputs": [
    {
     "data": {
      "text/plain": [
       "index\n",
       "0      0.004629\n",
       "1      1.433196\n",
       "2      1.770478\n",
       "3      6.228252\n",
       "4      2.226558\n",
       "5      3.374630\n",
       "6      0.480472\n",
       "7      6.373153\n",
       "8     10.025047\n",
       "9     15.105360\n",
       "10     7.453962\n",
       "11     3.688871\n",
       "12     1.529763\n",
       "13    10.011093\n",
       "14    17.908021\n",
       "Name: e_x, dtype: float64"
      ]
     },
     "execution_count": 152,
     "metadata": {},
     "output_type": "execute_result"
    }
   ],
   "source": [
    "RMSE_x*10**3"
   ]
  },
  {
   "cell_type": "code",
   "execution_count": 164,
   "metadata": {},
   "outputs": [
    {
     "data": {
      "image/png": "[encoded data removed]",
      "text/plain": [
       "<Figure size 432x288 with 1 Axes>"
      ]
     },
     "metadata": {
      "needs_background": "light"
     },
     "output_type": "display_data"
    }
   ],
   "source": [
    "ax = plt.subplot(1,1,1)\n",
    "ax.plot(multiframe.loc['trial0']['globaltime'], multiframe.loc['trial0']['theta_d'],':', label='desired path')\n",
    "for i in range(10):\n",
    "    ax.scatter(multiframe.loc['trial'+str(i)]['globaltime'], multiframe.loc['trial'+str(i)]['theta_r'],s=4, label='trial '+str(i))\n",
    "ax.legend(bbox_to_anchor=(1.05, 1), loc='upper left')\n",
    "plt.xlabel('Time (s)')\n",
    "plt.ylabel(r'$\\theta$ (Rad)')\n",
    "plt.savefig('test.png',dpi=300)\n",
    "plt.show()"
   ]
  },
  {
   "cell_type": "code",
   "execution_count": null,
   "metadata": {},
   "outputs": [],
   "source": []
  },
  {
   "cell_type": "code",
   "execution_count": null,
   "metadata": {},
   "outputs": [],
   "source": []
  },
  {
   "cell_type": "code",
   "execution_count": null,
   "metadata": {
    "scrolled": true
   },
   "outputs": [],
   "source": []
  },
  {
   "cell_type": "code",
   "execution_count": null,
   "metadata": {},
   "outputs": [],
   "source": []
  },
  {
   "cell_type": "code",
   "execution_count": null,
   "metadata": {},
   "outputs": [],
   "source": []
  },
  {
   "cell_type": "code",
   "execution_count": null,
   "metadata": {},
   "outputs": [],
   "source": []
  },
  {
   "cell_type": "code",
   "execution_count": null,
   "metadata": {},
   "outputs": [],
   "source": []
  },
  {
   "cell_type": "code",
   "execution_count": null,
   "metadata": {
    "scrolled": true
   },
   "outputs": [],
   "source": []
  },
  {
   "cell_type": "code",
   "execution_count": null,
   "metadata": {
    "scrolled": false
   },
   "outputs": [],
   "source": []
  },
  {
   "cell_type": "code",
   "execution_count": null,
   "metadata": {},
   "outputs": [],
   "source": []
  },
  {
   "cell_type": "code",
   "execution_count": null,
   "metadata": {},
   "outputs": [],
   "source": []
  }
 ],
 "metadata": {
  "kernelspec": {
   "display_name": "Python 3",
   "language": "python",
   "name": "python3"
  },
  "language_info": {
   "codemirror_mode": {
    "name": "ipython",
    "version": 3
   },
   "file_extension": ".py",
   "mimetype": "text/x-python",
   "name": "python",
   "nbconvert_exporter": "python",
   "pygments_lexer": "ipython3",
   "version": "3.7.3"
  }
 },
 "nbformat": 4,
 "nbformat_minor": 2
}
