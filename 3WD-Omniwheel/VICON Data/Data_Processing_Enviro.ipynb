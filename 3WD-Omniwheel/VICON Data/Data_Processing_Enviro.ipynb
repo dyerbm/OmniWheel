{
 "cells": [
  {
   "cell_type": "code",
   "execution_count": 107,
   "metadata": {},
   "outputs": [],
   "source": [
    "import numpy as np\n",
    "import matplotlib.pyplot as plt\n",
    "import pandas as pd\n",
    "from tqdm import tqdm #library to make a progress bar when doing long for loops\n",
    "from scipy.optimize import curve_fit #for forcing curve fit\n",
    "import time #for testing efficiency of code\n",
    "\n",
    "import warnings\n",
    "warnings.filterwarnings('ignore') #suppressed normal warnings (disable this if something stops working)\n",
    "\n",
    "xy = 'x' #we looking at x or y?"
   ]
  },
  {
   "cell_type": "code",
   "execution_count": 108,
   "metadata": {},
   "outputs": [],
   "source": [
    "def process(filename): #return a processed dataframe\n",
    "    data = pd.read_excel(filename, \n",
    "                    names = [\"globaltime\",\"dt\",'rb1x','rb1y','rb1z','rb2x','rb2y','rb2z',\n",
    "                            'rb3x','rb3y','rb3z','rb4x','rb4y','rb4z','rb5x','rb5y','rb5z',\n",
    "                            'rb6x','rb6y','rb6z','rb7x','rb7y','rb7z','rb8x','rb8y','rb8z',\n",
    "                            'xd','yd','thetad'])\n",
    "\n",
    "    while data.iloc[0]['rb1z']==0.0:\n",
    "        data = data.drop(0)\n",
    "        data.index-=1\n",
    "        \n",
    "    #calculate robot position at each point\n",
    "\n",
    "    #calculate the center of the robot\n",
    "    Adet = (data['rb1x']*(data['rb4y']-data['rb6y']) -\n",
    "           data['rb1y']*(data['rb4x']-data['rb6x']) +\n",
    "           data['rb4x']*data['rb6y']-data['rb6x']*data['rb4y'])\n",
    "\n",
    "    Bdet = ((data['rb1x']**2+data['rb1y']**2)*(data['rb6y']-data['rb4y'])  +\n",
    "           (data['rb4x']**2+data['rb4y']**2)*(data['rb1y']-data['rb6y'])  +\n",
    "           (data['rb6x']**2+data['rb6y']**2)*(data['rb4y']-data['rb1y']) )\n",
    "\n",
    "    Cdet = ((data['rb1x']**2+data['rb1y']**2)*(data['rb4x']-data['rb6x'])  +\n",
    "           (data['rb4x']**2+data['rb4y']**2)*(data['rb6x']-data['rb1x'])  +\n",
    "           (data['rb6x']**2+data['rb6y']**2)*(data['rb1x']-data['rb4x']) )\n",
    "\n",
    "    x_r = -Bdet/(2.*Adet)/1000.+Bdet[0]/(2.*Adet[0])/1000. #robot global position x in meters (adjusted to origin)\n",
    "    y_r = -Cdet/(2.*Adet)/1000.+Cdet[0]/(2.*Adet[0])/1000. #robot global position y in meters\n",
    "\n",
    "    x_mid = (data['rb1x']+data['rb8x'])/2./1000.+Bdet[0]/(2.*Adet[0])/1000. #calculate the midpoint of wheel 1 (adjusted to origin)\n",
    "    y_mid = (data['rb1y']+data['rb8y'])/2./1000.+Cdet[0]/(2.*Adet[0])/1000.\n",
    "\n",
    "    #rotate desired position to be in line with robot\n",
    "    xd_rot = data['xd']\n",
    "    yd_rot = data['yd']\n",
    "\n",
    "\n",
    "    xr_rot =x_r*np.cos(np.arctan2(y_mid[0]-y_r[0],x_mid[0]-x_r[0]))+y_r*np.sin(np.arctan2(y_mid[0]-y_r[0],x_mid[0]-x_r[0]))\n",
    "    yr_rot =y_r*np.cos(np.arctan2(y_mid[0]-y_r[0],x_mid[0]-x_r[0]))-x_r*np.sin(np.arctan2(y_mid[0]-y_r[0],x_mid[0]-x_r[0]))\n",
    "    theta_r = np.arctan2(y_mid-y_r,x_mid-x_r) - np.arctan2(y_mid[0]-y_r[0],x_mid[0]-x_r[0]) #robot angle starting at 0\n",
    "    \n",
    "    pdata = pd.DataFrame()\n",
    "    pdata.insert(0,\"globaltime\", data['globaltime'],True) #get global time\n",
    "    pdata.insert(1, \"x_r\", xr_rot,True) #get robot positions (adjusted to origin)\n",
    "    pdata.insert(2, \"y_r\", yr_rot,True)\n",
    "    pdata.insert(3, \"theta_r\", theta_r,True)\n",
    "\n",
    "    pdata.insert(4, \"x_d\", xd_rot,True) #get robot desired positions (adjusted for starting orientation)\n",
    "    pdata.insert(5, \"y_d\", yd_rot,True)\n",
    "    pdata.insert(6, \"theta_d\", data['thetad'],True)\n",
    "\n",
    "    pdata.insert(7,'e_x', pdata['x_r']-pdata['x_d']) #calculate the errors at each point\n",
    "    pdata.insert(8,'e_y', pdata['y_r']-pdata['y_d'])\n",
    "    pdata.insert(9,'e_theta', pdata['theta_r']-pdata['theta_d'])\n",
    "    \n",
    "    return pdata\n",
    "\n",
    "\n",
    "def get_points(df, points): #returns array of points\n",
    "    \n",
    "    smalldf = pd.DataFrame()\n",
    "    \n",
    "    for i in points:\n",
    "        df_sort = df.iloc[(df['globaltime']-i).abs().argsort()[:2]].index.tolist() #get higher and lower value\n",
    "        \n",
    "        smalldf = smalldf.append(df.iloc[df_sort[0],:])\n",
    "    \n",
    "    smalldf.reset_index(inplace=True, drop=True)\n",
    "    return smalldf\n",
    "    "
   ]
  },
  {
   "cell_type": "code",
   "execution_count": 109,
   "metadata": {},
   "outputs": [],
   "source": [
    "my_index = pd.MultiIndex(levels=[[]]*2,\n",
    "                             labels=[[]]*2,\n",
    "                             names=[u'trial',u'index'])\n",
    "my_columns = [u'e_theta', u'e_x', u'e_y',u'globaltime',u'x_r',u'y_r',u'theta_r',u'x_d',u'y_d',u'theta_d']\n",
    "multiframe=pd.DataFrame(index=my_index, columns=my_columns)\n",
    "\n",
    "pull_points=[2,10,18,26,34,42,50,58,66,74,82,90,98,106,114]\n",
    "\n",
    "for i in tqdm(range(10):\n",
    "    frame = process(\"./31-08-2020/SMC_\"+xy+\"_zigzag\"+str(i)+\".xlsx\")\n",
    "    frame = get_points(frame, pull_points)\n",
    "    multiframe = multiframe.append(frame.assign(k='trial'+str(i)).set_index('k',append=True).swaplevel(0,1))\n",
    "\n",
    "#my_index.append(b.assign(k='C').set_index('k',append=True).swaplevel(0,1))"
   ]
  },
  {
   "cell_type": "code",
   "execution_count": 104,
   "metadata": {
    "scrolled": true
   },
   "outputs": [
    {
     "data": {
      "image/png": "[encoded data removed]",
      "text/plain": [
       "<Figure size 432x288 with 1 Axes>"
      ]
     },
     "metadata": {
      "needs_background": "light"
     },
     "output_type": "display_data"
    }
   ],
   "source": [
    "ax = plt.subplot(1,1,1)\n",
    "ax.plot(multiframe.loc['trial0']['x_d'], multiframe.loc['trial0']['y_d'],':', label='desired path')\n",
    "ax.scatter(multiframe.loc['trial0']['x_d'],multiframe.loc['trial0']['y_d'])\n",
    "for i in range(10):\n",
    "    ax.scatter(multiframe.loc['trial'+str(i)]['x_r'], multiframe.loc['trial'+str(i)]['y_r'],s=4, label='trial '+str(i))\n",
    "ax.legend(bbox_to_anchor=(1.05, 1), loc='upper left')\n",
    "plt.xlabel('x (m)')\n",
    "plt.ylabel('y (m)')\n",
    "plt.show()"
   ]
  },
  {
   "cell_type": "code",
   "execution_count": 105,
   "metadata": {},
   "outputs": [
    {
     "data": {
      "image/png": "[encoded data removed]",
      "text/plain": [
       "<Figure size 432x288 with 1 Axes>"
      ]
     },
     "metadata": {
      "needs_background": "light"
     },
     "output_type": "display_data"
    },
    {
     "name": "stdout",
     "output_type": "stream",
     "text": [
      "Drift = [0.02547089]m/m\n"
     ]
    }
   ],
   "source": [
    "def fit_func(x, a): #Come up with linear fits for drift (b=0)\n",
    "    return a*x\n",
    "m=0\n",
    "for i in range(10):\n",
    "    m = m+curve_fit(fit_func, multiframe.loc['trial'+str(i)]['globaltime'], multiframe.loc['trial'+str(i)]['e_'+xy])[0]/10.\n",
    "\n",
    "ax = plt.subplot(1,1,1)\n",
    "for i in range(10):\n",
    "    ax.scatter(multiframe.loc['trial'+str(i)]['globaltime'],multiframe.loc['trial'+str(i)]['e_'+xy], s=4, label='trial '+str(i))\n",
    "ax.plot(multiframe.loc['trial'+str(i)]['globaltime'],m*multiframe.loc['trial'+str(i)]['globaltime'],label=(\"%f t\" % (m)))\n",
    "ax.legend(bbox_to_anchor=(1.05, 1), loc='upper left')\n",
    "plt.xlabel('test point')\n",
    "plt.ylabel(xy +' error (m)')\n",
    "plt.show()   \n",
    "\n",
    "print(\"Drift = \" + str(m*114./3.) + \"m/m\")"
   ]
  },
  {
   "cell_type": "code",
   "execution_count": 106,
   "metadata": {
    "scrolled": true
   },
   "outputs": [
    {
     "name": "stdout",
     "output_type": "stream",
     "text": [
      "index\n",
      "0     0.000002\n",
      "1     0.003252\n",
      "2     0.008891\n",
      "3     0.003079\n",
      "4     0.002835\n",
      "5     0.006811\n",
      "6     0.011872\n",
      "7     0.013682\n",
      "8     0.018755\n",
      "9     0.023255\n",
      "10    0.017854\n",
      "11    0.014042\n",
      "12    0.018423\n",
      "13    0.023915\n",
      "14    0.029164\n",
      "Name: e_y, dtype: float64\n"
     ]
    }
   ],
   "source": [
    "RMSE = 0\n",
    "\n",
    "for i in range(10):\n",
    "    RMSE = multiframe.loc['trial'+str(i)]['e_'+xy]**2\n",
    "\n",
    "RMSE = np.sqrt(RMSE/10)\n",
    "print(RMSE)"
   ]
  },
  {
   "cell_type": "code",
   "execution_count": 98,
   "metadata": {
    "scrolled": true
   },
   "outputs": [
    {
     "data": {
      "text/html": [
       "<div>\n",
       "<style scoped>\n",
       "    .dataframe tbody tr th:only-of-type {\n",
       "        vertical-align: middle;\n",
       "    }\n",
       "\n",
       "    .dataframe tbody tr th {\n",
       "        vertical-align: top;\n",
       "    }\n",
       "\n",
       "    .dataframe thead th {\n",
       "        text-align: right;\n",
       "    }\n",
       "</style>\n",
       "<table border=\"1\" class=\"dataframe\">\n",
       "  <thead>\n",
       "    <tr style=\"text-align: right;\">\n",
       "      <th></th>\n",
       "      <th></th>\n",
       "      <th>e_theta</th>\n",
       "      <th>e_x</th>\n",
       "      <th>e_y</th>\n",
       "      <th>globaltime</th>\n",
       "      <th>theta_d</th>\n",
       "      <th>theta_r</th>\n",
       "      <th>x_d</th>\n",
       "      <th>x_r</th>\n",
       "      <th>y_d</th>\n",
       "      <th>y_r</th>\n",
       "    </tr>\n",
       "    <tr>\n",
       "      <th>trial</th>\n",
       "      <th>index</th>\n",
       "      <th></th>\n",
       "      <th></th>\n",
       "      <th></th>\n",
       "      <th></th>\n",
       "      <th></th>\n",
       "      <th></th>\n",
       "      <th></th>\n",
       "      <th></th>\n",
       "      <th></th>\n",
       "      <th></th>\n",
       "    </tr>\n",
       "  </thead>\n",
       "  <tbody>\n",
       "    <tr>\n",
       "      <td rowspan=\"5\" valign=\"top\">trial0</td>\n",
       "      <td>0</td>\n",
       "      <td>-0.000064</td>\n",
       "      <td>-0.000009</td>\n",
       "      <td>0.000074</td>\n",
       "      <td>1.992480</td>\n",
       "      <td>0.0</td>\n",
       "      <td>-0.000064</td>\n",
       "      <td>0.00</td>\n",
       "      <td>-0.000009</td>\n",
       "      <td>0.00</td>\n",
       "      <td>0.000074</td>\n",
       "    </tr>\n",
       "    <tr>\n",
       "      <td>1</td>\n",
       "      <td>0.009956</td>\n",
       "      <td>0.011198</td>\n",
       "      <td>0.004547</td>\n",
       "      <td>9.993892</td>\n",
       "      <td>0.0</td>\n",
       "      <td>0.009956</td>\n",
       "      <td>0.75</td>\n",
       "      <td>0.761198</td>\n",
       "      <td>0.00</td>\n",
       "      <td>0.004547</td>\n",
       "    </tr>\n",
       "    <tr>\n",
       "      <td>2</td>\n",
       "      <td>0.019776</td>\n",
       "      <td>0.023068</td>\n",
       "      <td>0.014217</td>\n",
       "      <td>17.992609</td>\n",
       "      <td>0.0</td>\n",
       "      <td>0.019776</td>\n",
       "      <td>1.50</td>\n",
       "      <td>1.523068</td>\n",
       "      <td>0.00</td>\n",
       "      <td>0.014217</td>\n",
       "    </tr>\n",
       "    <tr>\n",
       "      <td>3</td>\n",
       "      <td>0.019330</td>\n",
       "      <td>0.015395</td>\n",
       "      <td>0.031308</td>\n",
       "      <td>25.992823</td>\n",
       "      <td>0.0</td>\n",
       "      <td>0.019330</td>\n",
       "      <td>1.50</td>\n",
       "      <td>1.515395</td>\n",
       "      <td>0.75</td>\n",
       "      <td>0.781308</td>\n",
       "    </tr>\n",
       "    <tr>\n",
       "      <td>4</td>\n",
       "      <td>0.026314</td>\n",
       "      <td>0.006083</td>\n",
       "      <td>0.022837</td>\n",
       "      <td>33.992779</td>\n",
       "      <td>0.0</td>\n",
       "      <td>0.026314</td>\n",
       "      <td>0.75</td>\n",
       "      <td>0.756083</td>\n",
       "      <td>0.75</td>\n",
       "      <td>0.772837</td>\n",
       "    </tr>\n",
       "    <tr>\n",
       "      <td>...</td>\n",
       "      <td>...</td>\n",
       "      <td>...</td>\n",
       "      <td>...</td>\n",
       "      <td>...</td>\n",
       "      <td>...</td>\n",
       "      <td>...</td>\n",
       "      <td>...</td>\n",
       "      <td>...</td>\n",
       "      <td>...</td>\n",
       "      <td>...</td>\n",
       "      <td>...</td>\n",
       "    </tr>\n",
       "    <tr>\n",
       "      <td rowspan=\"5\" valign=\"top\">trial9</td>\n",
       "      <td>10</td>\n",
       "      <td>0.022523</td>\n",
       "      <td>0.015184</td>\n",
       "      <td>0.056459</td>\n",
       "      <td>81.996292</td>\n",
       "      <td>0.0</td>\n",
       "      <td>0.022523</td>\n",
       "      <td>0.75</td>\n",
       "      <td>0.765184</td>\n",
       "      <td>2.25</td>\n",
       "      <td>2.306459</td>\n",
       "    </tr>\n",
       "    <tr>\n",
       "      <td>11</td>\n",
       "      <td>0.014708</td>\n",
       "      <td>0.003539</td>\n",
       "      <td>0.044404</td>\n",
       "      <td>89.996697</td>\n",
       "      <td>0.0</td>\n",
       "      <td>0.014708</td>\n",
       "      <td>0.00</td>\n",
       "      <td>0.003539</td>\n",
       "      <td>2.25</td>\n",
       "      <td>2.294404</td>\n",
       "    </tr>\n",
       "    <tr>\n",
       "      <td>12</td>\n",
       "      <td>0.008423</td>\n",
       "      <td>-0.003880</td>\n",
       "      <td>0.058259</td>\n",
       "      <td>97.996091</td>\n",
       "      <td>0.0</td>\n",
       "      <td>0.008423</td>\n",
       "      <td>0.00</td>\n",
       "      <td>-0.003880</td>\n",
       "      <td>3.00</td>\n",
       "      <td>3.058259</td>\n",
       "    </tr>\n",
       "    <tr>\n",
       "      <td>13</td>\n",
       "      <td>0.025073</td>\n",
       "      <td>0.008112</td>\n",
       "      <td>0.075626</td>\n",
       "      <td>105.996431</td>\n",
       "      <td>0.0</td>\n",
       "      <td>0.025073</td>\n",
       "      <td>0.75</td>\n",
       "      <td>0.758112</td>\n",
       "      <td>3.00</td>\n",
       "      <td>3.075626</td>\n",
       "    </tr>\n",
       "    <tr>\n",
       "      <td>14</td>\n",
       "      <td>0.038773</td>\n",
       "      <td>0.020231</td>\n",
       "      <td>0.092226</td>\n",
       "      <td>113.996215</td>\n",
       "      <td>0.0</td>\n",
       "      <td>0.038773</td>\n",
       "      <td>1.50</td>\n",
       "      <td>1.520231</td>\n",
       "      <td>3.00</td>\n",
       "      <td>3.092226</td>\n",
       "    </tr>\n",
       "  </tbody>\n",
       "</table>\n",
       "<p>150 rows × 10 columns</p>\n",
       "</div>"
      ],
      "text/plain": [
       "               e_theta       e_x       e_y  globaltime  theta_d   theta_r  \\\n",
       "trial  index                                                                \n",
       "trial0 0     -0.000064 -0.000009  0.000074    1.992480      0.0 -0.000064   \n",
       "       1      0.009956  0.011198  0.004547    9.993892      0.0  0.009956   \n",
       "       2      0.019776  0.023068  0.014217   17.992609      0.0  0.019776   \n",
       "       3      0.019330  0.015395  0.031308   25.992823      0.0  0.019330   \n",
       "       4      0.026314  0.006083  0.022837   33.992779      0.0  0.026314   \n",
       "...                ...       ...       ...         ...      ...       ...   \n",
       "trial9 10     0.022523  0.015184  0.056459   81.996292      0.0  0.022523   \n",
       "       11     0.014708  0.003539  0.044404   89.996697      0.0  0.014708   \n",
       "       12     0.008423 -0.003880  0.058259   97.996091      0.0  0.008423   \n",
       "       13     0.025073  0.008112  0.075626  105.996431      0.0  0.025073   \n",
       "       14     0.038773  0.020231  0.092226  113.996215      0.0  0.038773   \n",
       "\n",
       "               x_d       x_r   y_d       y_r  \n",
       "trial  index                                  \n",
       "trial0 0      0.00 -0.000009  0.00  0.000074  \n",
       "       1      0.75  0.761198  0.00  0.004547  \n",
       "       2      1.50  1.523068  0.00  0.014217  \n",
       "       3      1.50  1.515395  0.75  0.781308  \n",
       "       4      0.75  0.756083  0.75  0.772837  \n",
       "...            ...       ...   ...       ...  \n",
       "trial9 10     0.75  0.765184  2.25  2.306459  \n",
       "       11     0.00  0.003539  2.25  2.294404  \n",
       "       12     0.00 -0.003880  3.00  3.058259  \n",
       "       13     0.75  0.758112  3.00  3.075626  \n",
       "       14     1.50  1.520231  3.00  3.092226  \n",
       "\n",
       "[150 rows x 10 columns]"
      ]
     },
     "execution_count": 98,
     "metadata": {},
     "output_type": "execute_result"
    }
   ],
   "source": [
    "\n"
   ]
  },
  {
   "cell_type": "code",
   "execution_count": 54,
   "metadata": {},
   "outputs": [],
   "source": [
    "RMSE_x = np.sqrt(sum(pdata['e_x']**2)/len(pdata['e_x']))\n",
    "RMSE_y = np.sqrt(sum(pdata['e_y']**2)/len(pdata['e_y']))\n",
    "RMSE_theta = np.sqrt(sum(pdata['e_theta']**2)/len(pdata['e_theta']))\n",
    "\n",
    "RMSE_x_nt = np.sqrt(sum(pdata['e_x_nt']**2)/len(pdata['e_x']))\n",
    "RMSE_y_nt = np.sqrt(sum(pdata['e_y_nt']**2)/len(pdata['e_y']))\n",
    "RMSE_theta_nt = np.sqrt(sum(pdata['e_theta_nt']**2)/len(pdata['e_theta']))"
   ]
  },
  {
   "cell_type": "code",
   "execution_count": null,
   "metadata": {},
   "outputs": [],
   "source": []
  },
  {
   "cell_type": "code",
   "execution_count": 10,
   "metadata": {},
   "outputs": [
    {
     "name": "stdout",
     "output_type": "stream",
     "text": [
      "0.17287393243863944\n",
      "0.2579143051273882\n",
      "4.064514864590051\n",
      "0.4377684780387974\n",
      "0.5406187023096461\n",
      "4.01094996569265\n"
     ]
    }
   ],
   "source": [
    "print(RMSE_x)\n",
    "print(RMSE_y)\n",
    "print(RMSE_theta)\n",
    "\n",
    "print(RMSE_x_nt)\n",
    "print(RMSE_y_nt)\n",
    "print(RMSE_theta_nt)"
   ]
  },
  {
   "cell_type": "code",
   "execution_count": 33,
   "metadata": {
    "scrolled": true
   },
   "outputs": [
    {
     "ename": "ValueError",
     "evalue": "array must not contain infs or NaNs",
     "output_type": "error",
     "traceback": [
      "\u001b[1;31m---------------------------------------------------------------------------\u001b[0m",
      "\u001b[1;31mValueError\u001b[0m                                Traceback (most recent call last)",
      "\u001b[1;32m<ipython-input-33-1eb4584fd53e>\u001b[0m in \u001b[0;36m<module>\u001b[1;34m\u001b[0m\n\u001b[0;32m      2\u001b[0m     \u001b[1;32mreturn\u001b[0m \u001b[0ma\u001b[0m\u001b[1;33m*\u001b[0m\u001b[0mx\u001b[0m\u001b[1;33m\u001b[0m\u001b[1;33m\u001b[0m\u001b[0m\n\u001b[0;32m      3\u001b[0m \u001b[1;33m\u001b[0m\u001b[0m\n\u001b[1;32m----> 4\u001b[1;33m \u001b[0mm_x\u001b[0m \u001b[1;33m=\u001b[0m \u001b[0mcurve_fit\u001b[0m\u001b[1;33m(\u001b[0m\u001b[0mfit_func\u001b[0m\u001b[1;33m,\u001b[0m \u001b[0mpdata\u001b[0m\u001b[1;33m[\u001b[0m\u001b[1;34m'globaltime'\u001b[0m\u001b[1;33m]\u001b[0m\u001b[1;33m,\u001b[0m \u001b[0mpdata\u001b[0m\u001b[1;33m[\u001b[0m\u001b[1;34m'e_x_nt'\u001b[0m\u001b[1;33m]\u001b[0m\u001b[1;33m)\u001b[0m\u001b[1;33m[\u001b[0m\u001b[1;36m0\u001b[0m\u001b[1;33m]\u001b[0m\u001b[1;33m\u001b[0m\u001b[1;33m\u001b[0m\u001b[0m\n\u001b[0m\u001b[0;32m      5\u001b[0m \u001b[0mm_y\u001b[0m \u001b[1;33m=\u001b[0m \u001b[0mcurve_fit\u001b[0m\u001b[1;33m(\u001b[0m\u001b[0mfit_func\u001b[0m\u001b[1;33m,\u001b[0m \u001b[0mpdata\u001b[0m\u001b[1;33m[\u001b[0m\u001b[1;34m'globaltime'\u001b[0m\u001b[1;33m]\u001b[0m\u001b[1;33m,\u001b[0m \u001b[0mpdata\u001b[0m\u001b[1;33m[\u001b[0m\u001b[1;34m'e_y_nt'\u001b[0m\u001b[1;33m]\u001b[0m\u001b[1;33m)\u001b[0m\u001b[1;33m[\u001b[0m\u001b[1;36m0\u001b[0m\u001b[1;33m]\u001b[0m\u001b[1;33m\u001b[0m\u001b[1;33m\u001b[0m\u001b[0m\n\u001b[0;32m      6\u001b[0m \u001b[0mm_theta\u001b[0m \u001b[1;33m=\u001b[0m \u001b[0mcurve_fit\u001b[0m\u001b[1;33m(\u001b[0m\u001b[0mfit_func\u001b[0m\u001b[1;33m,\u001b[0m \u001b[0mpdata\u001b[0m\u001b[1;33m[\u001b[0m\u001b[1;34m'globaltime'\u001b[0m\u001b[1;33m]\u001b[0m\u001b[1;33m,\u001b[0m \u001b[0mpdata\u001b[0m\u001b[1;33m[\u001b[0m\u001b[1;34m'e_theta_nt'\u001b[0m\u001b[1;33m]\u001b[0m\u001b[1;33m)\u001b[0m\u001b[1;33m[\u001b[0m\u001b[1;36m0\u001b[0m\u001b[1;33m]\u001b[0m\u001b[1;33m\u001b[0m\u001b[1;33m\u001b[0m\u001b[0m\n",
      "\u001b[1;32m~\\anaconda3\\lib\\site-packages\\scipy\\optimize\\minpack.py\u001b[0m in \u001b[0;36mcurve_fit\u001b[1;34m(f, xdata, ydata, p0, sigma, absolute_sigma, check_finite, bounds, method, jac, **kwargs)\u001b[0m\n\u001b[0;32m    732\u001b[0m     \u001b[1;31m# NaNs cannot be handled\u001b[0m\u001b[1;33m\u001b[0m\u001b[1;33m\u001b[0m\u001b[1;33m\u001b[0m\u001b[0m\n\u001b[0;32m    733\u001b[0m     \u001b[1;32mif\u001b[0m \u001b[0mcheck_finite\u001b[0m\u001b[1;33m:\u001b[0m\u001b[1;33m\u001b[0m\u001b[1;33m\u001b[0m\u001b[0m\n\u001b[1;32m--> 734\u001b[1;33m         \u001b[0mydata\u001b[0m \u001b[1;33m=\u001b[0m \u001b[0mnp\u001b[0m\u001b[1;33m.\u001b[0m\u001b[0masarray_chkfinite\u001b[0m\u001b[1;33m(\u001b[0m\u001b[0mydata\u001b[0m\u001b[1;33m,\u001b[0m \u001b[0mfloat\u001b[0m\u001b[1;33m)\u001b[0m\u001b[1;33m\u001b[0m\u001b[1;33m\u001b[0m\u001b[0m\n\u001b[0m\u001b[0;32m    735\u001b[0m     \u001b[1;32melse\u001b[0m\u001b[1;33m:\u001b[0m\u001b[1;33m\u001b[0m\u001b[1;33m\u001b[0m\u001b[0m\n\u001b[0;32m    736\u001b[0m         \u001b[0mydata\u001b[0m \u001b[1;33m=\u001b[0m \u001b[0mnp\u001b[0m\u001b[1;33m.\u001b[0m\u001b[0masarray\u001b[0m\u001b[1;33m(\u001b[0m\u001b[0mydata\u001b[0m\u001b[1;33m,\u001b[0m \u001b[0mfloat\u001b[0m\u001b[1;33m)\u001b[0m\u001b[1;33m\u001b[0m\u001b[1;33m\u001b[0m\u001b[0m\n",
      "\u001b[1;32m~\\anaconda3\\lib\\site-packages\\numpy\\lib\\function_base.py\u001b[0m in \u001b[0;36masarray_chkfinite\u001b[1;34m(a, dtype, order)\u001b[0m\n\u001b[0;32m    496\u001b[0m     \u001b[0ma\u001b[0m \u001b[1;33m=\u001b[0m \u001b[0masarray\u001b[0m\u001b[1;33m(\u001b[0m\u001b[0ma\u001b[0m\u001b[1;33m,\u001b[0m \u001b[0mdtype\u001b[0m\u001b[1;33m=\u001b[0m\u001b[0mdtype\u001b[0m\u001b[1;33m,\u001b[0m \u001b[0morder\u001b[0m\u001b[1;33m=\u001b[0m\u001b[0morder\u001b[0m\u001b[1;33m)\u001b[0m\u001b[1;33m\u001b[0m\u001b[1;33m\u001b[0m\u001b[0m\n\u001b[0;32m    497\u001b[0m     \u001b[1;32mif\u001b[0m \u001b[0ma\u001b[0m\u001b[1;33m.\u001b[0m\u001b[0mdtype\u001b[0m\u001b[1;33m.\u001b[0m\u001b[0mchar\u001b[0m \u001b[1;32min\u001b[0m \u001b[0mtypecodes\u001b[0m\u001b[1;33m[\u001b[0m\u001b[1;34m'AllFloat'\u001b[0m\u001b[1;33m]\u001b[0m \u001b[1;32mand\u001b[0m \u001b[1;32mnot\u001b[0m \u001b[0mnp\u001b[0m\u001b[1;33m.\u001b[0m\u001b[0misfinite\u001b[0m\u001b[1;33m(\u001b[0m\u001b[0ma\u001b[0m\u001b[1;33m)\u001b[0m\u001b[1;33m.\u001b[0m\u001b[0mall\u001b[0m\u001b[1;33m(\u001b[0m\u001b[1;33m)\u001b[0m\u001b[1;33m:\u001b[0m\u001b[1;33m\u001b[0m\u001b[1;33m\u001b[0m\u001b[0m\n\u001b[1;32m--> 498\u001b[1;33m         raise ValueError(\n\u001b[0m\u001b[0;32m    499\u001b[0m             \"array must not contain infs or NaNs\")\n\u001b[0;32m    500\u001b[0m     \u001b[1;32mreturn\u001b[0m \u001b[0ma\u001b[0m\u001b[1;33m\u001b[0m\u001b[1;33m\u001b[0m\u001b[0m\n",
      "\u001b[1;31mValueError\u001b[0m: array must not contain infs or NaNs"
     ]
    }
   ],
   "source": [
    "def fit_func(x, a): #Come up with linear fits for drift (b=0)\n",
    "    return a*x\n",
    "\n",
    "m_x = curve_fit(fit_func, pdata['globaltime'], pdata['e_x_nt'])[0]\n",
    "m_y = curve_fit(fit_func, pdata['globaltime'], pdata['e_y_nt'])[0]\n",
    "m_theta = curve_fit(fit_func, pdata['globaltime'], pdata['e_theta_nt'])[0]\n",
    "\n",
    "plt.plot(pdata['globaltime'],m_x*pdata['globaltime'],label=(\"%f t\" % (m_x)))\n",
    "plt.plot(pdata['globaltime'],pdata['e_x_nt'])\n",
    "plt.legend()\n",
    "plt.show()\n",
    "\n",
    "plt.plot(pdata['globaltime'],m_y*pdata['globaltime'],label=(\"%f t\" % (m_y)))\n",
    "plt.plot(pdata['globaltime'],pdata['e_y_nt'])\n",
    "plt.legend()\n",
    "plt.show()\n",
    "\n",
    "plt.plot(pdata['globaltime'],m_theta*pdata['globaltime'],label=(\"%f t\" % (m_theta)))\n",
    "plt.plot(pdata['globaltime'],pdata['e_theta_nt'])\n",
    "plt.legend()\n",
    "plt.show()\n",
    "\n",
    "'''\n",
    "\n",
    "m_x,b_x = np.polyfit(pdata['globaltime'], pdata['e_x_nt'], 1) # Come up with linear fits for drift (b!=0)\n",
    "m_y,b_y = np.polyfit(pdata['globaltime'], pdata['e_y_nt'], 1)\n",
    "m_theta,b_theta = np.polyfit(pdata['globaltime'], pdata['e_theta_nt'], 1)\n",
    "\n",
    "plt.plot(pdata['globaltime'],m_x*pdata['globaltime']+b_x,label=(\"%f t %f\" % (m_x,b_x)))\n",
    "plt.plot(pdata['globaltime'],pdata['e_x_nt'])\n",
    "plt.legend()\n",
    "plt.show()\n",
    "\n",
    "plt.plot(pdata['globaltime'],m_y*pdata['globaltime']+b_y,label=(\"%f t %f\" % (m_y,b_y)))\n",
    "plt.plot(pdata['globaltime'],pdata['e_y_nt'])\n",
    "plt.legend()\n",
    "plt.show()\n",
    "\n",
    "plt.plot(pdata['globaltime'],m_theta*pdata['globaltime']+b_theta,label=(\"%f t %f\" % (m_theta,b_theta)))\n",
    "plt.plot(pdata['globaltime'],pdata['e_theta_nt'])\n",
    "plt.legend()\n",
    "plt.show()'''"
   ]
  },
  {
   "cell_type": "code",
   "execution_count": 40,
   "metadata": {},
   "outputs": [
    {
     "data": {
      "text/plain": [
       "\"\\n\\npdata.insert(13,'e_x_adj',pdata['e_x_nt']-m_x*pdata['globaltime']-b_x) #calculate adjusted errors (b!=0)\\npdata.insert(14,'e_y_adj',pdata['e_y_nt']-m_y*pdata['globaltime']-b_y)\\npdata.insert(15,'e_theta_adj',pdata['e_theta_nt']-m_theta*pdata['globaltime']-b_theta)\""
      ]
     },
     "execution_count": 40,
     "metadata": {},
     "output_type": "execute_result"
    }
   ],
   "source": [
    "pdata.insert(13,'e_x_adj',pdata['e_x_nt']-m_x*pdata['globaltime']) #calculate adjusted errors (b=0)\n",
    "pdata.insert(14,'e_y_adj',pdata['e_y_nt']-m_y*pdata['globaltime'])\n",
    "pdata.insert(15,'e_theta_adj',pdata['e_theta_nt']-m_theta*pdata['globaltime'])\n",
    "\n",
    "'''\n",
    "\n",
    "pdata.insert(13,'e_x_adj',pdata['e_x_nt']-m_x*pdata['globaltime']-b_x) #calculate adjusted errors (b!=0)\n",
    "pdata.insert(14,'e_y_adj',pdata['e_y_nt']-m_y*pdata['globaltime']-b_y)\n",
    "pdata.insert(15,'e_theta_adj',pdata['e_theta_nt']-m_theta*pdata['globaltime']-b_theta)'''"
   ]
  },
  {
   "cell_type": "code",
   "execution_count": 41,
   "metadata": {},
   "outputs": [
    {
     "name": "stdout",
     "output_type": "stream",
     "text": [
      "0.8118218536330315\n",
      "0.9774432625632172\n",
      "2.410022590821611\n"
     ]
    }
   ],
   "source": [
    "RMSE_x_adj=np.sqrt(sum(pdata['e_x_adj']**2)/len(pdata['e_x']))\n",
    "RMSE_y_adj=np.sqrt(sum(pdata['e_y_adj']**2)/len(pdata['e_x']))\n",
    "RMSE_theta_adj=np.sqrt(sum(pdata['e_theta_adj']**2)/len(pdata['e_x']))\n",
    "\n",
    "print(RMSE_x_adj)\n",
    "print(RMSE_y_adj)\n",
    "print(RMSE_theta_adj)"
   ]
  },
  {
   "cell_type": "code",
   "execution_count": 32,
   "metadata": {},
   "outputs": [],
   "source": [
    "pdata['e_x_nt']=pdata['e_x']\n",
    "pdata['e_y_nt']=pdata['e_y']\n",
    "pdata['e_theta_nt']=pdata['e_theta']"
   ]
  },
  {
   "cell_type": "code",
   "execution_count": 34,
   "metadata": {},
   "outputs": [
    {
     "data": {
      "text/plain": [
       "[<matplotlib.lines.Line2D at 0x1fd28e687f0>]"
      ]
     },
     "execution_count": 34,
     "metadata": {},
     "output_type": "execute_result"
    },
    {
     "data": {
      "image/png": "[encoded data removed]",
      "text/plain": [
       "<Figure size 432x288 with 1 Axes>"
      ]
     },
     "metadata": {
      "needs_background": "light"
     },
     "output_type": "display_data"
    }
   ],
   "source": [
    "plt.plot(pdata['e_x'])"
   ]
  },
  {
   "cell_type": "code",
   "execution_count": null,
   "metadata": {
    "scrolled": true
   },
   "outputs": [],
   "source": []
  },
  {
   "cell_type": "code",
   "execution_count": 44,
   "metadata": {
    "scrolled": false
   },
   "outputs": [
    {
     "name": "stdout",
     "output_type": "stream",
     "text": [
      "     0  1\n",
      "A d  1  2\n",
      "  e  3  4\n",
      "B d  5  6\n",
      "  e  7  8\n"
     ]
    }
   ],
   "source": []
  },
  {
   "cell_type": "code",
   "execution_count": null,
   "metadata": {},
   "outputs": [],
   "source": []
  },
  {
   "cell_type": "code",
   "execution_count": null,
   "metadata": {},
   "outputs": [],
   "source": []
  }
 ],
 "metadata": {
  "kernelspec": {
   "display_name": "Python 3",
   "language": "python",
   "name": "python3"
  },
  "language_info": {
   "codemirror_mode": {
    "name": "ipython",
    "version": 3
   },
   "file_extension": ".py",
   "mimetype": "text/x-python",
   "name": "python",
   "nbconvert_exporter": "python",
   "pygments_lexer": "ipython3",
   "version": "3.7.4"
  }
 },
 "nbformat": 4,
 "nbformat_minor": 2
}
