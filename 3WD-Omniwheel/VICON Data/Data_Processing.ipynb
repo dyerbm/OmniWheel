{
 "cells": [
  {
   "cell_type": "code",
   "execution_count": 1,
   "metadata": {},
   "outputs": [],
   "source": [
    "import numpy as np\n",
    "import matplotlib.pyplot as plt\n",
    "import pandas as pd"
   ]
  },
  {
   "cell_type": "code",
   "execution_count": 10,
   "metadata": {},
   "outputs": [
    {
     "data": {
      "text/plain": [
       "94.7721074865487"
      ]
     },
     "execution_count": 10,
     "metadata": {},
     "output_type": "execute_result"
    }
   ],
   "source": [
    "#Import data for processing\n",
    "\n",
    "filename = \"./19-08-2020/FLPID_circle4.xlsx\"\n",
    "data = pd.read_excel(filename, \n",
    "                    names = [\"globaltime\",\"dt\",'rb1x','rb1y','rb1z','rb2x','rb2y','rb2z',\n",
    "                            'rb3x','rb3y','rb3z','rb4x','rb4y','rb4z','rb5x','rb5y','rb5z',\n",
    "                            'rb6x','rb6y','rb6z','rb7x','rb7y','rb7z','rb8x','rb8y','rb8z',\n",
    "                            'xd','yd','thetad'])\n",
    "while data.iloc[0]['rb1z']==0.0:    \n",
    "    data = data.drop(0)\n",
    "    data.index-=1\n",
    "      \n",
    "data.iloc[0]['rb1z']        \n"
   ]
  },
  {
   "cell_type": "code",
   "execution_count": 11,
   "metadata": {
    "scrolled": true
   },
   "outputs": [],
   "source": [
    "#calculate robot position at each point\n",
    "\n",
    "#calculate the center of the robot\n",
    "Adet = (data['rb1x']*(data['rb4y']-data['rb6y']) -\n",
    "       data['rb1y']*(data['rb4x']-data['rb6x']) +\n",
    "       data['rb4x']*data['rb6y']-data['rb6x']*data['rb4y'])\n",
    "\n",
    "Bdet = ((data['rb1x']**2+data['rb1y']**2)*(data['rb6y']-data['rb4y'])  +\n",
    "       (data['rb4x']**2+data['rb4y']**2)*(data['rb1y']-data['rb6y'])  +\n",
    "       (data['rb6x']**2+data['rb6y']**2)*(data['rb4y']-data['rb1y']) )\n",
    "\n",
    "Cdet = ((data['rb1x']**2+data['rb1y']**2)*(data['rb4x']-data['rb6x'])  +\n",
    "       (data['rb4x']**2+data['rb4y']**2)*(data['rb6x']-data['rb1x'])  +\n",
    "       (data['rb6x']**2+data['rb6y']**2)*(data['rb1x']-data['rb4x']) )\n",
    "\n",
    "x_r = -Bdet/(2.*Adet)/1000. #robot global position x in meters \n",
    "y_r = -Cdet/(2.*Adet)/1000. #robot global position y in meters\n",
    "\n",
    "\n",
    "x_mid = (data['rb1x']+data['rb8x'])/2. #calculate the midpoint of wheel 1\n",
    "y_mid = (data['rb1y']+data['rb8y'])/2.\n",
    "\n",
    "#rotate desired position to be in line with robot\n",
    "xd_rot = data['xd']*np.cos(np.arctan2(y_mid[0]-y_r[0],x_mid[0]-x_r[0]))-data['yd']*np.sin(np.arctan2(y_mid[0]-y_r[0],x_mid[0]-x_r[0]))\n",
    "yd_rot = data['yd']*np.cos(np.arctan2(y_mid[0]-y_r[0],x_mid[0]-x_r[0]))+data['xd']*np.sin(np.arctan2(y_mid[0]-y_r[0],x_mid[0]-x_r[0]))\n",
    "\n",
    "#set robot initial position to the origin\n",
    "x_r = x_r+Bdet[0]/(2.*Adet[0])/1000. #robot position x in meters starting at origin\n",
    "y_r = y_r+Cdet[0]/(2.*Adet[0])/1000. #robot global position y in meters  starting at origin\n",
    "theta_r = np.arctan2(y_mid-y_r,x_mid-x_r) - np.arctan2(y_mid[0]-y_r[0],x_mid[0]-x_r[0]) #robot angle starting at 0"
   ]
  },
  {
   "cell_type": "code",
   "execution_count": 12,
   "metadata": {},
   "outputs": [],
   "source": [
    "#cast robot info into a new dataframe\n",
    "\n",
    "pdata = pd.DataFrame()\n",
    "pdata.insert(0,\"globaltime\", data['globaltime'],True)\n",
    "pdata.insert(1, \"x_r\", x_r,True)\n",
    "pdata.insert(2, \"y_r\", y_r,True)\n",
    "pdata.insert(3, \"theta_r\", theta_r,True)\n",
    "pdata.insert(4, \"x_d\", xd_rot,True)\n",
    "pdata.insert(5, \"y_d\", yd_rot,True)\n",
    "pdata.insert(6, \"theta_d\", data['thetad'],True)\n"
   ]
  },
  {
   "cell_type": "code",
   "execution_count": 13,
   "metadata": {},
   "outputs": [
    {
     "data": {
      "image/png": "[encoded data removed]",
      "text/plain": [
       "<Figure size 432x288 with 1 Axes>"
      ]
     },
     "metadata": {
      "needs_background": "light"
     },
     "output_type": "display_data"
    }
   ],
   "source": [
    "plt.plot(pdata['x_r'],pdata['y_r'],pdata['x_d'],pdata['y_d'])\n",
    "plt.show()"
   ]
  },
  {
   "cell_type": "code",
   "execution_count": null,
   "metadata": {},
   "outputs": [],
   "source": []
  }
 ],
 "metadata": {
  "kernelspec": {
   "display_name": "Python 3",
   "language": "python",
   "name": "python3"
  },
  "language_info": {
   "codemirror_mode": {
    "name": "ipython",
    "version": 3
   },
   "file_extension": ".py",
   "mimetype": "text/x-python",
   "name": "python",
   "nbconvert_exporter": "python",
   "pygments_lexer": "ipython3",
   "version": "3.8.3"
  }
 },
 "nbformat": 4,
 "nbformat_minor": 2
}
