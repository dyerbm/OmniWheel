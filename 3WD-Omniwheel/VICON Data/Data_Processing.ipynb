{
 "cells": [
  {
   "cell_type": "code",
   "execution_count": 79,
   "metadata": {},
   "outputs": [],
   "source": [
    "import numpy as np\n",
    "import matplotlib.pyplot as plt\n",
    "import pandas as pd"
   ]
  },
  {
   "cell_type": "code",
   "execution_count": 134,
   "metadata": {},
   "outputs": [
    {
     "data": {
      "text/plain": [
       "102.682970896644"
      ]
     },
     "execution_count": 134,
     "metadata": {},
     "output_type": "execute_result"
    }
   ],
   "source": [
    "#Import data for processing\n",
    "\n",
    "filename = \"./20-08-2020/SMC_4rose_3.xlsx\"\n",
    "data = pd.read_excel(filename, \n",
    "                    names = [\"globaltime\",\"dt\",'rb1x','rb1y','rb1z','rb2x','rb2y','rb2z',\n",
    "                            'rb3x','rb3y','rb3z','rb4x','rb4y','rb4z','rb5x','rb5y','rb5z',\n",
    "                            'rb6x','rb6y','rb6z','rb7x','rb7y','rb7z','rb8x','rb8y','rb8z',\n",
    "                            'xd','yd','thetad'])\n",
    "while data.iloc[0]['rb1z']==0.0:    \n",
    "    data = data.drop(0)\n",
    "    data.index-=1\n",
    "      \n",
    "data.iloc[0]['rb1z']        \n"
   ]
  },
  {
   "cell_type": "code",
   "execution_count": 135,
   "metadata": {
    "scrolled": true
   },
   "outputs": [],
   "source": [
    "#calculate robot position at each point\n",
    "\n",
    "#calculate the center of the robot\n",
    "Adet = (data['rb1x']*(data['rb4y']-data['rb6y']) -\n",
    "       data['rb1y']*(data['rb4x']-data['rb6x']) +\n",
    "       data['rb4x']*data['rb6y']-data['rb6x']*data['rb4y'])\n",
    "\n",
    "Bdet = ((data['rb1x']**2+data['rb1y']**2)*(data['rb6y']-data['rb4y'])  +\n",
    "       (data['rb4x']**2+data['rb4y']**2)*(data['rb1y']-data['rb6y'])  +\n",
    "       (data['rb6x']**2+data['rb6y']**2)*(data['rb4y']-data['rb1y']) )\n",
    "\n",
    "Cdet = ((data['rb1x']**2+data['rb1y']**2)*(data['rb4x']-data['rb6x'])  +\n",
    "       (data['rb4x']**2+data['rb4y']**2)*(data['rb6x']-data['rb1x'])  +\n",
    "       (data['rb6x']**2+data['rb6y']**2)*(data['rb1x']-data['rb4x']) )\n",
    "\n",
    "x_r = -Bdet/(2.*Adet)/1000.+Bdet[0]/(2.*Adet[0])/1000. #robot global position x in meters (adjusted to origin)\n",
    "y_r = -Cdet/(2.*Adet)/1000.+Cdet[0]/(2.*Adet[0])/1000. #robot global position y in meters\n",
    "\n",
    "\n",
    "x_mid = (data['rb1x']+data['rb8x'])/2./1000.+Bdet[0]/(2.*Adet[0])/1000. #calculate the midpoint of wheel 1 (adjusted to origin)\n",
    "y_mid = (data['rb1y']+data['rb8y'])/2./1000.+Cdet[0]/(2.*Adet[0])/1000.\n",
    "\n",
    "#rotate desired position to be in line with robot\n",
    "#xd_rot =data['xd']*np.cos(np.arctan2(y_mid[0]-y_r[0],x_mid[0]-x_r[0]))-data['yd']*np.sin(np.arctan2(y_mid[0]-y_r[0],x_mid[0]-x_r[0]))\n",
    "#yd_rot =data['yd']*np.cos(np.arctan2(y_mid[0]-y_r[0],x_mid[0]-x_r[0]))+data['xd']*np.sin(np.arctan2(y_mid[0]-y_r[0],x_mid[0]-x_r[0]))\n",
    "xd_rot = data['xd']\n",
    "yd_rot = data['yd']\n",
    "\n",
    "\n",
    "xr_rot =x_r*np.cos(np.arctan2(y_mid[0]-y_r[0],x_mid[0]-x_r[0]))+y_r*np.sin(np.arctan2(y_mid[0]-y_r[0],x_mid[0]-x_r[0]))\n",
    "yr_rot =y_r*np.cos(np.arctan2(y_mid[0]-y_r[0],x_mid[0]-x_r[0]))-x_r*np.sin(np.arctan2(y_mid[0]-y_r[0],x_mid[0]-x_r[0]))\n",
    "\n",
    "\n",
    "#set robot initial position to the origin\n",
    "#x_r = x_r+Bdet[0]/(2.*Adet[0])/1000. #robot position x in meters starting at origin\n",
    "#y_r = y_r+Cdet[0]/(2.*Adet[0])/1000. #robot global position y in meters  starting at origin\n",
    "theta_r = np.arctan2(y_mid-y_r,x_mid-x_r) - np.arctan2(y_mid[0]-y_r[0],x_mid[0]-x_r[0]) #robot angle starting at 0"
   ]
  },
  {
   "cell_type": "code",
   "execution_count": 136,
   "metadata": {},
   "outputs": [],
   "source": [
    "#cast robot info into a new dataframe\n",
    "\n",
    "pdata = pd.DataFrame()\n",
    "pdata.insert(0,\"globaltime\", data['globaltime'],True) #get global time\n",
    "pdata.insert(1, \"x_r\", xr_rot,True) #get robot positions (adjusted to origin)\n",
    "pdata.insert(2, \"y_r\", yr_rot,True)\n",
    "pdata.insert(3, \"theta_r\", theta_r,True)\n",
    "\n",
    "pdata.insert(4, \"x_d\", xd_rot,True) #get robot desired positions (adjusted for starting orientation)\n",
    "pdata.insert(5, \"y_d\", yd_rot,True)\n",
    "pdata.insert(6, \"theta_d\", data['thetad'],True)\n",
    "\n",
    "pdata.insert(7,'e_x', pdata['x_r']-pdata['x_d']) #calculate the errors at each point\n",
    "pdata.insert(7,'e_y', pdata['y_r']-pdata['y_d'])\n",
    "pdata.insert(7,'e_theta', pdata['theta_r']-pdata['theta_d'])\n",
    "\n",
    "#for i in range (1000,len(pdata['theta_r'])): #use to drop the last x amount of data\n",
    "#    pdata = pdata.drop(i)\n",
    "\n",
    "#for i in range(0, 200):\n",
    "#    pdata = pdata.drop(i)"
   ]
  },
  {
   "cell_type": "code",
   "execution_count": 137,
   "metadata": {},
   "outputs": [],
   "source": [
    "RMSE_x = np.sqrt(sum(pdata['e_x']**2)/len(pdata['e_x']))\n",
    "RMSE_y = np.sqrt(sum(pdata['e_y']**2)/len(pdata['e_y']))\n",
    "RMSE_theta = np.sqrt(sum(pdata['e_theta']**2)/len(pdata['e_theta']))"
   ]
  },
  {
   "cell_type": "code",
   "execution_count": 138,
   "metadata": {},
   "outputs": [
    {
     "data": {
      "image/png": "[encoded data removed]",
      "text/plain": [
       "<Figure size 432x288 with 1 Axes>"
      ]
     },
     "metadata": {
      "needs_background": "light"
     },
     "output_type": "display_data"
    }
   ],
   "source": [
    "ax = plt.subplot(1,1,1)\n",
    "#pdata['x_d'][0] = 0\n",
    "ax.plot(pdata['x_r'],pdata['y_r'],pdata['x_d'],pdata['y_d'])\n",
    "#ax.plot(pdata.iloc[0]['x_d'],pdata.iloc[0]['y_d'],linewidth=6)\n",
    "#print(pdata.iloc[0]['x_d'])\n",
    "#print(pdata.iloc[0]['y_d'])\n",
    "#print(np.arctan2(y_mid[0],x_mid[0])*180/np.pi)\n",
    "#plt.plot(pdata['x_r'],pdata['y_r'],pdata['x_d'],pdata['y_d'])\n",
    "#plt.plot(pdata[0]['x_d'],pdata[0]['y_d'])\n",
    "plt.show()"
   ]
  },
  {
   "cell_type": "code",
   "execution_count": 125,
   "metadata": {},
   "outputs": [
    {
     "name": "stdout",
     "output_type": "stream",
     "text": [
      "0.22254293156035873\n",
      "0.22019357922803962\n",
      "0.03425011849934687\n"
     ]
    }
   ],
   "source": [
    "print(RMSE_x)\n",
    "print(RMSE_y)\n",
    "print(RMSE_theta)"
   ]
  },
  {
   "cell_type": "code",
   "execution_count": 86,
   "metadata": {
    "scrolled": false
   },
   "outputs": [
    {
     "data": {
      "text/plain": [
       "0.20365221867249161"
      ]
     },
     "execution_count": 86,
     "metadata": {},
     "output_type": "execute_result"
    }
   ],
   "source": [
    "data.iloc[0]['rb1x']\n",
    "-Bdet[0]/(2.*Adet[0])/1000."
   ]
  },
  {
   "cell_type": "code",
   "execution_count": 19,
   "metadata": {},
   "outputs": [
    {
     "data": {
      "text/plain": [
       "0       0.000000\n",
       "1       0.000016\n",
       "2       0.000034\n",
       "3       0.000015\n",
       "4       0.000056\n",
       "          ...   \n",
       "1044    1.016957\n",
       "1045    1.016929\n",
       "1046    1.017142\n",
       "1047    1.016921\n",
       "1048    1.017153\n",
       "Name: x_r, Length: 1049, dtype: float64"
      ]
     },
     "execution_count": 19,
     "metadata": {},
     "output_type": "execute_result"
    }
   ],
   "source": [
    "pdata['x_r']"
   ]
  },
  {
   "cell_type": "code",
   "execution_count": null,
   "metadata": {},
   "outputs": [],
   "source": []
  }
 ],
 "metadata": {
  "kernelspec": {
   "display_name": "Python 3",
   "language": "python",
   "name": "python3"
  },
  "language_info": {
   "codemirror_mode": {
    "name": "ipython",
    "version": 3
   },
   "file_extension": ".py",
   "mimetype": "text/x-python",
   "name": "python",
   "nbconvert_exporter": "python",
   "pygments_lexer": "ipython3",
   "version": "3.8.3"
  }
 },
 "nbformat": 4,
 "nbformat_minor": 2
}
