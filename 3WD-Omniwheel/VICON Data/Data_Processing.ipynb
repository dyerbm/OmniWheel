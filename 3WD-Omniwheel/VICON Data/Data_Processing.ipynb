{
 "cells": [
  {
   "cell_type": "code",
   "execution_count": 110,
   "metadata": {},
   "outputs": [],
   "source": [
    "import numpy as np\n",
    "import matplotlib.pyplot as plt\n",
    "import pandas as pd\n",
    "from tqdm import tqdm #library to make a progress bar when doing long for loops\n",
    "\n",
    "import warnings\n",
    "warnings.filterwarnings('ignore') #suppressed normal warnings (disable this if something stops working)"
   ]
  },
  {
   "cell_type": "code",
   "execution_count": 111,
   "metadata": {},
   "outputs": [
    {
     "data": {
      "text/plain": [
       "102.75477529599"
      ]
     },
     "execution_count": 111,
     "metadata": {},
     "output_type": "execute_result"
    }
   ],
   "source": [
    "#Import data for processing\n",
    "\n",
    "filename = \"./20-08-2020/SMC_4rose_2.xlsx\"\n",
    "data = pd.read_excel(filename, \n",
    "                    names = [\"globaltime\",\"dt\",'rb1x','rb1y','rb1z','rb2x','rb2y','rb2z',\n",
    "                            'rb3x','rb3y','rb3z','rb4x','rb4y','rb4z','rb5x','rb5y','rb5z',\n",
    "                            'rb6x','rb6y','rb6z','rb7x','rb7y','rb7z','rb8x','rb8y','rb8z',\n",
    "                            'xd','yd','thetad'])\n",
    "while data.iloc[0]['rb1z']==0.0:    \n",
    "    data = data.drop(0)\n",
    "    data.index-=1\n",
    "      \n",
    "data.iloc[0]['rb1z']        \n"
   ]
  },
  {
   "cell_type": "code",
   "execution_count": 112,
   "metadata": {
    "scrolled": true
   },
   "outputs": [],
   "source": [
    "#calculate robot position at each point\n",
    "\n",
    "#calculate the center of the robot\n",
    "Adet = (data['rb1x']*(data['rb4y']-data['rb6y']) -\n",
    "       data['rb1y']*(data['rb4x']-data['rb6x']) +\n",
    "       data['rb4x']*data['rb6y']-data['rb6x']*data['rb4y'])\n",
    "\n",
    "Bdet = ((data['rb1x']**2+data['rb1y']**2)*(data['rb6y']-data['rb4y'])  +\n",
    "       (data['rb4x']**2+data['rb4y']**2)*(data['rb1y']-data['rb6y'])  +\n",
    "       (data['rb6x']**2+data['rb6y']**2)*(data['rb4y']-data['rb1y']) )\n",
    "\n",
    "Cdet = ((data['rb1x']**2+data['rb1y']**2)*(data['rb4x']-data['rb6x'])  +\n",
    "       (data['rb4x']**2+data['rb4y']**2)*(data['rb6x']-data['rb1x'])  +\n",
    "       (data['rb6x']**2+data['rb6y']**2)*(data['rb1x']-data['rb4x']) )\n",
    "\n",
    "x_r = -Bdet/(2.*Adet)/1000.+Bdet[0]/(2.*Adet[0])/1000. #robot global position x in meters (adjusted to origin)\n",
    "y_r = -Cdet/(2.*Adet)/1000.+Cdet[0]/(2.*Adet[0])/1000. #robot global position y in meters\n",
    "\n",
    "\n",
    "x_mid = (data['rb1x']+data['rb8x'])/2./1000.+Bdet[0]/(2.*Adet[0])/1000. #calculate the midpoint of wheel 1 (adjusted to origin)\n",
    "y_mid = (data['rb1y']+data['rb8y'])/2./1000.+Cdet[0]/(2.*Adet[0])/1000.\n",
    "\n",
    "#rotate desired position to be in line with robot\n",
    "#xd_rot =data['xd']*np.cos(np.arctan2(y_mid[0]-y_r[0],x_mid[0]-x_r[0]))-data['yd']*np.sin(np.arctan2(y_mid[0]-y_r[0],x_mid[0]-x_r[0]))\n",
    "#yd_rot =data['yd']*np.cos(np.arctan2(y_mid[0]-y_r[0],x_mid[0]-x_r[0]))+data['xd']*np.sin(np.arctan2(y_mid[0]-y_r[0],x_mid[0]-x_r[0]))\n",
    "xd_rot = data['xd']\n",
    "yd_rot = data['yd']\n",
    "\n",
    "\n",
    "xr_rot =x_r*np.cos(np.arctan2(y_mid[0]-y_r[0],x_mid[0]-x_r[0]))+y_r*np.sin(np.arctan2(y_mid[0]-y_r[0],x_mid[0]-x_r[0]))\n",
    "yr_rot =y_r*np.cos(np.arctan2(y_mid[0]-y_r[0],x_mid[0]-x_r[0]))-x_r*np.sin(np.arctan2(y_mid[0]-y_r[0],x_mid[0]-x_r[0]))\n",
    "\n",
    "\n",
    "#set robot initial position to the origin\n",
    "#x_r = x_r+Bdet[0]/(2.*Adet[0])/1000. #robot position x in meters starting at origin\n",
    "#y_r = y_r+Cdet[0]/(2.*Adet[0])/1000. #robot global position y in meters  starting at origin\n",
    "theta_r = np.arctan2(y_mid-y_r,x_mid-x_r) - np.arctan2(y_mid[0]-y_r[0],x_mid[0]-x_r[0]) #robot angle starting at 0"
   ]
  },
  {
   "cell_type": "code",
   "execution_count": 126,
   "metadata": {},
   "outputs": [],
   "source": [
    "#cast robot info into a new dataframe\n",
    "\n",
    "pdata = pd.DataFrame()\n",
    "pdata.insert(0,\"globaltime\", data['globaltime'],True) #get global time\n",
    "pdata.insert(1, \"x_r\", xr_rot,True) #get robot positions (adjusted to origin)\n",
    "pdata.insert(2, \"y_r\", yr_rot,True)\n",
    "pdata.insert(3, \"theta_r\", theta_r,True)\n",
    "\n",
    "pdata.insert(4, \"x_d\", xd_rot,True) #get robot desired positions (adjusted for starting orientation)\n",
    "pdata.insert(5, \"y_d\", yd_rot,True)\n",
    "pdata.insert(6, \"theta_d\", data['thetad'],True)\n",
    "\n",
    "pdata.insert(7,'e_x', pdata['x_r']-pdata['x_d']) #calculate the errors at each point\n",
    "pdata.insert(8,'e_y', pdata['y_r']-pdata['y_d'])\n",
    "pdata.insert(9,'e_theta', pdata['theta_r']-pdata['theta_d'])\n",
    "\n",
    "pdata.insert(10,'e_x_nt',np.zeros(len(pdata['x_r'])))\n",
    "pdata.insert(11,'e_y_nt',np.zeros(len(pdata['x_r'])))\n",
    "pdata.insert(12,'e_theta_nt',np.zeros(len(pdata['x_r'])))\n",
    "\n",
    "#for i in range (1000,len(pdata['theta_r'])): #use to drop the last x amount of data\n",
    "#    pdata = pdata.drop(i)\n",
    "\n",
    "#for i in range(0, 200):\n",
    "#    pdata = pdata.drop(i)"
   ]
  },
  {
   "cell_type": "code",
   "execution_count": 127,
   "metadata": {
    "scrolled": true
   },
   "outputs": [
    {
     "name": "stderr",
     "output_type": "stream",
     "text": [
      "100%|█████████████████████████████████████████████████████████████████████████████| 5847/5847 [00:10<00:00, 550.89it/s]\n"
     ]
    }
   ],
   "source": [
    "Chopnum=100\n",
    "Min_index = 0\n",
    "\n",
    "for i in tqdm(range(Chopnum, len(pdata['x_r'])-Chopnum-1)): #Minimize total RMSE\n",
    "    #print(i)\n",
    "    temp = ((pdata.at[i,'x_r']-pdata[i-Chopnum:i+Chopnum]['x_d'])**2 \n",
    "               + (pdata.at[i,'y_r']-pdata[i-Chopnum:i+Chopnum]['y_d'])**2 \n",
    "               + (pdata.at[i,'theta_r']-pdata[i-Chopnum:i+Chopnum]['theta_d'])**2)\n",
    "    Min_index= np.argmin(temp)\n",
    "    \n",
    "    pdata.iat[i,10] = (pdata.iat[i,1]-pdata.iat[Min_index,4])\n",
    "    pdata.iat[i,11] = (pdata.iat[i,2]-pdata.iat[Min_index,5])\n",
    "    pdata.iat[i,12] = (pdata.iat[i,3]-pdata.iat[Min_index,6])\n",
    "    \n",
    "\n",
    "for i in range (len(pdata['theta_r'])-Chopnum,len(pdata['theta_r'])): #cut off the useless data (start and end)\n",
    "    pdata = pdata.drop(i)\n",
    "for i in range(0, Chopnum):\n",
    "    pdata = pdata.drop(i) \n",
    "pdata.index-=Chopnum"
   ]
  },
  {
   "cell_type": "code",
   "execution_count": 129,
   "metadata": {},
   "outputs": [],
   "source": [
    "for i in range(0, 200):\n",
    "    pdata = pdata.drop(i) \n",
    "pdata.index-=200"
   ]
  },
  {
   "cell_type": "code",
   "execution_count": 130,
   "metadata": {},
   "outputs": [],
   "source": [
    "RMSE_x = np.sqrt(sum(pdata['e_x']**2)/len(pdata['e_x']))\n",
    "RMSE_y = np.sqrt(sum(pdata['e_y']**2)/len(pdata['e_y']))\n",
    "RMSE_theta = np.sqrt(sum(pdata['e_theta']**2)/len(pdata['e_theta']))\n",
    "\n",
    "RMSE_x_nt = np.sqrt(sum(pdata['e_x_nt']**2)/len(pdata['e_x']))\n",
    "RMSE_y_nt = np.sqrt(sum(pdata['e_y_nt']**2)/len(pdata['e_y']))\n",
    "RMSE_theta_nt = np.sqrt(sum(pdata['e_theta_nt']**2)/len(pdata['e_theta']))"
   ]
  },
  {
   "cell_type": "code",
   "execution_count": 132,
   "metadata": {},
   "outputs": [
    {
     "data": {
      "image/png": "[encoded data removed]",
      "text/plain": [
       "<Figure size 432x288 with 1 Axes>"
      ]
     },
     "metadata": {},
     "output_type": "display_data"
    }
   ],
   "source": [
    "ax = plt.subplot(1,1,1)\n",
    "#pdata['x_d'][0] = 0\n",
    "ax.plot(pdata['x_r'],pdata['y_r'],pdata['x_d'],pdata['y_d'])\n",
    "ax.legend(['real path', 'desired path'])\n",
    "#ax.plot(pdata.iloc[0]['x_d'],pdata.iloc[0]['y_d'],linewidth=6)\n",
    "#print(pdata.iloc[0]['x_d'])\n",
    "#print(pdata.iloc[0]['y_d'])\n",
    "#print(np.arctan2(y_mid[0],x_mid[0])*180/np.pi)\n",
    "#plt.plot(pdata['x_r'],pdata['y_r'],pdata['x_d'],pdata['y_d'])\n",
    "#plt.plot(pdata[0]['x_d'],pdata[0]['y_d'])\n",
    "plt.show()"
   ]
  },
  {
   "cell_type": "code",
   "execution_count": 125,
   "metadata": {},
   "outputs": [
    {
     "name": "stdout",
     "output_type": "stream",
     "text": [
      "0.1232526525609053\n",
      "0.12380877857740097\n",
      "0.009433678893105223\n",
      "0.008782223282446886\n",
      "0.008850987391340664\n",
      "0.009430837303185282\n"
     ]
    }
   ],
   "source": [
    "print(RMSE_x)\n",
    "print(RMSE_y)\n",
    "print(RMSE_theta)\n",
    "\n",
    "print(RMSE_x_nt)\n",
    "print(RMSE_y_nt)\n",
    "print(RMSE_theta_nt)"
   ]
  },
  {
   "cell_type": "code",
   "execution_count": 121,
   "metadata": {
    "scrolled": true
   },
   "outputs": [
    {
     "name": "stdout",
     "output_type": "stream",
     "text": [
      "      globaltime       x_r       y_r   theta_r       x_d       y_d  theta_d  \\\n",
      "0       2.033168  0.333186  0.021696 -0.006021  0.890134  0.192438        0   \n",
      "1       2.052788  0.336637  0.022511 -0.006272  0.888071  0.193902        0   \n",
      "2       2.069066  0.340136  0.023284 -0.006696  0.886346  0.195109        0   \n",
      "3       2.088500  0.343632  0.024171 -0.007198  0.884271  0.196540        0   \n",
      "4       2.108746  0.347135  0.025052 -0.007384  0.882092  0.198019        0   \n",
      "5       2.128259  0.350612  0.025895 -0.007930  0.879975  0.199434        0   \n",
      "6       2.148024  0.353950  0.026833 -0.008656  0.877813  0.200855        0   \n",
      "7       2.167992  0.357594  0.027668 -0.008729  0.875611  0.202279        0   \n",
      "8       2.187984  0.361278  0.028617 -0.009196  0.873390  0.203693        0   \n",
      "9       2.207809  0.364839  0.029465 -0.009013  0.871169  0.205083        0   \n",
      "10      2.233262  0.368381  0.030256 -0.009443  0.868294  0.206850        0   \n",
      "11      2.250303  0.371845  0.031182 -0.009595  0.866353  0.208022        0   \n",
      "12      2.268240  0.375390  0.032167 -0.009792  0.864297  0.209246        0   \n",
      "13      2.288080  0.378979  0.033159 -0.009695  0.862007  0.210589        0   \n",
      "14      2.307867  0.382529  0.034140 -0.009742  0.859706  0.211915        0   \n",
      "15      2.327885  0.386092  0.035251 -0.009787  0.857361  0.213245        0   \n",
      "16      2.347790  0.389575  0.036341 -0.009838  0.855013  0.214554        0   \n",
      "17      2.368343  0.393178  0.037465 -0.010410  0.852571  0.215893        0   \n",
      "18      2.387720  0.396712  0.038609 -0.010563  0.850253  0.217143        0   \n",
      "19      2.408005  0.400268  0.039620 -0.010824  0.847810  0.218438        0   \n",
      "20      2.433478  0.403913  0.040694 -0.011287  0.844717  0.220046        0   \n",
      "21      2.450692  0.407484  0.041853 -0.011572  0.842612  0.221120        0   \n",
      "22      2.473695  0.411110  0.043017 -0.012085  0.839781  0.222541        0   \n",
      "23      2.489231  0.414541  0.044132 -0.012004  0.837856  0.223490        0   \n",
      "24      2.508366  0.417868  0.045147 -0.011474  0.835472  0.224649        0   \n",
      "25      2.532920  0.421164  0.046180 -0.011938  0.832392  0.226117        0   \n",
      "26      2.549360  0.424527  0.047358 -0.012164  0.830316  0.227089        0   \n",
      "27      2.567729  0.427773  0.048442 -0.011826  0.827984  0.228164        0   \n",
      "28      2.587772  0.431067  0.049779 -0.012624  0.825424  0.229324        0   \n",
      "29      2.607845  0.434467  0.051017 -0.012689  0.822845  0.230471        0   \n",
      "...          ...       ...       ...       ...       ...       ...      ...   \n",
      "5818  123.310487  0.860880  0.229549  0.016623  0.723356  0.261322        0   \n",
      "5819  123.328300  0.858284  0.230748  0.016614  0.720621  0.261854        0   \n",
      "5820  123.347646  0.855660  0.231850  0.016021  0.717640  0.262418        0   \n",
      "5821  123.372755  0.852869  0.232855  0.015930  0.713755  0.263127        0   \n",
      "5822  123.389366  0.850409  0.233998  0.015709  0.711174  0.263582        0   \n",
      "5823  123.407442  0.847789  0.235073  0.015475  0.708357  0.264064        0   \n",
      "5824  123.430077  0.845174  0.236267  0.015674  0.704816  0.264649        0   \n",
      "5825  123.449241  0.842421  0.237252  0.016923  0.701806  0.265127        0   \n",
      "5826  123.469401  0.839715  0.238568  0.015716  0.698629  0.265613        0   \n",
      "5827  123.489345  0.837207  0.239748  0.015822  0.695475  0.266078        0   \n",
      "5828  123.509221  0.834356  0.240765  0.015912  0.692321  0.266524        0   \n",
      "5829  123.529427  0.831642  0.241991  0.016482  0.689103  0.266961        0   \n",
      "5830  123.547530  0.828843  0.243039  0.016978  0.686210  0.267338        0   \n",
      "5831  123.567296  0.826053  0.244072  0.016274  0.683042  0.267733        0   \n",
      "5832  123.587466  0.823371  0.245069  0.016547  0.679799  0.268120        0   \n",
      "5833  123.607402  0.820679  0.246130  0.016530  0.676582  0.268485        0   \n",
      "5834  123.633437  0.817884  0.247196  0.016547  0.672367  0.268936        0   \n",
      "5835  123.650883  0.815045  0.248068  0.017040  0.669532  0.269222        0   \n",
      "5836  123.671579  0.812145  0.249019  0.017875  0.666159  0.269544        0   \n",
      "5837  123.688819  0.809282  0.249759  0.017356  0.663341  0.269799        0   \n",
      "5838  123.707547  0.806173  0.250599  0.017154  0.660271  0.270061        0   \n",
      "5839  123.727502  0.803135  0.251706  0.016650  0.656991  0.270323        0   \n",
      "5840  123.747418  0.800510  0.252683  0.017372  0.653708  0.270568        0   \n",
      "5841  123.767616  0.796548  0.253560  0.017522  0.650368  0.270798        0   \n",
      "5842  123.787459  0.793766  0.254780  0.018664  0.647078  0.271007        0   \n",
      "5843  123.812613  0.790581  0.255901  0.018808  0.642894  0.271248        0   \n",
      "5844  123.830565  0.787382  0.257054  0.018555  0.639899  0.271402        0   \n",
      "5845  123.848101  0.784039  0.257941  0.018976  0.636966  0.271539        0   \n",
      "5846  123.867535  0.780754  0.258953  0.018243  0.633708  0.271676        0   \n",
      "5847  123.887910  0.777623  0.259837  0.017400  0.630283  0.271801        0   \n",
      "\n",
      "           e_x       e_y   e_theta    e_x_nt    e_y_nt  e_theta_nt  \n",
      "0    -0.556948 -0.170741 -0.006021 -0.276673 -0.250468   -0.006021  \n",
      "1    -0.551434 -0.171391 -0.006272 -0.269809 -0.249651   -0.006272  \n",
      "2    -0.546211 -0.171825 -0.006696 -0.262872 -0.248858   -0.006696  \n",
      "3    -0.540640 -0.172370 -0.007198 -0.255111 -0.247921   -0.007198  \n",
      "4    -0.534957 -0.172967 -0.007384 -0.248107 -0.246978   -0.007384  \n",
      "5    -0.529363 -0.173539 -0.007930 -0.241745 -0.246071   -0.007930  \n",
      "6    -0.523863 -0.174022 -0.008656 -0.235205 -0.245047   -0.008656  \n",
      "7    -0.518017 -0.174611 -0.008729 -0.228089 -0.244101   -0.008729  \n",
      "8    -0.512112 -0.175076 -0.009196 -0.220050 -0.242988   -0.009196  \n",
      "9    -0.506331 -0.175617 -0.009013 -0.213649 -0.242017   -0.009013  \n",
      "10   -0.499913 -0.176594 -0.009443 -0.207045 -0.241081   -0.009443  \n",
      "11   -0.494509 -0.176840 -0.009595 -0.199106 -0.239918   -0.009595  \n",
      "12   -0.488907 -0.177079 -0.009792 -0.192680 -0.238766   -0.009792  \n",
      "13   -0.483028 -0.177429 -0.009695 -0.185930 -0.237575   -0.009695  \n",
      "14   -0.477176 -0.177775 -0.009742 -0.177852 -0.236286   -0.009742  \n",
      "15   -0.471269 -0.177994 -0.009787 -0.171197 -0.234948   -0.009787  \n",
      "16   -0.465439 -0.178213 -0.009838 -0.164643 -0.233617   -0.009838  \n",
      "17   -0.459393 -0.178428 -0.010410 -0.157618 -0.232210   -0.010410  \n",
      "18   -0.453542 -0.178533 -0.010563 -0.150472 -0.230749   -0.010563  \n",
      "19   -0.447541 -0.178818 -0.010824 -0.143428 -0.229414   -0.010824  \n",
      "20   -0.440804 -0.179352 -0.011287 -0.136221 -0.227991   -0.011287  \n",
      "21   -0.435128 -0.179268 -0.011572 -0.129133 -0.226471   -0.011572  \n",
      "22   -0.428671 -0.179524 -0.012085 -0.121742 -0.224900   -0.012085  \n",
      "23   -0.423315 -0.179358 -0.012004 -0.114759 -0.223383   -0.012004  \n",
      "24   -0.417604 -0.179502 -0.011474 -0.107991 -0.221963   -0.011474  \n",
      "25   -0.411228 -0.179938 -0.011938 -0.101090 -0.220487   -0.011938  \n",
      "26   -0.405789 -0.179731 -0.012164 -0.094097 -0.218844   -0.012164  \n",
      "27   -0.400211 -0.179722 -0.011826 -0.087322 -0.217290   -0.011826  \n",
      "28   -0.394357 -0.179544 -0.012624 -0.080493 -0.215466   -0.012624  \n",
      "29   -0.388377 -0.179455 -0.012689 -0.073466 -0.213711   -0.012689  \n",
      "...        ...       ...       ...       ...       ...         ...  \n",
      "5818  0.137524 -0.031773  0.016623  0.008220  0.013704    0.016623  \n",
      "5819  0.137663 -0.031107  0.016614  0.007987  0.013628    0.016614  \n",
      "5820  0.138020 -0.030569  0.016021  0.007768  0.013455    0.016021  \n",
      "5821  0.139114 -0.030273  0.015930  0.007411  0.013191    0.015930  \n",
      "5822  0.139234 -0.029584  0.015709  0.007415  0.013071    0.015709  \n",
      "5823  0.139432 -0.028991  0.015475  0.007917  0.012577    0.015475  \n",
      "5824  0.140358 -0.028382  0.015674  0.005303  0.013771    0.015674  \n",
      "5825  0.140615 -0.027875  0.016923  0.006999  0.012579    0.016923  \n",
      "5826  0.141086 -0.027045  0.015716  0.006655  0.012767    0.015716  \n",
      "5827  0.141731 -0.026330  0.015822  0.007354  0.012444    0.015822  \n",
      "5828  0.142035 -0.025760  0.015912  0.006730  0.012437    0.015912  \n",
      "5829  0.142539 -0.024970  0.016482  0.006149  0.012698    0.016482  \n",
      "5830  0.142632 -0.024298  0.016978  0.005984  0.012574    0.016978  \n",
      "5831  0.143011 -0.023661  0.016274  0.005758  0.012487    0.016274  \n",
      "5832  0.143572 -0.023051  0.016547  0.005673  0.012370    0.016547  \n",
      "5833  0.144097 -0.022355  0.016530  0.006381  0.012003    0.016530  \n",
      "5834  0.145517 -0.021740  0.016547  0.005837  0.012141    0.016547  \n",
      "5835  0.145514 -0.021154  0.017040  0.005243  0.012105    0.017040  \n",
      "5836  0.145987 -0.020525  0.017875  0.005049  0.011979    0.017875  \n",
      "5837  0.145941 -0.020040  0.017356  0.005687  0.011356    0.017356  \n",
      "5838  0.145902 -0.019461  0.017154  0.004847  0.011332    0.017154  \n",
      "5839  0.146144 -0.018617  0.016650  0.004201  0.011543    0.016650  \n",
      "5840  0.146803 -0.017885  0.017372  0.004299  0.011518    0.017372  \n",
      "5841  0.146179 -0.017238  0.017522  0.003689  0.011189    0.017522  \n",
      "5842  0.146688 -0.016227  0.018664  0.003138  0.011623    0.018664  \n",
      "5843  0.147687 -0.015346  0.018808  0.002575  0.011837    0.018808  \n",
      "5844  0.147483 -0.014348  0.018555  0.004862  0.011149    0.018555  \n",
      "5845  0.147072 -0.013599  0.018976  0.004323  0.011124    0.018976  \n",
      "5846  0.147046 -0.012723  0.018243  0.003880  0.011231    0.018243  \n",
      "5847  0.147340 -0.011964  0.017400  0.000000  0.000000    0.000000  \n",
      "\n",
      "[5848 rows x 13 columns]\n"
     ]
    }
   ],
   "source": [
    "print(pdata)"
   ]
  },
  {
   "cell_type": "code",
   "execution_count": null,
   "metadata": {},
   "outputs": [],
   "source": []
  },
  {
   "cell_type": "code",
   "execution_count": null,
   "metadata": {},
   "outputs": [],
   "source": []
  },
  {
   "cell_type": "code",
   "execution_count": null,
   "metadata": {},
   "outputs": [],
   "source": [
    "0.01646801994147632\n",
    "0.025741589380123338\n",
    "0.01800937355416604"
   ]
  }
 ],
 "metadata": {
  "kernelspec": {
   "display_name": "Python 3",
   "language": "python",
   "name": "python3"
  },
  "language_info": {
   "codemirror_mode": {
    "name": "ipython",
    "version": 3
   },
   "file_extension": ".py",
   "mimetype": "text/x-python",
   "name": "python",
   "nbconvert_exporter": "python",
   "pygments_lexer": "ipython3",
   "version": "3.6.5"
  }
 },
 "nbformat": 4,
 "nbformat_minor": 2
}
