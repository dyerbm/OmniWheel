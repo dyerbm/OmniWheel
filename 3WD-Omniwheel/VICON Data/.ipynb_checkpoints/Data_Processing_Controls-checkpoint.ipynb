{
 "cells": [
  {
   "cell_type": "code",
   "execution_count": 268,
   "metadata": {},
   "outputs": [],
   "source": [
    "import numpy as np\n",
    "import matplotlib.pyplot as plt\n",
    "import pandas as pd\n",
    "from tqdm import tqdm #library to make a progress bar when doing long for loops\n",
    "from scipy.optimize import curve_fit #for forcing curve fit\n",
    "import time #for testing efficiency of code\n",
    "\n",
    "import warnings\n",
    "warnings.filterwarnings('ignore') #suppressed normal warnings (disable this if something stops working)"
   ]
  },
  {
   "cell_type": "code",
   "execution_count": 280,
   "metadata": {},
   "outputs": [
    {
     "data": {
      "text/plain": [
       "102.75477529599"
      ]
     },
     "execution_count": 280,
     "metadata": {},
     "output_type": "execute_result"
    }
   ],
   "source": [
    "#Import data for processing\n",
    "\n",
    "filename = \"./20-08-2020/SMC_4rose_2.xlsx\"\n",
    "data = pd.read_excel(filename, \n",
    "                    names = [\"globaltime\",\"dt\",'rb1x','rb1y','rb1z','rb2x','rb2y','rb2z',\n",
    "                            'rb3x','rb3y','rb3z','rb4x','rb4y','rb4z','rb5x','rb5y','rb5z',\n",
    "                            'rb6x','rb6y','rb6z','rb7x','rb7y','rb7z','rb8x','rb8y','rb8z',\n",
    "                            'xd','yd','thetad'])\n",
    "while data.iloc[0]['rb1z']==0.0:    \n",
    "    data = data.drop(0)\n",
    "    data.index-=1\n",
    "      \n",
    "data.iloc[0]['rb1z']        \n"
   ]
  },
  {
   "cell_type": "code",
   "execution_count": 281,
   "metadata": {
    "scrolled": true
   },
   "outputs": [],
   "source": [
    "#calculate robot position at each point\n",
    "\n",
    "#calculate the center of the robot\n",
    "Adet = (data['rb1x']*(data['rb4y']-data['rb6y']) -\n",
    "       data['rb1y']*(data['rb4x']-data['rb6x']) +\n",
    "       data['rb4x']*data['rb6y']-data['rb6x']*data['rb4y'])\n",
    "\n",
    "Bdet = ((data['rb1x']**2+data['rb1y']**2)*(data['rb6y']-data['rb4y'])  +\n",
    "       (data['rb4x']**2+data['rb4y']**2)*(data['rb1y']-data['rb6y'])  +\n",
    "       (data['rb6x']**2+data['rb6y']**2)*(data['rb4y']-data['rb1y']) )\n",
    "\n",
    "Cdet = ((data['rb1x']**2+data['rb1y']**2)*(data['rb4x']-data['rb6x'])  +\n",
    "       (data['rb4x']**2+data['rb4y']**2)*(data['rb6x']-data['rb1x'])  +\n",
    "       (data['rb6x']**2+data['rb6y']**2)*(data['rb1x']-data['rb4x']) )\n",
    "\n",
    "x_r = -Bdet/(2.*Adet)/1000.+Bdet[0]/(2.*Adet[0])/1000. #robot global position x in meters (adjusted to origin)\n",
    "y_r = -Cdet/(2.*Adet)/1000.+Cdet[0]/(2.*Adet[0])/1000. #robot global position y in meters\n",
    "\n",
    "\n",
    "x_mid = (data['rb1x']+data['rb8x'])/2./1000.+Bdet[0]/(2.*Adet[0])/1000. #calculate the midpoint of wheel 1 (adjusted to origin)\n",
    "y_mid = (data['rb1y']+data['rb8y'])/2./1000.+Cdet[0]/(2.*Adet[0])/1000.\n",
    "\n",
    "#rotate desired position to be in line with robot\n",
    "#xd_rot =data['xd']*np.cos(np.arctan2(y_mid[0]-y_r[0],x_mid[0]-x_r[0]))-data['yd']*np.sin(np.arctan2(y_mid[0]-y_r[0],x_mid[0]-x_r[0]))\n",
    "#yd_rot =data['yd']*np.cos(np.arctan2(y_mid[0]-y_r[0],x_mid[0]-x_r[0]))+data['xd']*np.sin(np.arctan2(y_mid[0]-y_r[0],x_mid[0]-x_r[0]))\n",
    "xd_rot = data['xd']\n",
    "yd_rot = data['yd']\n",
    "\n",
    "\n",
    "xr_rot =x_r*np.cos(np.arctan2(y_mid[0]-y_r[0],x_mid[0]-x_r[0]))+y_r*np.sin(np.arctan2(y_mid[0]-y_r[0],x_mid[0]-x_r[0]))\n",
    "yr_rot =y_r*np.cos(np.arctan2(y_mid[0]-y_r[0],x_mid[0]-x_r[0]))-x_r*np.sin(np.arctan2(y_mid[0]-y_r[0],x_mid[0]-x_r[0]))\n",
    "\n",
    "\n",
    "#set robot initial position to the origin\n",
    "#x_r = x_r+Bdet[0]/(2.*Adet[0])/1000. #robot position x in meters starting at origin\n",
    "#y_r = y_r+Cdet[0]/(2.*Adet[0])/1000. #robot global position y in meters  starting at origin\n",
    "theta_r = np.arctan2(y_mid-y_r,x_mid-x_r) - np.arctan2(y_mid[0]-y_r[0],x_mid[0]-x_r[0]) #robot angle starting at 0"
   ]
  },
  {
   "cell_type": "code",
   "execution_count": 282,
   "metadata": {},
   "outputs": [],
   "source": [
    "#cast robot info into a new dataframe\n",
    "\n",
    "pdata = pd.DataFrame()\n",
    "pdata.insert(0,\"globaltime\", data['globaltime'],True) #get global time\n",
    "pdata.insert(1, \"x_r\", xr_rot,True) #get robot positions (adjusted to origin)\n",
    "pdata.insert(2, \"y_r\", yr_rot,True)\n",
    "pdata.insert(3, \"theta_r\", theta_r,True)\n",
    "\n",
    "pdata.insert(4, \"x_d\", xd_rot,True) #get robot desired positions (adjusted for starting orientation)\n",
    "pdata.insert(5, \"y_d\", yd_rot,True)\n",
    "pdata.insert(6, \"theta_d\", data['thetad'],True)\n",
    "\n",
    "pdata.insert(7,'e_x', pdata['x_r']-pdata['x_d']) #calculate the errors at each point\n",
    "pdata.insert(8,'e_y', pdata['y_r']-pdata['y_d'])\n",
    "pdata.insert(9,'e_theta', pdata['theta_r']-pdata['theta_d'])\n",
    "\n",
    "pdata.insert(10,'e_x_nt',np.zeros(len(pdata['x_r'])))\n",
    "pdata.insert(11,'e_y_nt',np.zeros(len(pdata['x_r'])))\n",
    "pdata.insert(12,'e_theta_nt',np.zeros(len(pdata['x_r'])))\n",
    "\n",
    "#for i in range (1000,len(pdata['theta_r'])): #use to drop the last x amount of data\n",
    "#    pdata = pdata.drop(i)\n",
    "\n",
    "#for i in range(0, 200):\n",
    "#    pdata = pdata.drop(i)"
   ]
  },
  {
   "cell_type": "code",
   "execution_count": 283,
   "metadata": {
    "scrolled": true
   },
   "outputs": [
    {
     "name": "stderr",
     "output_type": "stream",
     "text": [
      "100%|█████████████████████████████████████████████████████████████████████████████| 5847/5847 [00:21<00:00, 267.70it/s]\n"
     ]
    },
    {
     "data": {
      "text/plain": [
       "\"for i in range (len(pdata['theta_r'])-Chopnum,len(pdata['theta_r'])): #cut off the useless data (start and end)\\n    pdata = pdata.drop(i)\\nfor i in range(0, Chopnum):\\n    pdata = pdata.drop(i) \\npdata.index-=Chopnum\""
      ]
     },
     "execution_count": 283,
     "metadata": {},
     "output_type": "execute_result"
    }
   ],
   "source": [
    "Chopnum=100\n",
    "Min_index = 0\n",
    "\n",
    "for i in tqdm(range(Chopnum, len(pdata['x_r'])-Chopnum-1)): #Minimize total RMSE\n",
    "    #print(i)\n",
    "    temp = np.sqrt(np.square(pdata.at[i,'x_r']-pdata[i-Chopnum:i+Chopnum]['x_d']) #Using ABS is about twice as fast, but gives a different answer\n",
    "               + np.square(pdata.at[i,'y_r']-pdata[i-Chopnum:i+Chopnum]['y_d']) \n",
    "               + np.square(pdata.at[i,'theta_r']-pdata[i-Chopnum:i+Chopnum]['theta_d']))\n",
    "    Min_index= np.argmin(temp)\n",
    "    \n",
    "    pdata.iat[i,10] = (pdata.iat[i,1]-pdata.iat[Min_index,4])\n",
    "    pdata.iat[i,11] = (pdata.iat[i,2]-pdata.iat[Min_index,5])\n",
    "    pdata.iat[i,12] = (pdata.iat[i,3]-pdata.iat[Min_index,6])\n",
    "\n",
    "    \n",
    "pdata.drop(index=np.linspace(0,Chopnum,num=Chopnum+1,dtype=int),inplace=True)\n",
    "pdata.drop(index=np.linspace(len(pdata['theta_r'])-Chopnum,len(pdata['theta_r']),num=Chopnum+1,dtype=int),inplace=True)\n",
    "pdata.reset_index(inplace=True, drop=True)\n",
    "\n",
    "'''for i in range (len(pdata['theta_r'])-Chopnum,len(pdata['theta_r'])): #cut off the useless data (start and end)\n",
    "    pdata = pdata.drop(i)\n",
    "for i in range(0, Chopnum):\n",
    "    pdata = pdata.drop(i) \n",
    "pdata.index-=Chopnum'''"
   ]
  },
  {
   "cell_type": "code",
   "execution_count": 284,
   "metadata": {},
   "outputs": [],
   "source": [
    "#Do additional trimming here, don't forget to fix the indexing after!!!!\n",
    "for i in range(0, 200):\n",
    "    pdata = pdata.drop(i)\n",
    "pdata.index-=200"
   ]
  },
  {
   "cell_type": "code",
   "execution_count": 285,
   "metadata": {},
   "outputs": [],
   "source": [
    "RMSE_x = np.sqrt(sum(pdata['e_x']**2)/len(pdata['e_x']))\n",
    "RMSE_y = np.sqrt(sum(pdata['e_y']**2)/len(pdata['e_y']))\n",
    "RMSE_theta = np.sqrt(sum(pdata['e_theta']**2)/len(pdata['e_theta']))\n",
    "\n",
    "RMSE_x_nt = np.sqrt(sum(pdata['e_x_nt']**2)/len(pdata['e_x']))\n",
    "RMSE_y_nt = np.sqrt(sum(pdata['e_y_nt']**2)/len(pdata['e_y']))\n",
    "RMSE_theta_nt = np.sqrt(sum(pdata['e_theta_nt']**2)/len(pdata['e_theta']))"
   ]
  },
  {
   "cell_type": "code",
   "execution_count": 286,
   "metadata": {},
   "outputs": [
    {
     "data": {
      "image/png": "[encoded data removed]",
      "text/plain": [
       "<Figure size 432x288 with 1 Axes>"
      ]
     },
     "metadata": {
      "needs_background": "light"
     },
     "output_type": "display_data"
    }
   ],
   "source": [
    "ax = plt.subplot(1,1,1)\n",
    "#pdata['x_d'][0] = 0\n",
    "ax.plot(pdata['x_r'],pdata['y_r'],pdata['x_d'],pdata['y_d'])\n",
    "ax.legend(['real path', 'desired path'])\n",
    "#ax.plot(pdata.iloc[0]['x_d'],pdata.iloc[0]['y_d'],linewidth=6)\n",
    "#print(pdata.iloc[0]['x_d'])\n",
    "#print(pdata.iloc[0]['y_d'])\n",
    "#print(np.arctan2(y_mid[0],x_mid[0])*180/np.pi)\n",
    "#plt.plot(pdata['x_r'],pdata['y_r'],pdata['x_d'],pdata['y_d'])\n",
    "#plt.plot(pdata[0]['x_d'],pdata[0]['y_d'])\n",
    "plt.show()"
   ]
  },
  {
   "cell_type": "code",
   "execution_count": 287,
   "metadata": {},
   "outputs": [
    {
     "name": "stdout",
     "output_type": "stream",
     "text": [
      "0.12383489102626703\n",
      "0.12372153510755113\n",
      "0.00946338097216404\n",
      "0.00857849729951345\n",
      "0.008651318389938644\n",
      "0.009125690990396269\n"
     ]
    }
   ],
   "source": [
    "print(RMSE_x)\n",
    "print(RMSE_y)\n",
    "print(RMSE_theta)\n",
    "\n",
    "print(RMSE_x_nt)\n",
    "print(RMSE_y_nt)\n",
    "print(RMSE_theta_nt)"
   ]
  },
  {
   "cell_type": "code",
   "execution_count": 288,
   "metadata": {
    "scrolled": true
   },
   "outputs": [
    {
     "data": {
      "image/png": "[encoded data removed]",
      "text/plain": [
       "<Figure size 432x288 with 1 Axes>"
      ]
     },
     "metadata": {
      "needs_background": "light"
     },
     "output_type": "display_data"
    },
    {
     "data": {
      "image/png": "[encoded data removed]",
      "text/plain": [
       "<Figure size 432x288 with 1 Axes>"
      ]
     },
     "metadata": {
      "needs_background": "light"
     },
     "output_type": "display_data"
    },
    {
     "data": {
      "image/png": "[encoded data removed]",
      "text/plain": [
       "<Figure size 432x288 with 1 Axes>"
      ]
     },
     "metadata": {
      "needs_background": "light"
     },
     "output_type": "display_data"
    },
    {
     "data": {
      "text/plain": [
       "'\\n\\nm_x,b_x = np.polyfit(pdata[\\'globaltime\\'], pdata[\\'e_x_nt\\'], 1) # Come up with linear fits for drift (b!=0)\\nm_y,b_y = np.polyfit(pdata[\\'globaltime\\'], pdata[\\'e_y_nt\\'], 1)\\nm_theta,b_theta = np.polyfit(pdata[\\'globaltime\\'], pdata[\\'e_theta_nt\\'], 1)\\n\\nplt.plot(pdata[\\'globaltime\\'],m_x*pdata[\\'globaltime\\']+b_x,label=(\"%f t %f\" % (m_x,b_x)))\\nplt.plot(pdata[\\'globaltime\\'],pdata[\\'e_x_nt\\'])\\nplt.legend()\\nplt.show()\\n\\nplt.plot(pdata[\\'globaltime\\'],m_y*pdata[\\'globaltime\\']+b_y,label=(\"%f t %f\" % (m_y,b_y)))\\nplt.plot(pdata[\\'globaltime\\'],pdata[\\'e_y_nt\\'])\\nplt.legend()\\nplt.show()\\n\\nplt.plot(pdata[\\'globaltime\\'],m_theta*pdata[\\'globaltime\\']+b_theta,label=(\"%f t %f\" % (m_theta,b_theta)))\\nplt.plot(pdata[\\'globaltime\\'],pdata[\\'e_theta_nt\\'])\\nplt.legend()\\nplt.show()'"
      ]
     },
     "execution_count": 288,
     "metadata": {},
     "output_type": "execute_result"
    }
   ],
   "source": [
    "def fit_func(x, a): #Come up with linear fits for drift (b=0)\n",
    "    return a*x\n",
    "\n",
    "m_x = curve_fit(fit_func, pdata['globaltime'], pdata['e_x_nt'])[0]\n",
    "m_y = curve_fit(fit_func, pdata['globaltime'], pdata['e_y_nt'])[0]\n",
    "m_theta = curve_fit(fit_func, pdata['globaltime'], pdata['e_theta_nt'])[0]\n",
    "\n",
    "plt.plot(pdata['globaltime'],m_x*pdata['globaltime'],label=(\"%f t\" % (m_x)))\n",
    "plt.plot(pdata['globaltime'],pdata['e_x_nt'])\n",
    "plt.legend()\n",
    "plt.show()\n",
    "\n",
    "plt.plot(pdata['globaltime'],m_y*pdata['globaltime'],label=(\"%f t\" % (m_y)))\n",
    "plt.plot(pdata['globaltime'],pdata['e_y_nt'])\n",
    "plt.legend()\n",
    "plt.show()\n",
    "\n",
    "plt.plot(pdata['globaltime'],m_theta*pdata['globaltime'],label=(\"%f t\" % (m_theta)))\n",
    "plt.plot(pdata['globaltime'],pdata['e_theta_nt'])\n",
    "plt.legend()\n",
    "plt.show()\n",
    "\n",
    "'''\n",
    "\n",
    "m_x,b_x = np.polyfit(pdata['globaltime'], pdata['e_x_nt'], 1) # Come up with linear fits for drift (b!=0)\n",
    "m_y,b_y = np.polyfit(pdata['globaltime'], pdata['e_y_nt'], 1)\n",
    "m_theta,b_theta = np.polyfit(pdata['globaltime'], pdata['e_theta_nt'], 1)\n",
    "\n",
    "plt.plot(pdata['globaltime'],m_x*pdata['globaltime']+b_x,label=(\"%f t %f\" % (m_x,b_x)))\n",
    "plt.plot(pdata['globaltime'],pdata['e_x_nt'])\n",
    "plt.legend()\n",
    "plt.show()\n",
    "\n",
    "plt.plot(pdata['globaltime'],m_y*pdata['globaltime']+b_y,label=(\"%f t %f\" % (m_y,b_y)))\n",
    "plt.plot(pdata['globaltime'],pdata['e_y_nt'])\n",
    "plt.legend()\n",
    "plt.show()\n",
    "\n",
    "plt.plot(pdata['globaltime'],m_theta*pdata['globaltime']+b_theta,label=(\"%f t %f\" % (m_theta,b_theta)))\n",
    "plt.plot(pdata['globaltime'],pdata['e_theta_nt'])\n",
    "plt.legend()\n",
    "plt.show()'''"
   ]
  },
  {
   "cell_type": "code",
   "execution_count": 289,
   "metadata": {},
   "outputs": [
    {
     "data": {
      "text/plain": [
       "\"\\n\\npdata.insert(13,'e_x_adj',pdata['e_x_nt']-m_x*pdata['globaltime']-b_x) #calculate adjusted errors (b!=0)\\npdata.insert(14,'e_y_adj',pdata['e_y_nt']-m_y*pdata['globaltime']-b_y)\\npdata.insert(15,'e_theta_adj',pdata['e_theta_nt']-m_theta*pdata['globaltime']-b_theta)\""
      ]
     },
     "execution_count": 289,
     "metadata": {},
     "output_type": "execute_result"
    }
   ],
   "source": [
    "pdata.insert(13,'e_x_adj',pdata['e_x_nt']-m_x*pdata['globaltime']) #calculate adjusted errors (b=0)\n",
    "pdata.insert(14,'e_y_adj',pdata['e_y_nt']-m_y*pdata['globaltime'])\n",
    "pdata.insert(15,'e_theta_adj',pdata['e_theta_nt']-m_theta*pdata['globaltime'])\n",
    "\n",
    "'''\n",
    "\n",
    "pdata.insert(13,'e_x_adj',pdata['e_x_nt']-m_x*pdata['globaltime']-b_x) #calculate adjusted errors (b!=0)\n",
    "pdata.insert(14,'e_y_adj',pdata['e_y_nt']-m_y*pdata['globaltime']-b_y)\n",
    "pdata.insert(15,'e_theta_adj',pdata['e_theta_nt']-m_theta*pdata['globaltime']-b_theta)'''"
   ]
  },
  {
   "cell_type": "code",
   "execution_count": 290,
   "metadata": {},
   "outputs": [
    {
     "name": "stdout",
     "output_type": "stream",
     "text": [
      "0.007911945788985115\n",
      "0.00863649489580498\n",
      "0.0048623659373607546\n"
     ]
    }
   ],
   "source": [
    "RMSE_x_adj=np.sqrt(sum(pdata['e_x_adj']**2)/len(pdata['e_x']))\n",
    "RMSE_y_adj=np.sqrt(sum(pdata['e_y_adj']**2)/len(pdata['e_x']))\n",
    "RMSE_theta_adj=np.sqrt(sum(pdata['e_theta_adj']**2)/len(pdata['e_x']))\n",
    "\n",
    "print(RMSE_x_adj)\n",
    "print(RMSE_y_adj)\n",
    "print(RMSE_theta_adj)"
   ]
  },
  {
   "cell_type": "code",
   "execution_count": 315,
   "metadata": {},
   "outputs": [
    {
     "data": {
      "text/plain": [
       "0.004951841033244801"
      ]
     },
     "execution_count": 315,
     "metadata": {},
     "output_type": "execute_result"
    }
   ],
   "source": [
    "'''SMC\n",
    "0.007911945788985115\n",
    "0.00863649489580498\n",
    "0.0048623659373607546\n",
    "\n",
    "\n",
    "FLPID\n",
    "0.03140264843045096\n",
    "0.03267528114119598\n",
    "0.025296186957973775\n",
    "\n",
    "'''"
   ]
  },
  {
   "cell_type": "code",
   "execution_count": 340,
   "metadata": {},
   "outputs": [
    {
     "name": "stdout",
     "output_type": "stream",
     "text": [
      "0.0015965000000051077\n",
      "0.05842710000001716\n",
      "      level_0  index  globaltime       x_r       y_r   theta_r       x_d  \\\n",
      "0         608    709   14.458895 -0.144069 -0.967167  0.003758 -0.056271   \n",
      "1         609    710   14.481654 -0.142256 -0.968771  0.004161 -0.053935   \n",
      "2         610    711   14.504412 -0.140359 -0.969978  0.003085 -0.051595   \n",
      "3         611    712   14.527394 -0.136618 -0.973376  0.003785 -0.049229   \n",
      "4         612    713   14.551163 -0.134784 -0.974881  0.003941 -0.046777   \n",
      "5         613    714   14.573231 -0.133096 -0.976611  0.004248 -0.044498   \n",
      "6         614    715   14.596228 -0.131093 -0.977944  0.003965 -0.042119   \n",
      "7         615    716   14.619957 -0.129145 -0.979474  0.005073 -0.039662   \n",
      "8         616    717   14.642448 -0.127090 -0.981023  0.005653 -0.037329   \n",
      "9         617    718   14.664894 -0.123211 -0.983721  0.005578 -0.034999   \n",
      "10        618    719   14.686868 -0.121521 -0.984954  0.005934 -0.032715   \n",
      "11        619    720   14.710587 -0.119524 -0.985825  0.004643 -0.030247   \n",
      "12        620    721   14.732745 -0.117868 -0.986954  0.004191 -0.027939   \n",
      "13        621    722   14.755644 -0.115860 -0.988291  0.004850 -0.025553   \n",
      "14        622    723   14.779403 -0.113848 -0.989475  0.005414 -0.023074   \n",
      "15        623    724   14.801514 -0.111972 -0.990384  0.004453 -0.020766   \n",
      "16        624    725   14.824381 -0.109997 -0.991540  0.004791 -0.018377   \n",
      "17        625    726   14.847255 -0.105968 -0.993881  0.005160 -0.015987   \n",
      "18        626    727   14.871037 -0.104238 -0.994947  0.005427 -0.013500   \n",
      "19        627    728   14.893240 -0.102150 -0.995733  0.005153 -0.011177   \n",
      "20        628    729   14.914101 -0.100377 -0.996934  0.005270 -0.008994   \n",
      "21        629    730   14.936970 -0.098571 -0.997976  0.005149 -0.006600   \n",
      "22        630    731   14.959793 -0.096339 -0.998791  0.004411 -0.004210   \n",
      "23        631    732   14.983970 -0.094385 -0.999818  0.003893 -0.001679   \n",
      "24        632    733   15.007969 -0.090493 -1.002043  0.004410  0.000835   \n",
      "25        633    734   15.031864 -0.088564 -1.002982  0.004071  0.003337   \n",
      "26        634    735   15.049534 -0.086724 -1.003881  0.004386  0.005187   \n",
      "27        635    736   15.072437 -0.084781 -1.004829  0.004331  0.007585   \n",
      "28        636    737   15.096127 -0.082576 -1.005761  0.004827  0.010064   \n",
      "29        637    738   15.118542 -0.080510 -1.006524  0.004082  0.012410   \n",
      "...       ...    ...         ...       ...       ...       ...       ...   \n",
      "5309     5917   6018  125.384480  0.522458  0.279457  0.034613  0.362352   \n",
      "5310     5918   6019  125.404736  0.518670  0.278782  0.034779  0.358626   \n",
      "5311     5919   6020  125.424700  0.514918  0.278004  0.035052  0.354956   \n",
      "5312     5920   6021  125.444671  0.511267  0.277362  0.034658  0.351284   \n",
      "5313     5921   6022  125.464839  0.507671  0.276748  0.034584  0.347578   \n",
      "5314     5922   6023  125.484316  0.503933  0.276031  0.034506  0.343999   \n",
      "5315     5923   6024  125.505072  0.500341  0.275238  0.034846  0.340187   \n",
      "5316     5924   6025  125.524659  0.496787  0.274408  0.034604  0.336590   \n",
      "5317     5925   6026  125.544270  0.493049  0.273476  0.034789  0.332991   \n",
      "5318     5926   6027  125.564401  0.489450  0.272673  0.034484  0.329297   \n",
      "5319     5927   6028  125.584643  0.485592  0.271787  0.034115  0.325585   \n",
      "5320     5928   6029  125.604779  0.482069  0.270942  0.034309  0.321894   \n",
      "5321     5929   6030  125.624388  0.478232  0.269981  0.034623  0.318302   \n",
      "5322     5930   6031  125.644360  0.474782  0.269194  0.034646  0.314645   \n",
      "5323     5931   6032  125.664607  0.471227  0.268400  0.034450  0.310940   \n",
      "5324     5932   6033  125.684499  0.467518  0.267472  0.035182  0.307302   \n",
      "5325     5933   6034  125.704486  0.463760  0.266622  0.035286  0.303649   \n",
      "5326     5934   6035  125.724380  0.460120  0.265812  0.034928  0.300016   \n",
      "5327     5935   6036  125.744773  0.456566  0.264978  0.034990  0.296294   \n",
      "5328     5936   6037  125.770205  0.452750  0.263962  0.035428  0.291657   \n",
      "5329     5937   6038  125.787232  0.449074  0.262969  0.035310  0.288554   \n",
      "5330     5938   6039  125.810206  0.445202  0.261979  0.035468  0.284372   \n",
      "5331     5939   6040  125.825589  0.441505  0.261044  0.035096  0.281574   \n",
      "5332     5940   6041  125.844375  0.437749  0.260199  0.035175  0.278160   \n",
      "5333     5941   6042  125.864476  0.434111  0.258999  0.035365  0.274510   \n",
      "5334     5942   6043  125.884419  0.430708  0.257968  0.034700  0.270892   \n",
      "5335     5943   6044  125.904397  0.427416  0.256805  0.034494  0.267272   \n",
      "5336     5944   6045  125.923806  0.424075  0.255523  0.034505  0.263758   \n",
      "5337     5945   6046  125.944835  0.420685  0.254324  0.034410  0.259955   \n",
      "5338     5946   6047  125.964894  0.417364  0.253153  0.034366  0.256332   \n",
      "\n",
      "           y_d  theta_d       e_x       e_y   e_theta  e_x_nt  e_y_nt  \\\n",
      "0    -0.991990        0 -0.087798  0.024823  0.003758     0.0     0.0   \n",
      "1    -0.992649        0 -0.088321  0.023878  0.004161     0.0     0.0   \n",
      "2    -0.993279        0 -0.088763  0.023301  0.003085     0.0     0.0   \n",
      "3    -0.993887        0 -0.087390  0.020510  0.003785     0.0     0.0   \n",
      "4    -0.994485        0 -0.088007  0.019605  0.003941     0.0     0.0   \n",
      "5    -0.995014        0 -0.088598  0.018403  0.004248     0.0     0.0   \n",
      "6    -0.995536        0 -0.088974  0.017592  0.003965     0.0     0.0   \n",
      "7    -0.996045        0 -0.089484  0.016570  0.005073     0.0     0.0   \n",
      "8    -0.996498        0 -0.089761  0.015475  0.005653     0.0     0.0   \n",
      "9    -0.996924        0 -0.088213  0.013203  0.005578     0.0     0.0   \n",
      "10   -0.997314        0 -0.088806  0.012360  0.005934     0.0     0.0   \n",
      "11   -0.997705        0 -0.089277  0.011880  0.004643     0.0     0.0   \n",
      "12   -0.998043        0 -0.089929  0.011089  0.004191     0.0     0.0   \n",
      "13   -0.998364        0 -0.090308  0.010073  0.004850     0.0     0.0   \n",
      "14   -0.998666        0 -0.090774  0.009191  0.005414     0.0     0.0   \n",
      "15   -0.998920        0 -0.091206  0.008536  0.004453     0.0     0.0   \n",
      "16   -0.999155        0 -0.091620  0.007615  0.004791     0.0     0.0   \n",
      "17   -0.999360        0 -0.089982  0.005479  0.005160     0.0     0.0   \n",
      "18   -0.999544        0 -0.090738  0.004597  0.005427     0.0     0.0   \n",
      "19   -0.999688        0 -0.090973  0.003954  0.005153     0.0     0.0   \n",
      "20   -0.999798        0 -0.091383  0.002863  0.005270     0.0     0.0   \n",
      "21   -0.999891        0 -0.091972  0.001915  0.005149     0.0     0.0   \n",
      "22   -0.999956        0 -0.092129  0.001165  0.004411     0.0     0.0   \n",
      "23   -0.999993        0 -0.092706  0.000175  0.003893     0.0     0.0   \n",
      "24   -0.999998        0 -0.091327 -0.002045  0.004410     0.0     0.0   \n",
      "25   -0.999972        0 -0.091901 -0.003010  0.004071     0.0     0.0   \n",
      "26   -0.999933        0 -0.091911 -0.003949  0.004386     0.0     0.0   \n",
      "27   -0.999856        0 -0.092366 -0.004972  0.004331     0.0     0.0   \n",
      "28   -0.999747        0 -0.092640 -0.006014  0.004827     0.0     0.0   \n",
      "29   -0.999615        0 -0.092919 -0.006910  0.004082     0.0     0.0   \n",
      "...        ...      ...       ...       ...       ...     ...     ...   \n",
      "5309  0.229130        0  0.160107  0.050327  0.034613     0.0     0.0   \n",
      "5310  0.227841        0  0.160044  0.050941  0.034779     0.0     0.0   \n",
      "5311  0.226552        0  0.159962  0.051452  0.035052     0.0     0.0   \n",
      "5312  0.225244        0  0.159983  0.052119  0.034658     0.0     0.0   \n",
      "5313  0.223904        0  0.160093  0.052844  0.034584     0.0     0.0   \n",
      "5314  0.222593        0  0.159934  0.053437  0.034506     0.0     0.0   \n",
      "5315  0.221177        0  0.160155  0.054061  0.034846     0.0     0.0   \n",
      "5316  0.219822        0  0.160197  0.054586  0.034604     0.0     0.0   \n",
      "5317  0.218448        0  0.160058  0.055028  0.034789     0.0     0.0   \n",
      "5318  0.217019        0  0.160153  0.055653  0.034484     0.0     0.0   \n",
      "5319  0.215564        0  0.160007  0.056223  0.034115     0.0     0.0   \n",
      "5320  0.214098        0  0.160175  0.056843  0.034309     0.0     0.0   \n",
      "5321  0.212653        0  0.159930  0.057328  0.034623     0.0     0.0   \n",
      "5322  0.211163        0  0.160137  0.058031  0.034646     0.0     0.0   \n",
      "5323  0.209634        0  0.160287  0.058766  0.034450     0.0     0.0   \n",
      "5324  0.208114        0  0.160216  0.059358  0.035182     0.0     0.0   \n",
      "5325  0.206568        0  0.160111  0.060053  0.035286     0.0     0.0   \n",
      "5326  0.205012        0  0.160104  0.060800  0.034928     0.0     0.0   \n",
      "5327  0.203398        0  0.160272  0.061579  0.034990     0.0     0.0   \n",
      "5328  0.201360        0  0.161094  0.062602  0.035428     0.0     0.0   \n",
      "5329  0.199979        0  0.160520  0.062990  0.035310     0.0     0.0   \n",
      "5330  0.198095        0  0.160830  0.063884  0.035468     0.0     0.0   \n",
      "5331  0.196820        0  0.159931  0.064224  0.035096     0.0     0.0   \n",
      "5332  0.195249        0  0.159589  0.064949  0.035175     0.0     0.0   \n",
      "5333  0.193551        0  0.159601  0.065448  0.035365     0.0     0.0   \n",
      "5334  0.191849        0  0.159815  0.066120  0.034700     0.0     0.0   \n",
      "5335  0.190126        0  0.160144  0.066679  0.034494     0.0     0.0   \n",
      "5336  0.188434        0  0.160317  0.067088  0.034505     0.0     0.0   \n",
      "5337  0.186584        0  0.160730  0.067741  0.034410     0.0     0.0   \n",
      "5338  0.184800        0  0.161032  0.068353  0.034366     0.0     0.0   \n",
      "\n",
      "      e_theta_nt  \n",
      "0            0.0  \n",
      "1            0.0  \n",
      "2            0.0  \n",
      "3            0.0  \n",
      "4            0.0  \n",
      "5            0.0  \n",
      "6            0.0  \n",
      "7            0.0  \n",
      "8            0.0  \n",
      "9            0.0  \n",
      "10           0.0  \n",
      "11           0.0  \n",
      "12           0.0  \n",
      "13           0.0  \n",
      "14           0.0  \n",
      "15           0.0  \n",
      "16           0.0  \n",
      "17           0.0  \n",
      "18           0.0  \n",
      "19           0.0  \n",
      "20           0.0  \n",
      "21           0.0  \n",
      "22           0.0  \n",
      "23           0.0  \n",
      "24           0.0  \n",
      "25           0.0  \n",
      "26           0.0  \n",
      "27           0.0  \n",
      "28           0.0  \n",
      "29           0.0  \n",
      "...          ...  \n",
      "5309         0.0  \n",
      "5310         0.0  \n",
      "5311         0.0  \n",
      "5312         0.0  \n",
      "5313         0.0  \n",
      "5314         0.0  \n",
      "5315         0.0  \n",
      "5316         0.0  \n",
      "5317         0.0  \n",
      "5318         0.0  \n",
      "5319         0.0  \n",
      "5320         0.0  \n",
      "5321         0.0  \n",
      "5322         0.0  \n",
      "5323         0.0  \n",
      "5324         0.0  \n",
      "5325         0.0  \n",
      "5326         0.0  \n",
      "5327         0.0  \n",
      "5328         0.0  \n",
      "5329         0.0  \n",
      "5330         0.0  \n",
      "5331         0.0  \n",
      "5332         0.0  \n",
      "5333         0.0  \n",
      "5334         0.0  \n",
      "5335         0.0  \n",
      "5336         0.0  \n",
      "5337         0.0  \n",
      "5338         0.0  \n",
      "\n",
      "[5339 rows x 15 columns]\n"
     ]
    }
   ],
   "source": [
    "tic = time.perf_counter()\n",
    "pdata.drop(index=np.linspace(0,100,num=101,dtype=int),inplace=True)\n",
    "toc = time.perf_counter()\n",
    "pdata.reset_index(inplace=True,drop=True)\n",
    "print(toc-tic)\n",
    "\n",
    "\n",
    "tic = time.perf_counter()\n",
    "for i in range(0, Chopnum):\n",
    "    pdata = pdata.drop(i) \n",
    "toc = time.perf_counter()\n",
    "pdata.reset_index(inplace=True,drop=True)\n",
    "print(toc-tic)\n",
    "print(pdata)"
   ]
  },
  {
   "cell_type": "code",
   "execution_count": 339,
   "metadata": {},
   "outputs": [
    {
     "name": "stdout",
     "output_type": "stream",
     "text": [
      "      level_0  index  globaltime       x_r       y_r   theta_r       x_d  \\\n",
      "0         407    508   10.189139 -0.213070 -0.314473  0.002611 -0.257743   \n",
      "1         408    509   10.205438 -0.214831 -0.318010  0.001962 -0.258332   \n",
      "2         409    510   10.229066 -0.216226 -0.321362  0.001675 -0.259164   \n",
      "3         410    511   10.247821 -0.217569 -0.324912  0.001613 -0.259806   \n",
      "4         411    512   10.265185 -0.219041 -0.328532  0.001666 -0.260386   \n",
      "5         412    513   10.284446 -0.220459 -0.332088  0.002233 -0.261012   \n",
      "6         413    514   10.304742 -0.221926 -0.335542  0.001669 -0.261654   \n",
      "7         414    515   10.330055 -0.223531 -0.339093  0.002295 -0.262427   \n",
      "8         415    516   10.347861 -0.224850 -0.342470  0.003296 -0.262953   \n",
      "9         416    517   10.364987 -0.226063 -0.345623  0.004925 -0.263446   \n",
      "10        417    518   10.384803 -0.227210 -0.348480  0.006528 -0.263998   \n",
      "11        418    519   10.404482 -0.228239 -0.351421  0.008377 -0.264529   \n",
      "12        419    520   10.424576 -0.229183 -0.354779  0.006457 -0.265052   \n",
      "13        420    521   10.444590 -0.230581 -0.358662  0.004548 -0.265554   \n",
      "14        421    522   10.465093 -0.232032 -0.362399  0.004541 -0.266050   \n",
      "15        422    523   10.489724 -0.233186 -0.365823  0.004615 -0.266620   \n",
      "16        423    524   10.510078 -0.234545 -0.369134  0.004852 -0.267069   \n",
      "17        424    525   10.526231 -0.235738 -0.372389  0.004092 -0.267412   \n",
      "18        425    526   10.545241 -0.236822 -0.375821  0.003259 -0.267801   \n",
      "19        426    527   10.564954 -0.238056 -0.379448  0.003100 -0.268186   \n",
      "20        427    528   10.584464 -0.239084 -0.382977  0.002258 -0.268549   \n",
      "21        428    529   10.604725 -0.240055 -0.386384  0.001787 -0.268908   \n",
      "22        429    530   10.624931 -0.241085 -0.390155  0.001685 -0.269247   \n",
      "23        430    531   10.645165 -0.241981 -0.393781  0.000720 -0.269568   \n",
      "24        431    532   10.664785 -0.243114 -0.397399  0.000232 -0.269861   \n",
      "25        432    533   10.689785 -0.243893 -0.401117  0.000286 -0.270209   \n",
      "26        433    534   10.706638 -0.244793 -0.404690 -0.000857 -0.270427   \n",
      "27        434    535   10.724599 -0.245508 -0.408588 -0.000722 -0.270646   \n",
      "28        435    536   10.744665 -0.246341 -0.412286 -0.001263 -0.270872   \n",
      "29        436    537   10.765040 -0.247238 -0.416063 -0.000646 -0.271084   \n",
      "...       ...    ...         ...       ...       ...       ...       ...   \n",
      "5510     5917   6018  125.384480  0.522458  0.279457  0.034613  0.362352   \n",
      "5511     5918   6019  125.404736  0.518670  0.278782  0.034779  0.358626   \n",
      "5512     5919   6020  125.424700  0.514918  0.278004  0.035052  0.354956   \n",
      "5513     5920   6021  125.444671  0.511267  0.277362  0.034658  0.351284   \n",
      "5514     5921   6022  125.464839  0.507671  0.276748  0.034584  0.347578   \n",
      "5515     5922   6023  125.484316  0.503933  0.276031  0.034506  0.343999   \n",
      "5516     5923   6024  125.505072  0.500341  0.275238  0.034846  0.340187   \n",
      "5517     5924   6025  125.524659  0.496787  0.274408  0.034604  0.336590   \n",
      "5518     5925   6026  125.544270  0.493049  0.273476  0.034789  0.332991   \n",
      "5519     5926   6027  125.564401  0.489450  0.272673  0.034484  0.329297   \n",
      "5520     5927   6028  125.584643  0.485592  0.271787  0.034115  0.325585   \n",
      "5521     5928   6029  125.604779  0.482069  0.270942  0.034309  0.321894   \n",
      "5522     5929   6030  125.624388  0.478232  0.269981  0.034623  0.318302   \n",
      "5523     5930   6031  125.644360  0.474782  0.269194  0.034646  0.314645   \n",
      "5524     5931   6032  125.664607  0.471227  0.268400  0.034450  0.310940   \n",
      "5525     5932   6033  125.684499  0.467518  0.267472  0.035182  0.307302   \n",
      "5526     5933   6034  125.704486  0.463760  0.266622  0.035286  0.303649   \n",
      "5527     5934   6035  125.724380  0.460120  0.265812  0.034928  0.300016   \n",
      "5528     5935   6036  125.744773  0.456566  0.264978  0.034990  0.296294   \n",
      "5529     5936   6037  125.770205  0.452750  0.263962  0.035428  0.291657   \n",
      "5530     5937   6038  125.787232  0.449074  0.262969  0.035310  0.288554   \n",
      "5531     5938   6039  125.810206  0.445202  0.261979  0.035468  0.284372   \n",
      "5532     5939   6040  125.825589  0.441505  0.261044  0.035096  0.281574   \n",
      "5533     5940   6041  125.844375  0.437749  0.260199  0.035175  0.278160   \n",
      "5534     5941   6042  125.864476  0.434111  0.258999  0.035365  0.274510   \n",
      "5535     5942   6043  125.884419  0.430708  0.257968  0.034700  0.270892   \n",
      "5536     5943   6044  125.904397  0.427416  0.256805  0.034494  0.267272   \n",
      "5537     5944   6045  125.923806  0.424075  0.255523  0.034505  0.263758   \n",
      "5538     5945   6046  125.944835  0.420685  0.254324  0.034410  0.259955   \n",
      "5539     5946   6047  125.964894  0.417364  0.253153  0.034366  0.256332   \n",
      "\n",
      "           y_d  theta_d       e_x       e_y   e_theta  e_x_nt  e_y_nt  \\\n",
      "0    -0.467571        0  0.044672  0.153098  0.002611     0.0     0.0   \n",
      "1    -0.470538        0  0.043500  0.152528  0.001962     0.0     0.0   \n",
      "2    -0.474835        0  0.042937  0.153473  0.001675     0.0     0.0   \n",
      "3    -0.478242        0  0.042237  0.153330  0.001613     0.0     0.0   \n",
      "4    -0.481394        0  0.041345  0.152862  0.001666     0.0     0.0   \n",
      "5    -0.484887        0  0.040553  0.152800  0.002233     0.0     0.0   \n",
      "6    -0.488565        0  0.039728  0.153023  0.001669     0.0     0.0   \n",
      "7    -0.493145        0  0.038896  0.154052  0.002295     0.0     0.0   \n",
      "8    -0.496364        0  0.038104  0.153893  0.003296     0.0     0.0   \n",
      "9    -0.499456        0  0.037383  0.153833  0.004925     0.0     0.0   \n",
      "10   -0.503030        0  0.036788  0.154550  0.006528     0.0     0.0   \n",
      "11   -0.506575        0  0.036289  0.155155  0.008377     0.0     0.0   \n",
      "12   -0.510191        0  0.035868  0.155412  0.006457     0.0     0.0   \n",
      "13   -0.513788        0  0.034973  0.155126  0.004548     0.0     0.0   \n",
      "14   -0.517468        0  0.034018  0.155069  0.004541     0.0     0.0   \n",
      "15   -0.521881        0  0.033433  0.156058  0.004615     0.0     0.0   \n",
      "16   -0.525523        0  0.032524  0.156389  0.004852     0.0     0.0   \n",
      "17   -0.528409        0  0.031674  0.156020  0.004092     0.0     0.0   \n",
      "18   -0.531802        0  0.030978  0.155981  0.003259     0.0     0.0   \n",
      "19   -0.535315        0  0.030130  0.155866  0.003100     0.0     0.0   \n",
      "20   -0.538786        0  0.029465  0.155809  0.002258     0.0     0.0   \n",
      "21   -0.542385        0  0.028853  0.156002  0.001787     0.0     0.0   \n",
      "22   -0.545969        0  0.028162  0.155814  0.001685     0.0     0.0   \n",
      "23   -0.549552        0  0.027587  0.155772  0.000720     0.0     0.0   \n",
      "24   -0.553021        0  0.026747  0.155622  0.000232     0.0     0.0   \n",
      "25   -0.557431        0  0.026316  0.156314  0.000286     0.0     0.0   \n",
      "26   -0.560400        0  0.025634  0.155710 -0.000857     0.0     0.0   \n",
      "27   -0.563558        0  0.025138  0.154970 -0.000722     0.0     0.0   \n",
      "28   -0.567080        0  0.024531  0.154794 -0.001263     0.0     0.0   \n",
      "29   -0.570650        0  0.023845  0.154587 -0.000646     0.0     0.0   \n",
      "...        ...      ...       ...       ...       ...     ...     ...   \n",
      "5510  0.229130        0  0.160107  0.050327  0.034613     0.0     0.0   \n",
      "5511  0.227841        0  0.160044  0.050941  0.034779     0.0     0.0   \n",
      "5512  0.226552        0  0.159962  0.051452  0.035052     0.0     0.0   \n",
      "5513  0.225244        0  0.159983  0.052119  0.034658     0.0     0.0   \n",
      "5514  0.223904        0  0.160093  0.052844  0.034584     0.0     0.0   \n",
      "5515  0.222593        0  0.159934  0.053437  0.034506     0.0     0.0   \n",
      "5516  0.221177        0  0.160155  0.054061  0.034846     0.0     0.0   \n",
      "5517  0.219822        0  0.160197  0.054586  0.034604     0.0     0.0   \n",
      "5518  0.218448        0  0.160058  0.055028  0.034789     0.0     0.0   \n",
      "5519  0.217019        0  0.160153  0.055653  0.034484     0.0     0.0   \n",
      "5520  0.215564        0  0.160007  0.056223  0.034115     0.0     0.0   \n",
      "5521  0.214098        0  0.160175  0.056843  0.034309     0.0     0.0   \n",
      "5522  0.212653        0  0.159930  0.057328  0.034623     0.0     0.0   \n",
      "5523  0.211163        0  0.160137  0.058031  0.034646     0.0     0.0   \n",
      "5524  0.209634        0  0.160287  0.058766  0.034450     0.0     0.0   \n",
      "5525  0.208114        0  0.160216  0.059358  0.035182     0.0     0.0   \n",
      "5526  0.206568        0  0.160111  0.060053  0.035286     0.0     0.0   \n",
      "5527  0.205012        0  0.160104  0.060800  0.034928     0.0     0.0   \n",
      "5528  0.203398        0  0.160272  0.061579  0.034990     0.0     0.0   \n",
      "5529  0.201360        0  0.161094  0.062602  0.035428     0.0     0.0   \n",
      "5530  0.199979        0  0.160520  0.062990  0.035310     0.0     0.0   \n",
      "5531  0.198095        0  0.160830  0.063884  0.035468     0.0     0.0   \n",
      "5532  0.196820        0  0.159931  0.064224  0.035096     0.0     0.0   \n",
      "5533  0.195249        0  0.159589  0.064949  0.035175     0.0     0.0   \n",
      "5534  0.193551        0  0.159601  0.065448  0.035365     0.0     0.0   \n",
      "5535  0.191849        0  0.159815  0.066120  0.034700     0.0     0.0   \n",
      "5536  0.190126        0  0.160144  0.066679  0.034494     0.0     0.0   \n",
      "5537  0.188434        0  0.160317  0.067088  0.034505     0.0     0.0   \n",
      "5538  0.186584        0  0.160730  0.067741  0.034410     0.0     0.0   \n",
      "5539  0.184800        0  0.161032  0.068353  0.034366     0.0     0.0   \n",
      "\n",
      "      e_theta_nt  \n",
      "0            0.0  \n",
      "1            0.0  \n",
      "2            0.0  \n",
      "3            0.0  \n",
      "4            0.0  \n",
      "5            0.0  \n",
      "6            0.0  \n",
      "7            0.0  \n",
      "8            0.0  \n",
      "9            0.0  \n",
      "10           0.0  \n",
      "11           0.0  \n",
      "12           0.0  \n",
      "13           0.0  \n",
      "14           0.0  \n",
      "15           0.0  \n",
      "16           0.0  \n",
      "17           0.0  \n",
      "18           0.0  \n",
      "19           0.0  \n",
      "20           0.0  \n",
      "21           0.0  \n",
      "22           0.0  \n",
      "23           0.0  \n",
      "24           0.0  \n",
      "25           0.0  \n",
      "26           0.0  \n",
      "27           0.0  \n",
      "28           0.0  \n",
      "29           0.0  \n",
      "...          ...  \n",
      "5510         0.0  \n",
      "5511         0.0  \n",
      "5512         0.0  \n",
      "5513         0.0  \n",
      "5514         0.0  \n",
      "5515         0.0  \n",
      "5516         0.0  \n",
      "5517         0.0  \n",
      "5518         0.0  \n",
      "5519         0.0  \n",
      "5520         0.0  \n",
      "5521         0.0  \n",
      "5522         0.0  \n",
      "5523         0.0  \n",
      "5524         0.0  \n",
      "5525         0.0  \n",
      "5526         0.0  \n",
      "5527         0.0  \n",
      "5528         0.0  \n",
      "5529         0.0  \n",
      "5530         0.0  \n",
      "5531         0.0  \n",
      "5532         0.0  \n",
      "5533         0.0  \n",
      "5534         0.0  \n",
      "5535         0.0  \n",
      "5536         0.0  \n",
      "5537         0.0  \n",
      "5538         0.0  \n",
      "5539         0.0  \n",
      "\n",
      "[5540 rows x 15 columns]\n"
     ]
    }
   ],
   "source": [
    "pdata.drop(0,inplace=True,axis=0)\n",
    "pdata.reset_index(inplace=True,drop=True)\n",
    "print(pdata)"
   ]
  },
  {
   "cell_type": "code",
   "execution_count": null,
   "metadata": {},
   "outputs": [],
   "source": []
  },
  {
   "cell_type": "code",
   "execution_count": null,
   "metadata": {},
   "outputs": [],
   "source": []
  }
 ],
 "metadata": {
  "kernelspec": {
   "display_name": "Python 3",
   "language": "python",
   "name": "python3"
  },
  "language_info": {
   "codemirror_mode": {
    "name": "ipython",
    "version": 3
   },
   "file_extension": ".py",
   "mimetype": "text/x-python",
   "name": "python",
   "nbconvert_exporter": "python",
   "pygments_lexer": "ipython3",
   "version": "3.7.4"
  }
 },
 "nbformat": 4,
 "nbformat_minor": 2
}
