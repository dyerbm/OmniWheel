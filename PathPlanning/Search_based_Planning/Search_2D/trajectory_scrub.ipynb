{
 "cells": [
  {
   "cell_type": "code",
   "execution_count": 68,
   "metadata": {},
   "outputs": [],
   "source": [
    "import numpy as np\n",
    "import pandas as pd"
   ]
  },
  {
   "cell_type": "code",
   "execution_count": 69,
   "metadata": {},
   "outputs": [],
   "source": [
    "filename = \"output.txt\"\n",
    "\n",
    "df = pd.read_csv(filename,\n",
    "                delimiter = '\\t',\n",
    "                names = ['x','y','theta'])\n",
    "\n",
    "newframe = pd.DataFrame(columns = ['x','y','theta'])\n",
    "\n",
    "dict={}\n",
    "\n",
    "for i in range(len(df)-1):\n",
    "    x=np.linspace(df['x'][i],df['x'][i+1],num=4)\n",
    "    y=np.linspace(df['y'][i],df['y'][i+1],num=4)\n",
    "    t=np.linspace(df['theta'][i],df['theta'][i+1],num=4)\n",
    "    for j in range(4):\n",
    "        dict[i*4+j] = {'x':x[j],'y':y[j],'theta':t[j]}\n",
    "\n",
    "newframe = pd.DataFrame.from_dict(dict, \"index\")\n",
    "\n",
    "newframe.to_csv('testoutput.csv',index=False)\n",
    "\n",
    "\n",
    "\n"
   ]
  },
  {
   "cell_type": "code",
   "execution_count": null,
   "metadata": {},
   "outputs": [],
   "source": []
  },
  {
   "cell_type": "code",
   "execution_count": null,
   "metadata": {},
   "outputs": [],
   "source": []
  },
  {
   "cell_type": "code",
   "execution_count": null,
   "metadata": {},
   "outputs": [],
   "source": []
  }
 ],
 "metadata": {
  "kernelspec": {
   "display_name": "Python 3",
   "language": "python",
   "name": "python3"
  },
  "language_info": {
   "codemirror_mode": {
    "name": "ipython",
    "version": 3
   },
   "file_extension": ".py",
   "mimetype": "text/x-python",
   "name": "python",
   "nbconvert_exporter": "python",
   "pygments_lexer": "ipython3",
   "version": "3.7.4"
  }
 },
 "nbformat": 4,
 "nbformat_minor": 2
}
