{
 "cells": [
  {
   "cell_type": "code",
   "execution_count": 1,
   "metadata": {},
   "outputs": [],
   "source": [
    "import numpy as np\n",
    "import pandas as pd"
   ]
  },
  {
   "cell_type": "code",
   "execution_count": 15,
   "metadata": {},
   "outputs": [
    {
     "name": "stdout",
     "output_type": "stream",
     "text": [
      "1\n",
      "2\n",
      "3\n",
      "4\n",
      "5\n",
      "6\n",
      "7\n",
      "8\n"
     ]
    }
   ],
   "source": [
    "filename = \"output.txt\"\n",
    "\n",
    "df = pd.read_csv(filename,\n",
    "                delimiter = '\\t',\n",
    "                names = ['x','y','theta'])\n",
    "\n",
    "newframe = pd.DataFrame(columns = ['x','y','theta'])\n",
    "\n",
    "measurement_time=5*50 #time to sample multipled by controller frequency\n",
    "\n",
    "dict={}\n",
    "for pathnum in range(1,9):\n",
    "    print(pathnum)\n",
    "    filename = \"path\"+str(pathnum)+\".txt\"\n",
    "    df = pd.read_csv(filename,\n",
    "                delimiter = '\\t',\n",
    "                names = ['x','y','theta'])\n",
    "    \n",
    "    for i in range(len(df)-1):\n",
    "        dictlen=len(dict)\n",
    "        if (df['x'][i]!=df['x'][i+1] and df['y'][i]!=df['y'][i+1]):\n",
    "            x=np.linspace(df['x'][i],df['x'][i+1],num=4)\n",
    "            y=np.linspace(df['y'][i],df['y'][i+1],num=4)\n",
    "            t=np.linspace(df['theta'][i],df['theta'][i+1],num=4)\n",
    "            for j in range(3):\n",
    "                dict[dictlen+j] = {'x':x[j],'y':y[j],'theta':t[j]}\n",
    "        else:\n",
    "            x=np.linspace(df['x'][i],df['x'][i+1],num=3)\n",
    "            y=np.linspace(df['y'][i],df['y'][i+1],num=3)\n",
    "            t=np.linspace(df['theta'][i],df['theta'][i+1],num=3)\n",
    "            for j in range(2):\n",
    "                dict[dictlen+j] = {'x':x[j],'y':y[j],'theta':t[j]}\n",
    "    \n",
    "    dictlen=len(dict)\n",
    "    for i in range(measurement_time): #fill in time at point\n",
    "        dict[dictlen+i] = {'x':df['x'].iloc[-1],'y':df['y'].iloc[-1],'theta':df['theta'].iloc[-1]}\n",
    "        \n",
    "newframe = pd.DataFrame.from_dict(dict, \"index\")\n",
    "\n",
    "newframe.to_csv('testpath.csv',index=False)\n",
    "\n",
    "\n",
    "\n"
   ]
  },
  {
   "cell_type": "code",
   "execution_count": 14,
   "metadata": {},
   "outputs": [
    {
     "data": {
      "text/plain": [
       "28.942666666666664"
      ]
     },
     "execution_count": 14,
     "metadata": {},
     "output_type": "execute_result"
    }
   ],
   "source": [
    "len(newframe)/50/60"
   ]
  },
  {
   "cell_type": "code",
   "execution_count": null,
   "metadata": {},
   "outputs": [],
   "source": []
  },
  {
   "cell_type": "code",
   "execution_count": null,
   "metadata": {},
   "outputs": [],
   "source": []
  }
 ],
 "metadata": {
  "kernelspec": {
   "display_name": "Python 3",
   "language": "python",
   "name": "python3"
  },
  "language_info": {
   "codemirror_mode": {
    "name": "ipython",
    "version": 3
   },
   "file_extension": ".py",
   "mimetype": "text/x-python",
   "name": "python",
   "nbconvert_exporter": "python",
   "pygments_lexer": "ipython3",
   "version": "3.7.4"
  }
 },
 "nbformat": 4,
 "nbformat_minor": 2
}
