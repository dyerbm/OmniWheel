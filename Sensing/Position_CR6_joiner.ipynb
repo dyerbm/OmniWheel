{
 "cells": [
  {
   "cell_type": "code",
   "execution_count": 17,
   "metadata": {},
   "outputs": [],
   "source": [
    "import pandas as pd\n",
    "import numpy as np\n",
    "import matplotlib.pyplot as plt\n",
    "from tqdm import tqdm\n",
    "from datetime import datetime\n",
    "from datetime import timedelta"
   ]
  },
  {
   "cell_type": "code",
   "execution_count": 56,
   "metadata": {
    "scrolled": true
   },
   "outputs": [
    {
     "name": "stderr",
     "output_type": "stream",
     "text": [
      "100%|█████████████████████████████████████████████████████████████████████████| 86828/86828 [00:02<00:00, 37822.36it/s]\n",
      "100%|██████████████████████████████████████████████████████████████████████████████████| 53/53 [00:01<00:00, 28.45it/s]\n",
      "  3%|██▏                                                                           | 101/3528 [00:00<00:06, 499.34it/s]"
     ]
    },
    {
     "name": "stdout",
     "output_type": "stream",
     "text": [
      "10640\n",
      "28272\n"
     ]
    },
    {
     "name": "stderr",
     "output_type": "stream",
     "text": [
      "100%|█████████████████████████████████████████████████████████████████████████████| 3528/3528 [00:06<00:00, 515.56it/s]\n",
      "100%|███████████████████████████████████████████████████████████████████████████| 10640/10640 [00:14<00:00, 727.06it/s]\n",
      "100%|███████████████████████████████████████████████████████████████████████████| 17632/17632 [01:14<00:00, 235.13it/s]\n",
      "100%|██████████████████████████████████████████████████████████████████████████| 17612/17612 [00:03<00:00, 4811.82it/s]\n"
     ]
    }
   ],
   "source": [
    "position_path = \"./Data/2020-09-29/\"\n",
    "data_path = \"./Data/2020-09-29/CR6Data/\"\n",
    "output_path =\"./\"\n",
    "\n",
    "df_pos = pd.read_excel(position_path+\"FullTestRun_1.xlsx\", header=None)\n",
    "df_pos.columns = ['TIMESTAMP', 'X', 'Y', 'THETA']\n",
    "\n",
    "\n",
    "\n",
    "'''Create proper timestamps for position'''\n",
    "dict ={}\n",
    "for i in tqdm(range(len(df_pos))):\n",
    "    dict[i]={'TIMESTAMP': datetime.fromordinal(int(df_pos['TIMESTAMP'][i])) + timedelta(days=df_pos['TIMESTAMP'][i]%1) - timedelta(days = 366),'X':df_pos['X'][i],'Y':df_pos['Y'][i],'THETA':df_pos['THETA'][i]}\n",
    "df_pos = pd.DataFrame.from_dict(dict, \"index\")\n",
    "\n",
    "\n",
    "\n",
    "'''Create single CR6 dataframe with datetime for comparisons'''\n",
    "dict={}\n",
    "for i in tqdm(range(5339,5392)): #create dataframe of all CR6 data\n",
    "    outputsize = len(dict)\n",
    "    \n",
    "    df_CR6 = pd.read_table(data_path+\"Younng10Hz\"+str(i)+\".dat\",\n",
    "                       sep=\",\",\n",
    "                      skiprows=[0,2,3])\n",
    "\n",
    "    for j in range(len(df_CR6)):\n",
    "        if \".\" in df_CR6['TIMESTAMP'][j]:\n",
    "            date = datetime.strptime(df_CR6['TIMESTAMP'][j], '%Y-%m-%d %H:%M:%S.%f')\n",
    "            #print(date)\n",
    "        else:\n",
    "            date = datetime.strptime(df_CR6['TIMESTAMP'][j], '%Y-%m-%d %H:%M:%S')\n",
    "            \n",
    "        #dict[outputsize+j]={\"Year\":date.year,\"Month\":date.month,\"Day\":date.day,\"Hour\":date.hour,\"Minute\":date.minute,\"Second\":date.second+date.microsecond/1000000.,\"Record\":df_CR6['RECORD'][j],\"U (m s^-1)\":df_CR6['U'][j],\"V (m s^-1)\":df_CR6['V'][j],\"W (m s^-1)\":df_CR6['W'][j],\"TSonic (K)\":df_CR6['TSonic'][j],\"RH (%)\":df_CR6['RH'][j],\"T_HMP60 (C)\":df_CR6['T_HMP60'][j]}\n",
    "        dict[outputsize+j]={\"TIMESTAMP\":date,\"Record\":df_CR6['RECORD'][j],\"U (m s^-1)\":df_CR6['U'][j],\"V (m s^-1)\":df_CR6['V'][j],\"W (m s^-1)\":df_CR6['W'][j],\"TSonic (K)\":df_CR6['TSonic'][j],\"RH (%)\":df_CR6['RH'][j],\"T_HMP60 (C)\":df_CR6['T_HMP60'][j]}    \n",
    "            \n",
    "        #output.loc[outputsize+j,output.columns]=[date.year,date.month,date.day,date.hour,date.minute,date.second+date.microsecond,df_CR6['RECORD'][j],df_CR6['U'][j],df_CR6['V'][j],df_CR6['W'][j],df_CR6['TSonic'][j],df_CR6['RH'][j],df_CR6['T_HMP60'][j]]\n",
    "        #output = output.append(pd.Series([date.year,date.month,date.day,date.hour,date.minute,date.second+date.microsecond/1000000.,df_CR6['RECORD'][j],df_CR6['U'][j],df_CR6['V'][j],df_CR6['W'][j],df_CR6['TSonic'][j],df_CR6['RH'][j],df_CR6['T_HMP60'][j]], index=output.columns ), ignore_index=True)\n",
    "    \n",
    "df_CR6 = pd.DataFrame.from_dict(dict, \"index\")\n",
    "\n",
    "\n",
    "\n",
    "\n",
    "'''Trim CR6 data based on timestamps from position data'''\n",
    "#print((df_CR6['TIMESTAMP']-df_pos['TIMESTAMP'].iloc[0]).abs().argsort()[:2].iloc[0])\n",
    "#print((df_CR6['TIMESTAMP']-df_pos['TIMESTAMP'].iloc[-1]).abs().argsort()[:2].iloc[1])\n",
    "\n",
    "for i in tqdm(range((df_CR6['TIMESTAMP']-df_pos['TIMESTAMP'].iloc[-1]).abs().argsort()[:2].iloc[1],len(df_CR6))):\n",
    "    df_CR6.drop(i, inplace=True)\n",
    "\n",
    "for i in tqdm(range(0,(df_CR6['TIMESTAMP']-df_pos['TIMESTAMP'].iloc[0]).abs().argsort()[:2].iloc[0])):\n",
    "    df_CR6.drop(i, inplace=True)\n",
    "    \n",
    "df_CR6.reset_index(inplace=True, drop=True)\n",
    "\n",
    "\n",
    "'''Create a combined database'''\n",
    "dict={}\n",
    "for i in tqdm(range(len(df_CR6))):\n",
    "    date = df_CR6[\"TIMESTAMP\"].iloc[i]\n",
    "    index = (df_pos['TIMESTAMP']-date).abs().argsort()[:2].iloc[1]\n",
    "    \n",
    "    x = df_pos['X'].iloc[index]\n",
    "    y = df_pos['Y'].iloc[index]\n",
    "    theta = df_pos['THETA'].iloc[index]\n",
    "    \n",
    "    dict[i]= {\"Year\":date.year,\"Month\":date.month,\"Day\":date.day,\"Hour\":date.hour,\n",
    "              \"Minute\":date.minute,\"Second\":date.second+date.microsecond/1000000.,\n",
    "              \"x\":x,\"y\":y,\"theta\":theta,\n",
    "              \"Record\":df_CR6['Record'][i],\"U (m s^-1)\":df_CR6['U (m s^-1)'][i],\"V (m s^-1)\":df_CR6['V (m s^-1)'][i],\n",
    "              \"W (m s^-1)\":df_CR6['W (m s^-1)'][i],\"TSonic (K)\":df_CR6['TSonic (K)'][i],\"RH (%)\":df_CR6['RH (%)'][i],\n",
    "              \"T_HMP60 (C)\":df_CR6['T_HMP60 (C)'][i]}\n",
    "\n",
    "    \n",
    "df_comb = pd.DataFrame.from_dict(dict, \"index\")\n",
    "\n",
    "\n",
    "'''Create MultiIndex based on each point'''\n",
    "point_dict={'p1':[2.8,0.7,0], 'p2':[6.0,0.7,0], 'p3':[6.0,4.4,0], 'p4':[2.8,4.4,0],\n",
    "           'p5':[6.0,7.9,0], 'p6':[2.8,7.9,0], 'p7':[6.0,10.6,0], 'p8':[4.9,11.8,0]}\n",
    "\n",
    "drop=20 #frequency*seconds to drop, make sure the robot is in the correct positon\n",
    "\n",
    "dict={'p1':{},'p2':{},'p3':{},'p4':{},'p5':{},'p6':{},'p7':{},'p8':{}}\n",
    "\n",
    "for i in tqdm(range(drop, len(df_comb))):\n",
    "    if ([df_comb['x'].iloc[i-drop],df_comb['y'].iloc[i-drop],df_comb['theta'].iloc[i-drop]] and\n",
    "       [df_comb['x'].iloc[i],df_comb['y'].iloc[i],df_comb['theta'].iloc[i]]) in point_dict.values(): #Check that it has been there for a while\n",
    "        \n",
    "        point = list(point_dict.keys())[list(point_dict.values()).index([df_comb['x'].iloc[i],df_comb['y'].iloc[i],df_comb['theta'].iloc[i]])]\n",
    "                \n",
    "        dict[point][i]=df_comb.iloc[i].to_dict()\n",
    "    \n",
    "        \n",
    "dict_of_df = {k: pd.DataFrame(v) for k,v in dict.items()}\n",
    "output = pd.concat(dict_of_df, axis=1).transpose()"
   ]
  },
  {
   "cell_type": "code",
   "execution_count": null,
   "metadata": {},
   "outputs": [],
   "source": []
  },
  {
   "cell_type": "code",
   "execution_count": null,
   "metadata": {},
   "outputs": [],
   "source": [
    "  "
   ]
  },
  {
   "cell_type": "code",
   "execution_count": null,
   "metadata": {},
   "outputs": [],
   "source": []
  },
  {
   "cell_type": "code",
   "execution_count": null,
   "metadata": {},
   "outputs": [],
   "source": []
  },
  {
   "cell_type": "code",
   "execution_count": null,
   "metadata": {
    "scrolled": true
   },
   "outputs": [],
   "source": []
  },
  {
   "cell_type": "code",
   "execution_count": null,
   "metadata": {},
   "outputs": [],
   "source": []
  },
  {
   "cell_type": "code",
   "execution_count": null,
   "metadata": {},
   "outputs": [],
   "source": []
  },
  {
   "cell_type": "code",
   "execution_count": null,
   "metadata": {},
   "outputs": [],
   "source": []
  },
  {
   "cell_type": "code",
   "execution_count": null,
   "metadata": {},
   "outputs": [],
   "source": []
  },
  {
   "cell_type": "code",
   "execution_count": null,
   "metadata": {},
   "outputs": [],
   "source": []
  },
  {
   "cell_type": "code",
   "execution_count": null,
   "metadata": {},
   "outputs": [],
   "source": []
  }
 ],
 "metadata": {
  "kernelspec": {
   "display_name": "Python 3",
   "language": "python",
   "name": "python3"
  },
  "language_info": {
   "codemirror_mode": {
    "name": "ipython",
    "version": 3
   },
   "file_extension": ".py",
   "mimetype": "text/x-python",
   "name": "python",
   "nbconvert_exporter": "python",
   "pygments_lexer": "ipython3",
   "version": "3.6.5"
  }
 },
 "nbformat": 4,
 "nbformat_minor": 2
}
