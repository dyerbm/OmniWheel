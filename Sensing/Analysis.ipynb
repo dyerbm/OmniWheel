{
 "cells": [
  {
   "cell_type": "code",
   "execution_count": 1,
   "metadata": {},
   "outputs": [],
   "source": [
    "import pandas as pd\n",
    "import numpy as np\n",
    "import matplotlib.pyplot as plt\n",
    "from tqdm import tqdm\n",
    "from datetime import datetime\n",
    "from datetime import timedelta"
   ]
  },
  {
   "cell_type": "code",
   "execution_count": 42,
   "metadata": {},
   "outputs": [],
   "source": [
    "'''Create empty Dataframe'''\n",
    "my_index = pd.MultiIndex(levels=[[],[],[]],\n",
    "                         codes=[[],[],[]],\n",
    "                             names=[u'STime', u'Point', u'Index'])\n",
    "my_columns = [u'Year', u'Month',u'Day',u'Hour',u'Minute',u'Second',u'x',u'y',u'theta',u'Record',u'U (m s^-1)',u'V (m s^-1)',u'W (m s^-1)',u'TSonic (K)',u'RH (%)',u'T_HMP60 (C)']\n",
    "data = pd.DataFrame(index=my_index, columns=my_columns)\n",
    "\n",
    "'''IMPORT DATA'''\n",
    "files = ['16-00','16-30','17-00','17-30','18-00','18-30','19-00','19-30',\n",
    "            '20-00','20-30','21-00','21-30','22-00','22-30','23-00','23-30',\n",
    "            '00-00','00-30','01-00','01-30','02-00','02-30','03-00','03-30',\n",
    "            '04-00','04-30','05-00','05-30','06-00','06-30','07-00','07-30',\n",
    "            '08-00','08-30','09-00','09-30','10-00','10-30','11-00','11-30',\n",
    "            '12-00','12-30','13-00','13-30','14-00','14-30','15-00','15-30']\n",
    "\n",
    "for i in files:\n",
    "    temppd = pd.read_csv('./Data/Binned Data/'+i+'.csv',index_col=[0,1])\n",
    "    \n",
    "    #append dataframe into multiframe\n",
    "    data = data.append(temppd.assign(k=i).set_index('k',append=True).swaplevel(0,2).swaplevel(1,2))\n",
    "    \n",
    "#data = data.sort_index() #sort cuz faster"
   ]
  },
  {
   "cell_type": "code",
   "execution_count": 50,
   "metadata": {},
   "outputs": [
    {
     "name": "stderr",
     "output_type": "stream",
     "text": [
      "100%|██████████████████████████████████████████████████████████████████████████████████| 48/48 [00:28<00:00,  1.69it/s]"
     ]
    },
    {
     "name": "stdout",
     "output_type": "stream",
     "text": [
      "                  Uavg        Vavg         Wavg       Savg TSonicavg    RHavg  \\\n",
      "STime Point                                                                     \n",
      "16-00 p1    -0.0150259  -0.0120259    0.0336278  0.0669413   23.1583  33.1996   \n",
      "      p2    -0.0067214  -0.0133438 -0.000298278  0.0247344    23.003  33.2299   \n",
      "      p3    -0.0369643 -0.00323063   0.00647847   0.043681   23.0642  33.0189   \n",
      "      p4    -0.0269671  -0.0226333     0.103981  0.0591891   23.6655  33.0794   \n",
      "      p5    -0.0421473 -0.00833579    0.0222627  0.0598653   23.0911  32.6345   \n",
      "...                ...         ...          ...        ...       ...      ...   \n",
      "15-30 p4     -0.014525  -0.0176965    0.0916329  0.0589947    23.465   33.481   \n",
      "      p5    -0.0481912  0.00336767   0.00900432  0.0517842   23.0746  33.0722   \n",
      "      p6    -0.0319208 -0.00584292    0.0215807  0.0399221   23.0643  33.0788   \n",
      "      p7    -0.0338166  -0.0661242   -0.0220488  0.0918856   22.9612    33.01   \n",
      "      p8    -0.0315461   -0.144682   -0.0456772   0.187855   22.5982   33.021   \n",
      "\n",
      "            T_HMP60avg         Uvar         Vvar         Wvar            k  \\\n",
      "STime Point                                                                  \n",
      "16-00 p1       21.9825   0.00298579   0.00312926   0.00294942   0.00453224   \n",
      "      p2       21.9823  0.000128292  0.000837998  0.000277371  0.000621831   \n",
      "      p3       21.9999  0.000800479  0.000333042  0.000420368  0.000776944   \n",
      "      p4       22.0276   0.00198387   0.00189974   0.00146788   0.00267575   \n",
      "      p5        22.149   0.00320378   0.00127762   0.00152729   0.00300435   \n",
      "...                ...          ...          ...          ...          ...   \n",
      "15-30 p4        22.039   0.00138333   0.00310464   0.00293488   0.00371143   \n",
      "      p5       22.1458  0.000996996     0.000314  0.000518944   0.00091497   \n",
      "      p6       22.1688  0.000438284  0.000592212  0.000656875  0.000843686   \n",
      "      p7       22.1703   0.00346766   0.00501299   0.00304959   0.00576512   \n",
      "      p8       22.1237   0.00919389    0.0171343   0.00870123    0.0175147   \n",
      "\n",
      "                   UVvar        UWvar        VWvar        UTvar        VTvar  \\\n",
      "STime Point                                                                    \n",
      "16-00 p1     9.11742e-05  0.000739042  -0.00154098 -0.000280269 -0.000805556   \n",
      "      p2    -2.76539e-05  -2.7153e-06 -3.95348e-05  -0.00010332 -2.35107e-05   \n",
      "      p3    -8.73696e-06 -7.83362e-05  2.86043e-06  0.000980404  0.000173972   \n",
      "      p4     0.000377801   2.8095e-05 -6.64059e-05  2.15071e-05   0.00198122   \n",
      "      p5    -0.000732055  0.000118682 -0.000291056   0.00316864 -0.000701645   \n",
      "...                  ...          ...          ...          ...          ...   \n",
      "15-30 p4     0.000237758  -0.00045816  0.000619334  -0.00254084  0.000370974   \n",
      "      p5     4.80966e-05 -9.68015e-05 -4.84293e-06   0.00114771  0.000161282   \n",
      "      p6     -6.3522e-05 -3.21796e-05  4.90328e-05  0.000310621  0.000231643   \n",
      "      p7      0.00105687 -0.000592543   0.00104083   0.00330816   0.00381831   \n",
      "      p8    -0.000972567  0.000352252    0.0042912   0.00412157   0.00606998   \n",
      "\n",
      "                   WTvar  TSonicvar  \n",
      "STime Point                          \n",
      "16-00 p1      0.00230899   0.015042  \n",
      "      p2     6.58923e-05   0.005920  \n",
      "      p3     -0.00023266   0.009519  \n",
      "      p4      0.00453722   0.068498  \n",
      "      p5     0.000662067   0.010970  \n",
      "...                  ...        ...  \n",
      "15-30 p4      0.00501119   0.070657  \n",
      "      p5     -0.00053003   0.009786  \n",
      "      p6     0.000949142   0.008594  \n",
      "      p7      0.00180294   0.021348  \n",
      "      p8      0.00374773   0.012639  \n",
      "\n",
      "[384 rows x 18 columns]\n"
     ]
    },
    {
     "name": "stderr",
     "output_type": "stream",
     "text": [
      "\n"
     ]
    },
    {
     "data": {
      "text/plain": [
       "'Vavg = np.mean(V4Hz[i*AverageSample:(i+1)*AverageSample])\\nWavg = np.mean(W4Hz[i*AverageSample:(i+1)*AverageSample])\\nTSonicavg = np.mean(TSonic4Hz[i*AverageSample:(i+1)*AverageSample])\\nSavg = np.mean(np.sqrt(U4Hz[i*AverageSample:(i+1)*AverageSample] ** 2 +                             V4Hz[i*AverageSample:(i+1)*AverageSample] ** 2))'"
      ]
     },
     "execution_count": 50,
     "metadata": {},
     "output_type": "execute_result"
    }
   ],
   "source": [
    "points=['p1','p2','p3','p4','p5','p6','p7','p8']\n",
    "\n",
    "my_index = pd.MultiIndex(levels=[[],[]],\n",
    "                         codes=[[],[]],\n",
    "                             names=[u'STime', u'Point'])\n",
    "my_columns = [u'Uavg',u'Vavg',u'Wavg','Savg',u'TSonicavg',u'RHavg',u'T_HMP60avg',u'Uvar',u'Vvar',u'Wvar',u'k',\n",
    "             u'UVvar',u'UWvar',u'VWvar',u'UTvar',u'VTvar',u'WTvar']\n",
    "\n",
    "p_data = pd.DataFrame(index=my_index, columns=my_columns)\n",
    "\n",
    "for dtime in tqdm(files):\n",
    "    for point in points:\n",
    "        p_data.loc[(dtime,point),'Uavg'] = np.mean(data.loc[(dtime,point),'U (m s^-1)'])\n",
    "        p_data.loc[(dtime,point),'Vavg'] = np.mean(data.loc[(dtime,point),'V (m s^-1)'])\n",
    "        p_data.loc[(dtime,point),'Wavg'] = np.mean(data.loc[(dtime,point),'W (m s^-1)'])\n",
    "        p_data.loc[(dtime,point),'TSonicavg'] = np.mean(data.loc[(dtime,point),'TSonic (K)'])-273.15 #shift to Celcius\n",
    "        p_data.loc[(dtime,point),'RHavg'] = np.mean(data.loc[(dtime,point),'RH (%)'])\n",
    "        p_data.loc[(dtime,point),'T_HMP60avg'] = np.mean(data.loc[(dtime,point),'T_HMP60 (C)'])\n",
    "        p_data.loc[(dtime,point),'Savg'] = np.mean(np.sqrt(data.loc[(dtime,point),'U (m s^-1)']**2+\n",
    "                                                           data.loc[(dtime,point),'V (m s^-1)']**2))\n",
    "        \n",
    "        \n",
    "        x = [j for j in range(0, len(data.loc[(dtime,point),'U (m s^-1)']))]\n",
    "        U = data.loc[(dtime,point),'U (m s^-1)']\n",
    "        Umodel = np.polyfit(x,U,1)\n",
    "        Utrend = np.polyval(Umodel,x)\n",
    "        Udetrended = U - Utrend\n",
    "        V = data.loc[(dtime,point),'V (m s^-1)']\n",
    "        Vmodel = np.polyfit(x,V,1)\n",
    "        Vtrend = np.polyval(Vmodel,x)\n",
    "        Vdetrended = V - Vtrend\n",
    "        W = data.loc[(dtime,point),'W (m s^-1)']\n",
    "        Wmodel = np.polyfit(x,W,1)\n",
    "        Wtrend = np.polyval(Wmodel,x)\n",
    "        Wdetrended = W - Wtrend\n",
    "        TSonic =  data.loc[(dtime,point),'TSonic (K)']\n",
    "        TSonicmodel = np.polyfit(x, TSonic,1)\n",
    "        TSonictrend = np.polyval( TSonicmodel,x)\n",
    "        TSonicdetrended =  TSonic -  TSonictrend\n",
    "        \n",
    "        UVCovMatrix = np.cov(Udetrended, Vdetrended)\n",
    "        UWCovMatrix = np.cov(Udetrended, Wdetrended)\n",
    "        VWCovMatrix = np.cov(Vdetrended, Wdetrended)\n",
    "        UTSonicCovMatrix = np.cov(Udetrended, TSonicdetrended)\n",
    "        VTSonicCovMatrix = np.cov(Vdetrended, TSonicdetrended)\n",
    "        WTSonicCovMatrix = np.cov(Wdetrended, TSonicdetrended)\n",
    "\n",
    "        p_data.loc[(dtime,point),'Uvar'] = UVCovMatrix[0,0]\n",
    "        p_data.loc[(dtime,point),'Vvar'] = UVCovMatrix[1,1]\n",
    "        p_data.loc[(dtime,point),'Wvar'] = UWCovMatrix[1,1]\n",
    "        p_data.loc[(dtime,point),'TSonicvar'] = UTSonicCovMatrix[1,1]\n",
    "        p_data.loc[(dtime,point),'k'] = 1/2*(p_data.loc[(dtime,point),'Uvar']+p_data.loc[(dtime,point),'Vvar']+p_data.loc[(dtime,point),'Wvar'])\n",
    "\n",
    "        p_data.loc[(dtime,point),'UVvar'] = UVCovMatrix[0,1]\n",
    "        p_data.loc[(dtime,point),'UWvar'] = UWCovMatrix[0,1]\n",
    "        p_data.loc[(dtime,point),'VWvar'] = VWCovMatrix[0,1]\n",
    "        p_data.loc[(dtime,point),'UTvar'] = UTSonicCovMatrix[0,1]\n",
    "        p_data.loc[(dtime,point),'VTvar'] = VTSonicCovMatrix[0,1]\n",
    "        p_data.loc[(dtime,point),'WTvar'] = WTSonicCovMatrix[0,1]\n",
    "\n",
    "    \n",
    "print(p_data)\n",
    "    \n",
    "    \n",
    "    \n",
    "'''Vavg = np.mean(V4Hz[i*AverageSample:(i+1)*AverageSample])\n",
    "Wavg = np.mean(W4Hz[i*AverageSample:(i+1)*AverageSample])\n",
    "TSonicavg = np.mean(TSonic4Hz[i*AverageSample:(i+1)*AverageSample])\n",
    "Savg = np.mean(np.sqrt(U4Hz[i*AverageSample:(i+1)*AverageSample] ** 2 + \\\n",
    "                            V4Hz[i*AverageSample:(i+1)*AverageSample] ** 2))'''"
   ]
  },
  {
   "cell_type": "code",
   "execution_count": 32,
   "metadata": {
    "scrolled": false
   },
   "outputs": [
    {
     "name": "stderr",
     "output_type": "stream",
     "text": [
      "C:\\Users\\jdiro\\anaconda3\\lib\\site-packages\\pandas\\core\\indexing.py:1762: PerformanceWarning: indexing past lexsort depth may impact performance.\n",
      "  return self._getitem_tuple(key)\n"
     ]
    },
    {
     "data": {
      "text/plain": [
       "Index\n",
       "13339   -0.248\n",
       "13340   -0.247\n",
       "13341   -0.096\n",
       "13342   -0.096\n",
       "13343   -0.096\n",
       "         ...  \n",
       "14951    0.012\n",
       "14952    0.012\n",
       "14953    0.012\n",
       "14954    0.012\n",
       "14955    0.012\n",
       "Name: U (m s^-1), Length: 1617, dtype: float64"
      ]
     },
     "execution_count": 32,
     "metadata": {},
     "output_type": "execute_result"
    }
   ],
   "source": [
    "data.loc[(dtime,point),'U (m s^-1)']"
   ]
  },
  {
   "cell_type": "code",
   "execution_count": 48,
   "metadata": {},
   "outputs": [
    {
     "data": {
      "text/plain": [
       "1623"
      ]
     },
     "execution_count": 48,
     "metadata": {},
     "output_type": "execute_result"
    }
   ],
   "source": [
    "len(data.loc[(dtime,point),'U (m s^-1)'])"
   ]
  },
  {
   "cell_type": "code",
   "execution_count": null,
   "metadata": {},
   "outputs": [],
   "source": []
  }
 ],
 "metadata": {
  "kernelspec": {
   "display_name": "Python 3",
   "language": "python",
   "name": "python3"
  },
  "language_info": {
   "codemirror_mode": {
    "name": "ipython",
    "version": 3
   },
   "file_extension": ".py",
   "mimetype": "text/x-python",
   "name": "python",
   "nbconvert_exporter": "python",
   "pygments_lexer": "ipython3",
   "version": "3.8.3"
  }
 },
 "nbformat": 4,
 "nbformat_minor": 4
}
